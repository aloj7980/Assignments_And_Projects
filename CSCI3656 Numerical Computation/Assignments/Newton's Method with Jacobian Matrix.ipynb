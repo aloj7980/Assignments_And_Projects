{
 "cells": [
  {
   "cell_type": "code",
   "execution_count": 68,
   "id": "a5d9069d-34e9-4fe2-bd31-37123b41f27b",
   "metadata": {},
   "outputs": [],
   "source": [
    "import math\n",
    "import numpy as np\n",
    "def f1(x,y):\n",
    "    return x**3-y**3+x\n",
    "def f2(x,y):\n",
    "    return x**2+y**2-1"
   ]
  },
  {
   "cell_type": "code",
   "execution_count": 69,
   "id": "9e74d792-43de-42be-96a6-ad70f928b501",
   "metadata": {},
   "outputs": [
    {
     "data": {
      "text/plain": [
       "<matplotlib.patches.Circle at 0x7fdd52c9f370>"
      ]
     },
     "execution_count": 69,
     "metadata": {},
     "output_type": "execute_result"
    },
    {
     "data": {
      "image/png": "[encoded data removed]",
      "text/plain": [
       "<Figure size 432x288 with 1 Axes>"
      ]
     },
     "metadata": {},
     "output_type": "display_data"
    }
   ],
   "source": [
    "%matplotlib inline\n",
    "import matplotlib.pyplot as plt\n",
    "plt.style.use('seaborn-whitegrid')\n",
    "figure, axes = plt.subplots()\n",
    "xr=np.arange(-2,2,0.001)\n",
    "yr=(xr**3+xr)**1/3\n",
    "func=f1(xr,yr)\n",
    "axes.plot(xr,yr)\n",
    "cir=plt.Circle((0,0),1,fill=False)\n",
    "axes.add_artist(cir)"
   ]
  },
  {
   "cell_type": "code",
   "execution_count": 88,
   "id": "9f637855-88d9-4ff8-81f3-59b16379dda5",
   "metadata": {},
   "outputs": [
    {
     "name": "stdout",
     "output_type": "stream",
     "text": [
      "0.507992 0.861362\n"
     ]
    }
   ],
   "source": [
    "def jacobian(x,y):\n",
    "    #calculated manually in problem #2\n",
    "    l1=[3*x**2+1,-3*y**2]\n",
    "    l2=[2*x,2*y]\n",
    "    return [l1,l2]\n",
    "def newtonsMethod(x1,x2):\n",
    "    x=[x1,x2]\n",
    "    f=[f1(x1,x2),f2(x1,x2)]\n",
    "    h = np.linalg.solve(jacobian(x1,x2),f)\n",
    "    count = 0\n",
    "    while abs(h[0]) >= 0.0001 or abs(h[1]) >= 0.0001:\n",
    "        if jacobian(x1,x2) == None:\n",
    "            return None\n",
    "        f=[f1(x1,x2),f2(x1,x2)]\n",
    "        h = np.linalg.solve(jacobian(x1,x2),f)\n",
    "        x = x - h\n",
    "        x1=x[0]\n",
    "        x2=x[1]\n",
    "        count = count + 1\n",
    "        if count > 1000:\n",
    "            return None\n",
    "    return x\n",
    "ans=newtonsMethod(1,1)\n",
    "print(\"%f %f\"%(ans[0],ans[1]))"
   ]
  },
  {
   "cell_type": "code",
   "execution_count": null,
   "id": "1a1bab9c-7ab7-43d6-a3a0-8ec8097a80f5",
   "metadata": {},
   "outputs": [],
   "source": []
  }
 ],
 "metadata": {
  "kernelspec": {
   "display_name": "Python 3 (ipykernel)",
   "language": "python",
   "name": "python3"
  },
  "language_info": {
   "codemirror_mode": {
    "name": "ipython",
    "version": 3
   },
   "file_extension": ".py",
   "mimetype": "text/x-python",
   "name": "python",
   "nbconvert_exporter": "python",
   "pygments_lexer": "ipython3",
   "version": "3.10.8"
  }
 },
 "nbformat": 4,
 "nbformat_minor": 5
}

{
 "cells": [
  {
   "cell_type": "code",
   "execution_count": 1,
   "id": "e8e79f74-e421-46a0-9aac-0c6ff671d1d1",
   "metadata": {},
   "outputs": [
    {
     "name": "stdout",
     "output_type": "stream",
     "text": [
      "Size of A_40: 101 x 40\n",
      "Rank of A_40: 40\n",
      "Condition Number of A_40: 74\n",
      "\n"
     ]
    },
    {
     "name": "stderr",
     "output_type": "stream",
     "text": [
      "/tmp/ipykernel_191/3401615674.py:36: FutureWarning: `rcond` parameter will change to the default of machine precision times ``max(M, N)`` where M and N are the input matrix dimensions.\n",
      "To use the future default and silence this warning we advise to pass `rcond=None`, to keep using the old, explicitly pass `rcond=-1`.\n",
      "  trueSol=np.array(np.linalg.lstsq(ak,b[i]))[0]\n",
      "/tmp/ipykernel_191/3401615674.py:36: VisibleDeprecationWarning: Creating an ndarray from ragged nested sequences (which is a list-or-tuple of lists-or-tuples-or ndarrays with different lengths or shapes) is deprecated. If you meant to do this, you must specify 'dtype=object' when creating the ndarray.\n",
      "  trueSol=np.array(np.linalg.lstsq(ak,b[i]))[0]\n"
     ]
    },
    {
     "name": "stdout",
     "output_type": "stream",
     "text": [
      "Size of A_41: 101 x 41\n",
      "Rank of A_41: 41\n",
      "Condition Number of A_41: 103\n",
      "\n",
      "Size of A_42: 101 x 42\n",
      "Rank of A_42: 42\n",
      "Condition Number of A_42: 152\n",
      "\n",
      "Size of A_43: 101 x 43\n",
      "Rank of A_43: 43\n",
      "Condition Number of A_43: 217\n",
      "\n",
      "Size of A_44: 101 x 44\n",
      "Rank of A_44: 44\n",
      "Condition Number of A_44: 328\n",
      "\n",
      "Size of A_45: 101 x 45\n",
      "Rank of A_45: 45\n",
      "Condition Number of A_45: 483\n",
      "\n",
      "Size of A_46: 101 x 46\n",
      "Rank of A_46: 46\n",
      "Condition Number of A_46: 753\n",
      "\n",
      "Size of A_47: 101 x 47\n",
      "Rank of A_47: 47\n",
      "Condition Number of A_47: 1140\n",
      "\n",
      "Size of A_48: 101 x 48\n",
      "Rank of A_48: 48\n",
      "Condition Number of A_48: 1826\n",
      "\n",
      "Size of A_49: 101 x 49\n",
      "Rank of A_49: 49\n",
      "Condition Number of A_49: 2846\n",
      "\n",
      "Size of A_50: 101 x 50\n",
      "Rank of A_50: 50\n",
      "Condition Number of A_50: 4695\n",
      "\n",
      "Size of A_51: 101 x 51\n",
      "Rank of A_51: 51\n",
      "Condition Number of A_51: 7530\n",
      "\n",
      "Size of A_52: 101 x 52\n",
      "Rank of A_52: 52\n",
      "Condition Number of A_52: 12789\n",
      "\n",
      "Size of A_53: 101 x 53\n",
      "Rank of A_53: 53\n",
      "Condition Number of A_53: 21122\n",
      "\n",
      "Size of A_54: 101 x 54\n",
      "Rank of A_54: 54\n",
      "Condition Number of A_54: 36949\n",
      "\n",
      "Size of A_55: 101 x 55\n",
      "Rank of A_55: 55\n",
      "Condition Number of A_55: 62868\n",
      "\n",
      "Size of A_56: 101 x 56\n",
      "Rank of A_56: 56\n",
      "Condition Number of A_56: 113329\n",
      "\n",
      "Size of A_57: 101 x 57\n",
      "Rank of A_57: 57\n",
      "Condition Number of A_57: 198770\n",
      "\n",
      "Size of A_58: 101 x 58\n",
      "Rank of A_58: 58\n",
      "Condition Number of A_58: 369475\n",
      "\n",
      "Size of A_59: 101 x 59\n",
      "Rank of A_59: 59\n",
      "Condition Number of A_59: 668493\n",
      "\n",
      "Size of A_60: 101 x 60\n",
      "Rank of A_60: 60\n",
      "Condition Number of A_60: 1282274\n",
      "\n",
      "Size of A_61: 101 x 61\n",
      "Rank of A_61: 61\n",
      "Condition Number of A_61: 2395303\n",
      "\n",
      "Size of A_62: 101 x 62\n",
      "Rank of A_62: 62\n",
      "Condition Number of A_62: 4745459\n",
      "\n",
      "Size of A_63: 101 x 63\n",
      "Rank of A_63: 63\n",
      "Condition Number of A_63: 9161533\n",
      "\n",
      "Size of A_64: 101 x 64\n",
      "Rank of A_64: 64\n",
      "Condition Number of A_64: 18765738\n",
      "\n",
      "Size of A_65: 101 x 65\n",
      "Rank of A_65: 65\n",
      "Condition Number of A_65: 37486287\n",
      "\n",
      "[7.203431515886851, 15.089718458514904, 28.784317201165514, 44.046052558617404, 63.027049569144246, 72.02556906714457, 146.77771161941885, 183.84669909600206, 289.6827920421498, 461.37183324511926, 844.870121791649, 1247.370172383688, 2021.9195651297428, 3420.1893515492643, 6219.352071410182, 13199.808763261211, 21835.556842054983, 36650.70102204228, 48225.68182502649, 109965.23877681553, 206746.22256975394, 521255.9478168184, 1349391.415268647, 1543794.0455338818, 3729356.4278464825, 8741600.247632012]\n"
     ]
    }
   ],
   "source": [
    "%matplotlib inline\n",
    "import matplotlib.pyplot as plt\n",
    "plt.style.use('seaborn-whitegrid')\n",
    "import numpy as np\n",
    "import math\n",
    "import random\n",
    "import scipy\n",
    "import scipy.linalg\n",
    "with open('mat1-2.txt', 'r') as f:\n",
    "    m = [[float(num) for num in line.split(',')] for line in f]\n",
    "def randomList(numElements):\n",
    "    myList = []\n",
    "    for i in range(0,numElements):\n",
    "        myList.append(random.uniform(-1,1))\n",
    "    return myList\n",
    "b=[]\n",
    "for i in range(0,101):\n",
    "    b.append(randomList(101))\n",
    "errorsNormal=[]\n",
    "errorsQR=[]\n",
    "conditionNumbers=[]\n",
    "for k in range(40,66):\n",
    "    akList=[]\n",
    "    averageNormalError=0\n",
    "    averageQRError=0\n",
    "    for i in range(0,len(m)):\n",
    "        akList.append([])\n",
    "        for j in range(0,k):\n",
    "            akList[i].append(m[i][j])\n",
    "    ak=np.array(akList)\n",
    "    print(\"Size of A_%d: %d x %d\"%(k,len(ak),len(ak[0])))\n",
    "    print(\"Rank of A_%d: %d\"%(k,np.linalg.matrix_rank(ak)))\n",
    "    print(\"Condition Number of A_%d: %d\"%(k,np.linalg.cond(ak)))\n",
    "    print()\n",
    "    for i in range(0,100):\n",
    "        trueSol=np.array(np.linalg.lstsq(ak,b[i]))[0]\n",
    "        #Cholesky raised an error for me so I used LU\n",
    "        lower=scipy.linalg.lu(np.matmul(ak.T,ak))[1]\n",
    "        upper=scipy.linalg.lu(np.matmul(ak.T,ak))[2]\n",
    "        n=len(np.matmul(ak.T,ak))\n",
    "        thisB=np.matmul(ak.T,b[i])\n",
    "        y=np.linalg.solve(lower,thisB)\n",
    "        normalSol=np.linalg.solve(upper,y)\n",
    "        q,r=np.linalg.qr(ak)\n",
    "        projection=np.dot(q.T,b[i])\n",
    "        qrSol=np.linalg.solve(r,projection)\n",
    "        normalError=np.linalg.norm(normalSol-trueSol)/np.linalg.norm(trueSol)\n",
    "        qrError=np.linalg.norm(qrSol-trueSol)/np.linalg.norm(trueSol)\n",
    "        averageNormalError+=normalError\n",
    "        averageQRError+=qrError\n",
    "    averageNormalError/=100\n",
    "    averageQRError/=100\n",
    "    errorsNormal.append(averageNormalError)\n",
    "    errorsQR.append(averageQRError)\n",
    "    conditionNumbers.append(np.linalg.cond(ak))\n",
    "ks=[]\n",
    "for i in range(40,66):\n",
    "    ks.append(i)"
   ]
  },
  {
   "cell_type": "code",
   "execution_count": 49,
   "id": "392d5454-47e3-4830-ab3a-872d1e803dff",
   "metadata": {},
   "outputs": [
    {
     "data": {
      "image/png": "[encoded data removed]",
      "text/plain": [
       "<Figure size 432x288 with 1 Axes>"
      ]
     },
     "metadata": {},
     "output_type": "display_data"
    }
   ],
   "source": [
    "plt.plot(ks, errorsNormal, 'o', color='black');"
   ]
  },
  {
   "cell_type": "code",
   "execution_count": 45,
   "id": "b87cd4bf-b9dd-47a9-b67d-1fc48162569c",
   "metadata": {},
   "outputs": [
    {
     "data": {
      "image/png": "[encoded data removed]",
      "text/plain": [
       "<Figure size 432x288 with 1 Axes>"
      ]
     },
     "metadata": {},
     "output_type": "display_data"
    }
   ],
   "source": [
    "plt.plot(ks, errorsQR, 'o', color='black');"
   ]
  },
  {
   "cell_type": "code",
   "execution_count": 50,
   "id": "447a7309-2be2-4fe5-a55e-e1a2fb1df676",
   "metadata": {},
   "outputs": [
    {
     "data": {
      "image/png": "[encoded data removed]",
      "text/plain": [
       "<Figure size 432x288 with 1 Axes>"
      ]
     },
     "metadata": {},
     "output_type": "display_data"
    }
   ],
   "source": [
    "plt.plot(ks, conditionNumbers, 'o', color='black');"
   ]
  },
  {
   "cell_type": "code",
   "execution_count": null,
   "id": "85dbd5e9-2d8e-4696-a14d-6d9e1c74ad2d",
   "metadata": {},
   "outputs": [],
   "source": []
  }
 ],
 "metadata": {
  "kernelspec": {
   "display_name": "Python 3 (ipykernel)",
   "language": "python",
   "name": "python3"
  },
  "language_info": {
   "codemirror_mode": {
    "name": "ipython",
    "version": 3
   },
   "file_extension": ".py",
   "mimetype": "text/x-python",
   "name": "python",
   "nbconvert_exporter": "python",
   "pygments_lexer": "ipython3",
   "version": "3.10.8"
  }
 },
 "nbformat": 4,
 "nbformat_minor": 5
}

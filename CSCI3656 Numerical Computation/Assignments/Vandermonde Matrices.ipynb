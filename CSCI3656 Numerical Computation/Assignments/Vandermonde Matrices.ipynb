{
 "cells": [
  {
   "cell_type": "code",
   "execution_count": 28,
   "id": "0a0e887c-2dc1-42f1-97ed-c79a17dbbf7e",
   "metadata": {},
   "outputs": [
    {
     "name": "stdout",
     "output_type": "stream",
     "text": [
      "          x      f(x)\n",
      "0 -5.000000  0.006693\n",
      "1 -3.333333  0.034445\n",
      "2 -1.666667  0.158869\n",
      "3  0.000000  0.500000\n",
      "4  1.666667  0.841131\n",
      "5  3.333333  0.965555\n",
      "6  5.000000  0.993307\n",
      "\n",
      "Mean: 0.500000 Standard Deviation: 0.390193\n",
      "\n",
      "Error: 2.289838\n"
     ]
    }
   ],
   "source": [
    "%matplotlib inline\n",
    "import matplotlib.pyplot as plt\n",
    "plt.style.use('seaborn-whitegrid')\n",
    "import numpy as np\n",
    "import math\n",
    "import pandas\n",
    "x=[]\n",
    "myTable=[]\n",
    "b=[]\n",
    "for i in range(0,7):\n",
    "    x.append(-5.0+((10.0/6.0)*i))\n",
    "def f(x):\n",
    "    return 1/(1+math.exp(-x))\n",
    "for i in range(0,7):\n",
    "    b.append(f(x[i]))\n",
    "for i in range(0,7):\n",
    "    myTable.append([x[i],b[i]])\n",
    "head=[\"x\",\"f(x)\"]\n",
    "print(pandas.DataFrame(myTable, columns=head))\n",
    "a=np.vander(x)\n",
    "solution=np.linalg.solve(a,b)\n",
    "def vand(coefficients,x):\n",
    "    solution=0\n",
    "    for i in range(0,len(coefficients)):\n",
    "        solution+=coefficients[i]*(x**(len(coefficients)-1-i))\n",
    "    return solution\n",
    "x1=[]\n",
    "for i in range(0,101):\n",
    "    x1.append(-5.0+(0.1*i))\n",
    "y=[]\n",
    "for i in range(0,101):\n",
    "    y.append(f(x1[i]))\n",
    "print()\n",
    "print(\"Mean: %f Standard Deviation: %f\"%(np.mean(y),np.std(y)))\n",
    "p6=[]\n",
    "for i in range(0,101):\n",
    "    p6.append(vand(solution,x1[i]))\n",
    "errors=[]\n",
    "for i in range(0,101):\n",
    "    errors.append(abs(y[i]-p6[i])/abs(y[i]))\n",
    "print()\n",
    "print(\"Error: %f\"%(max(errors)))"
   ]
  },
  {
   "cell_type": "code",
   "execution_count": 24,
   "id": "e13a00d0-e7e5-456a-a588-b2a567ec61b8",
   "metadata": {},
   "outputs": [
    {
     "data": {
      "image/png": "[encoded data removed]",
      "text/plain": [
       "<Figure size 432x288 with 1 Axes>"
      ]
     },
     "metadata": {},
     "output_type": "display_data"
    }
   ],
   "source": [
    "y1=[]\n",
    "for i in range(0,101):\n",
    "    y1.append(f(x1[i]))\n",
    "plt.plot(x1, y1, 'o', color='black');"
   ]
  },
  {
   "cell_type": "code",
   "execution_count": 25,
   "id": "598f3346-5f0d-49e4-a09c-09fea2c69ead",
   "metadata": {},
   "outputs": [
    {
     "data": {
      "image/png": "[encoded data removed]",
      "text/plain": [
       "<Figure size 432x288 with 1 Axes>"
      ]
     },
     "metadata": {},
     "output_type": "display_data"
    }
   ],
   "source": [
    "y2=[]\n",
    "for i in range(0,101):\n",
    "    y2.append(vand(solution,x1[i]))\n",
    "plt.plot(x1, y2, 'o', color='black');"
   ]
  },
  {
   "cell_type": "code",
   "execution_count": 29,
   "id": "0dc2cf57-319c-4b03-95a3-476336692343",
   "metadata": {},
   "outputs": [
    {
     "name": "stdout",
     "output_type": "stream",
     "text": [
      "          x          f(x)\n",
      "0 -5.000000  1.928750e-22\n",
      "1 -3.333333  3.338238e-15\n",
      "2 -1.666667  5.777748e-08\n",
      "3  0.000000  5.000000e-01\n",
      "4  1.666667  9.999999e-01\n",
      "5  3.333333  1.000000e+00\n",
      "6  5.000000  1.000000e+00\n",
      "\n",
      "Mean: 0.500000 Standard Deviation: 0.489999\n",
      "\n",
      "Error: 63101461467430133760.000000\n"
     ]
    }
   ],
   "source": [
    "x=[]\n",
    "myTable=[]\n",
    "b=[]\n",
    "for i in range(0,7):\n",
    "    x.append(-5.0+((10.0/6.0)*i))\n",
    "def f(x):\n",
    "    return 1/(1+math.exp(-10*x))\n",
    "for i in range(0,7):\n",
    "    b.append(f(x[i]))\n",
    "for i in range(0,7):\n",
    "    myTable.append([x[i],b[i]])\n",
    "head=[\"x\",\"f(x)\"]\n",
    "print(pandas.DataFrame(myTable, columns=head))\n",
    "a=np.vander(x)\n",
    "solution=np.linalg.solve(a,b)\n",
    "def vand(coefficients,x):\n",
    "    solution=0\n",
    "    for i in range(0,len(coefficients)):\n",
    "        solution+=coefficients[i]*(x**(len(coefficients)-1-i))\n",
    "    return solution\n",
    "x1=[]\n",
    "for i in range(0,101):\n",
    "    x1.append(-5.0+(0.1*i))\n",
    "y=[]\n",
    "for i in range(0,101):\n",
    "    y.append(f(x1[i]))\n",
    "print()\n",
    "print(\"Mean: %f Standard Deviation: %f\"%(np.mean(y),np.std(y)))\n",
    "p6=[]\n",
    "for i in range(0,101):\n",
    "    p6.append(vand(solution,x1[i]))\n",
    "errors=[]\n",
    "for i in range(0,101):\n",
    "    errors.append(abs(y[i]-p6[i])/abs(y[i]))\n",
    "print()\n",
    "print(\"Error: %f\"%(max(errors)))"
   ]
  },
  {
   "cell_type": "code",
   "execution_count": 30,
   "id": "6d49924d-770b-4e71-bca4-bf67aa012021",
   "metadata": {},
   "outputs": [
    {
     "data": {
      "image/png": "[encoded data removed]",
      "text/plain": [
       "<Figure size 432x288 with 1 Axes>"
      ]
     },
     "metadata": {},
     "output_type": "display_data"
    }
   ],
   "source": [
    "y1=[]\n",
    "for i in range(0,101):\n",
    "    y1.append(f(x1[i]))\n",
    "plt.plot(x1, y1, 'o', color='black');"
   ]
  },
  {
   "cell_type": "code",
   "execution_count": 31,
   "id": "3c1d0c41-2ac3-4fec-ad2a-c6c0787c14d6",
   "metadata": {},
   "outputs": [
    {
     "data": {
      "image/png": "[encoded data removed]",
      "text/plain": [
       "<Figure size 432x288 with 1 Axes>"
      ]
     },
     "metadata": {},
     "output_type": "display_data"
    }
   ],
   "source": [
    "y2=[]\n",
    "for i in range(0,101):\n",
    "    y2.append(vand(solution,x1[i]))\n",
    "plt.plot(x1, y2, 'o', color='black');"
   ]
  },
  {
   "cell_type": "code",
   "execution_count": null,
   "id": "938a7960-9f62-467d-bcba-bd6746f30ea1",
   "metadata": {},
   "outputs": [],
   "source": []
  }
 ],
 "metadata": {
  "kernelspec": {
   "display_name": "Python 3 (ipykernel)",
   "language": "python",
   "name": "python3"
  },
  "language_info": {
   "codemirror_mode": {
    "name": "ipython",
    "version": 3
   },
   "file_extension": ".py",
   "mimetype": "text/x-python",
   "name": "python",
   "nbconvert_exporter": "python",
   "pygments_lexer": "ipython3",
   "version": "3.10.8"
  }
 },
 "nbformat": 4,
 "nbformat_minor": 5
}

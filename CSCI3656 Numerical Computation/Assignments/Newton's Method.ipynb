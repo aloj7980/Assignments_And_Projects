{
 "cells": [
  {
   "cell_type": "code",
   "execution_count": 52,
   "id": "2801151a-09fe-4e61-b616-52634095a79f",
   "metadata": {},
   "outputs": [],
   "source": [
    "import numpy as np\n",
    "import math\n",
    "def f(x):\n",
    "    return (1/(1+math.exp(x)))-(1/2)\n",
    "def fprime(x):\n",
    "    ans=0\n",
    "    try:\n",
    "        ans = (-math.exp(x))/((1 + math.exp(x)) ** 2)\n",
    "    except OverflowError:\n",
    "        ans = None\n",
    "    return ans\n",
    "def newtonsMethod(x):\n",
    "    h = f(x) / fprime(x)\n",
    "    count = 0\n",
    "    while abs(h) >= 0.0001:\n",
    "        if fprime(x) == None:\n",
    "            return None\n",
    "        if fprime(x) == 0:\n",
    "            return None\n",
    "        h = f(x)/fprime(x)\n",
    "        x = x - h\n",
    "        count = count + 1\n",
    "        if count > 1000:\n",
    "            return None\n",
    "    return x"
   ]
  },
  {
   "cell_type": "code",
   "execution_count": 56,
   "id": "6b9b9ff4-9db1-4cef-b243-f361239eef6a",
   "metadata": {},
   "outputs": [
    {
     "name": "stdout",
     "output_type": "stream",
     "text": [
      "The interval in which Newton's method converges for this function is [-2.177368,2.177368]\n"
     ]
    }
   ],
   "source": [
    "def findInterval(x, increment):\n",
    "    if increment < 0.0001:\n",
    "        return x\n",
    "    if newtonsMethod(x) == None:\n",
    "        return findInterval(x-increment,increment/2)\n",
    "    else:\n",
    "        return findInterval(x+increment,increment/2)\n",
    "#For this to work, we need an initial guess for x where either x converges and x + increment diverges,\n",
    "#or where x diverges and x - increment converges.\n",
    "#I tested x = 2 and x = 2.5 and 2 converged and 2.5 diverged so I used x = 2 as my initial guess\n",
    "a = findInterval(2.0,0.5)\n",
    "print(\"The interval in which Newton's method converges for this function is [%f,%f]\"%(-a,a))"
   ]
  },
  {
   "cell_type": "code",
   "execution_count": null,
   "id": "632e7d94-906a-491b-b809-1824c4d88b08",
   "metadata": {},
   "outputs": [],
   "source": []
  }
 ],
 "metadata": {
  "kernelspec": {
   "display_name": "Python 3 (ipykernel)",
   "language": "python",
   "name": "python3"
  },
  "language_info": {
   "codemirror_mode": {
    "name": "ipython",
    "version": 3
   },
   "file_extension": ".py",
   "mimetype": "text/x-python",
   "name": "python",
   "nbconvert_exporter": "python",
   "pygments_lexer": "ipython3",
   "version": "3.9.6"
  }
 },
 "nbformat": 4,
 "nbformat_minor": 5
}

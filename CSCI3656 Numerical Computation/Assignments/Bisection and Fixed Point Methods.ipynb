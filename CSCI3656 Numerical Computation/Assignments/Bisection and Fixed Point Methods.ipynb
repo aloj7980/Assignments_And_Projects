{
 "cells": [
  {
   "cell_type": "code",
   "execution_count": 14,
   "id": "215ac49f-1215-4f03-88f8-dcacff7caab6",
   "metadata": {},
   "outputs": [
    {
     "name": "stdout",
     "output_type": "stream",
     "text": [
      "Solution 1: -0.568726 Solution 2: 1.318726\n",
      "Error Plot for First 10 Iterations\n"
     ]
    },
    {
     "data": {
      "image/png": "[encoded data removed]",
      "text/plain": [
       "<Figure size 432x288 with 1 Axes>"
      ]
     },
     "metadata": {},
     "output_type": "display_data"
    }
   ],
   "source": [
    "%matplotlib inline\n",
    "import matplotlib.pyplot as plt\n",
    "plt.style.use('seaborn-whitegrid')\n",
    "import numpy as np\n",
    "import math\n",
    "num=0\n",
    "myList = [1,2,3,4,5,6,7,8,9,10]\n",
    "errorList = []\n",
    "def bisect(a,b):\n",
    "    c=(a+b)/2\n",
    "    solution = 4*(c ** 2)-3*c-3\n",
    "    if len(errorList)<10:\n",
    "        errorList.append(abs(solution))\n",
    "    if solution < 0.0001 and solution > -0.0001:\n",
    "        return c\n",
    "    elif (4*(a ** 2)-3*a-3)*solution < 0:\n",
    "        return bisect(a,c)\n",
    "    elif (4*(b ** 2)-3*b-3)*solution < 0:\n",
    "        return bisect(c,b)\n",
    "    else:\n",
    "        return np.sqrt(-1)\n",
    "solution1 = bisect(-1,-0.5)\n",
    "solution2 = bisect(1,1.5)\n",
    "print(\"Solution 1: %f Solution 2: %f\"%(solution1,solution2))\n",
    "print(\"Error Plot for First 10 Iterations\")\n",
    "plt.plot(myList, errorList, 'o', color='black');"
   ]
  },
  {
   "cell_type": "code",
   "execution_count": 15,
   "id": "b86aaa41-fb6c-45db-bbaa-5d4da7674ae3",
   "metadata": {},
   "outputs": [
    {
     "name": "stdout",
     "output_type": "stream",
     "text": [
      "Solution 1: -0.568698 Solution 2: 1.318693\n",
      "Error Plot for First 10 Iterations\n"
     ]
    },
    {
     "data": {
      "image/png": "[encoded data removed]",
      "text/plain": [
       "<Figure size 432x288 with 1 Axes>"
      ]
     },
     "metadata": {},
     "output_type": "display_data"
    }
   ],
   "source": [
    "%matplotlib inline\n",
    "import matplotlib.pyplot as plt\n",
    "plt.style.use('seaborn-whitegrid')\n",
    "myList = [1,2,3,4,5,6,7,8,9,10]\n",
    "errorList = []\n",
    "def g(x):\n",
    "    if x > 0:\n",
    "        return np.sqrt(3/4*(x+1))\n",
    "    else:\n",
    "        return -np.sqrt(3/4*(x+1))\n",
    "def fixedpoint(x0):\n",
    "    error = 9999999\n",
    "    x = None\n",
    "    i = 0\n",
    "    while(error > 0.0001 and i < 999999):\n",
    "        x = g(x0)\n",
    "        error = abs(x0-x)\n",
    "        if len(errorList)<10:\n",
    "            errorList.append(error)\n",
    "        x0 = x\n",
    "        i += 1\n",
    "    return x\n",
    "solution1 = fixedpoint(-0.75)\n",
    "solution2 = fixedpoint(1.25)\n",
    "print(\"Solution 1: %f Solution 2: %f\"%(solution1,solution2))\n",
    "print(\"Error Plot for First 10 Iterations\")\n",
    "plt.plot(myList, errorList, 'o', color='black');"
   ]
  },
  {
   "cell_type": "code",
   "execution_count": null,
   "id": "cbd6434c-f459-4bed-932f-abae9d6be3f1",
   "metadata": {},
   "outputs": [],
   "source": []
  }
 ],
 "metadata": {
  "kernelspec": {
   "display_name": "Python 3 (ipykernel)",
   "language": "python",
   "name": "python3"
  },
  "language_info": {
   "codemirror_mode": {
    "name": "ipython",
    "version": 3
   },
   "file_extension": ".py",
   "mimetype": "text/x-python",
   "name": "python",
   "nbconvert_exporter": "python",
   "pygments_lexer": "ipython3",
   "version": "3.9.6"
  }
 },
 "nbformat": 4,
 "nbformat_minor": 5
}

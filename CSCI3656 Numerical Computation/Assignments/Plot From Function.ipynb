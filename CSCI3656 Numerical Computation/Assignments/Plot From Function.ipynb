{
 "cells": [
  {
   "cell_type": "code",
   "execution_count": 9,
   "id": "a638ad63-39bf-4bc5-8826-38752605b7a0",
   "metadata": {},
   "outputs": [
    {
     "name": "stdout",
     "output_type": "stream",
     "text": [
      "∑jyj = 8.387500\n",
      "maxjyj = 1.662500\n",
      "(∑jy2j)1/2 = 2.992703\n"
     ]
    },
    {
     "data": {
      "image/png": "[encoded data removed]",
      "text/plain": [
       "<Figure size 432x288 with 1 Axes>"
      ]
     },
     "metadata": {},
     "output_type": "display_data"
    }
   ],
   "source": [
    "%matplotlib inline\n",
    "import matplotlib.pyplot as plt\n",
    "plt.style.use('seaborn-whitegrid')\n",
    "import numpy as np\n",
    "import math\n",
    "myList = [0.0,0.1,0.2,0.3,0.4,0.5,0.6,0.7,0.8,0.9,1.0]\n",
    "myVector = np.array(myList)\n",
    "myNewVector = (myVector * myVector) + (myVector * 0.5) + 0.1625\n",
    "plt.plot(myVector, myNewVector, 'o', color='black');\n",
    "maxY = -99999.0\n",
    "sumY = 0.0\n",
    "sumSquares = 0.0\n",
    "for x in range(11):\n",
    "    sumY += myNewVector[x]\n",
    "    sumSquares += (myNewVector[x]) ** 2\n",
    "    if myNewVector[x] > maxY :\n",
    "        maxY = myNewVector[x]\n",
    "sqrtSumSquares = math.sqrt(sumSquares)\n",
    "print(\"∑jyj = %f\" %(sumY))\n",
    "print(\"maxjyj = %f\" %(maxY))\n",
    "print(\"(∑jy2j)1/2 = %f\" %(sqrtSumSquares))"
   ]
  },
  {
   "cell_type": "code",
   "execution_count": null,
   "id": "2a1f0418-c957-4b1e-b6e1-fb9c670c0506",
   "metadata": {},
   "outputs": [],
   "source": []
  }
 ],
 "metadata": {
  "kernelspec": {
   "display_name": "Python 3 (ipykernel)",
   "language": "python",
   "name": "python3"
  },
  "language_info": {
   "codemirror_mode": {
    "name": "ipython",
    "version": 3
   },
   "file_extension": ".py",
   "mimetype": "text/x-python",
   "name": "python",
   "nbconvert_exporter": "python",
   "pygments_lexer": "ipython3",
   "version": "3.9.6"
  }
 },
 "nbformat": 4,
 "nbformat_minor": 5
}

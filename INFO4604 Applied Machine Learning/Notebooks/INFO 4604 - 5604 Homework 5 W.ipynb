{
 "cells": [
  {
   "cell_type": "code",
   "execution_count": null,
   "id": "ebf2e055",
   "metadata": {},
   "outputs": [],
   "source": []
  },
  {
   "cell_type": "code",
   "execution_count": null,
   "id": "c5530636",
   "metadata": {},
   "outputs": [],
   "source": [
    "                                      ###### Homework 5 - Part 3 ###########"
   ]
  },
  {
   "cell_type": "code",
   "execution_count": null,
   "id": "27838b40",
   "metadata": {},
   "outputs": [],
   "source": []
  },
  {
   "cell_type": "code",
   "execution_count": null,
   "id": "e31152e0",
   "metadata": {},
   "outputs": [],
   "source": [
    "#Note the following:\n",
    "\n",
    "#1. Each question is worth 1 point\n",
    "#2. Write your name and student ID below\n",
    "#3. Remember to save your file and upload to Canvas\n",
    "#4. Add your name and ID below"
   ]
  },
  {
   "cell_type": "code",
   "execution_count": null,
   "id": "ac54e7e8",
   "metadata": {},
   "outputs": [],
   "source": []
  },
  {
   "cell_type": "code",
   "execution_count": null,
   "id": "2147425f",
   "metadata": {},
   "outputs": [],
   "source": [
    "#Student Name: Alex Ojemann\n",
    "\n",
    "#Student ID: 109722375"
   ]
  },
  {
   "cell_type": "code",
   "execution_count": 1,
   "id": "aa91c34c",
   "metadata": {},
   "outputs": [],
   "source": [
    "#SETUP CELL - Make sure you run this cell first!\n",
    "\n",
    "\n",
    "\n",
    "import pandas as pd\n",
    "from sklearn.neighbors import KNeighborsClassifier\n",
    "import seaborn as sns #Import Python Seaborn\n",
    "from seaborn import load_dataset\n",
    "\n",
    "\n",
    "# Load and display the first rows of the penguins dataset\n",
    "\n",
    "df = load_dataset('penguins')\n",
    "\n",
    "\n",
    "#Splitting our DataFrame into features and target\n",
    "\n",
    "df = df.dropna()\n",
    "\n",
    "X = df[['bill_length_mm']]\n",
    "y = df['species']\n",
    "\n",
    "\n",
    "\n",
    "# Splitting data into training and testing data\n",
    "from sklearn.model_selection import train_test_split\n",
    "\n",
    "X_train, X_test, y_train, y_test = train_test_split(X, y, random_state = 100)"
   ]
  },
  {
   "cell_type": "code",
   "execution_count": null,
   "id": "d9f2cb6f",
   "metadata": {},
   "outputs": [],
   "source": []
  },
  {
   "cell_type": "code",
   "execution_count": 2,
   "id": "39d50398",
   "metadata": {},
   "outputs": [],
   "source": [
    "#Note that this Cell is called CELL X\n",
    "\n",
    "#You are not required to run this cell\n",
    "\n",
    "#The goal of the next set of questions is to see the effects of different configurations of\n",
    "#the KNeigborsClassifier() function on KNN model accuracy scores\n",
    "\n",
    "\n",
    "#Suppose you have the following initial configuration for KNeigborsClassifier():\n",
    "\n",
    "KNN = KNeighborsClassifier(\n",
    "    n_neighbors=5,          # The number of neighbours to consider\n",
    "    weights='uniform',      # How to weight distances (e.g uniform or distance)\n",
    "    algorithm='auto',       # Algorithm to compute the neighbors\n",
    "    leaf_size=30,           # The leaf size to speed up searches\n",
    "    p=2,                    # The power parameter for the Minkowski metric. 2 = Euclidean distance; p=1 is for Manhattan distance\n",
    "    metric='minkowski',     # The type of distance to use. This generalizes Euclidean and Manhattan distance\n",
    "    metric_params=None,     # Keyword arguments for the metric function\n",
    "    n_jobs=None             # How many parallel jobs to run\n",
    ")"
   ]
  },
  {
   "cell_type": "code",
   "execution_count": null,
   "id": "3ea55c64",
   "metadata": {},
   "outputs": [],
   "source": []
  },
  {
   "cell_type": "code",
   "execution_count": 3,
   "id": "14c363f8",
   "metadata": {},
   "outputs": [],
   "source": [
    "#Question 1\n",
    "\n",
    "#Copy and paste the code in CELL X above below in this cell and make the following configuration changes\n",
    "\n",
    "#Set n_neighbors = 5\n",
    "#Set p = 1\n",
    "#Set weights = uniform\n",
    "\n",
    "#Make sure to run this cell when you have made the configuration changes listed above\n",
    "\n",
    "#Write your answer below:\n",
    "KNN = KNeighborsClassifier(\n",
    "    n_neighbors=5,          # The number of neighbours to consider\n",
    "    weights='uniform',      # How to weight distances (e.g uniform or distance)\n",
    "    algorithm='auto',       # Algorithm to compute the neighbors\n",
    "    leaf_size=30,           # The leaf size to speed up searches\n",
    "    p=1,                    # The power parameter for the Minkowski metric. 2 = Euclidean distance; p=1 is for Manhattan distance\n",
    "    metric='minkowski',     # The type of distance to use. This generalizes Euclidean and Manhattan distance\n",
    "    metric_params=None,     # Keyword arguments for the metric function\n",
    "    n_jobs=None             # How many parallel jobs to run\n",
    ")"
   ]
  },
  {
   "cell_type": "code",
   "execution_count": 4,
   "id": "2ce25aa7",
   "metadata": {},
   "outputs": [
    {
     "data": {
      "text/html": [
       "<style>#sk-container-id-1 {color: black;background-color: white;}#sk-container-id-1 pre{padding: 0;}#sk-container-id-1 div.sk-toggleable {background-color: white;}#sk-container-id-1 label.sk-toggleable__label {cursor: pointer;display: block;width: 100%;margin-bottom: 0;padding: 0.3em;box-sizing: border-box;text-align: center;}#sk-container-id-1 label.sk-toggleable__label-arrow:before {content: \"▸\";float: left;margin-right: 0.25em;color: #696969;}#sk-container-id-1 label.sk-toggleable__label-arrow:hover:before {color: black;}#sk-container-id-1 div.sk-estimator:hover label.sk-toggleable__label-arrow:before {color: black;}#sk-container-id-1 div.sk-toggleable__content {max-height: 0;max-width: 0;overflow: hidden;text-align: left;background-color: #f0f8ff;}#sk-container-id-1 div.sk-toggleable__content pre {margin: 0.2em;color: black;border-radius: 0.25em;background-color: #f0f8ff;}#sk-container-id-1 input.sk-toggleable__control:checked~div.sk-toggleable__content {max-height: 200px;max-width: 100%;overflow: auto;}#sk-container-id-1 input.sk-toggleable__control:checked~label.sk-toggleable__label-arrow:before {content: \"▾\";}#sk-container-id-1 div.sk-estimator input.sk-toggleable__control:checked~label.sk-toggleable__label {background-color: #d4ebff;}#sk-container-id-1 div.sk-label input.sk-toggleable__control:checked~label.sk-toggleable__label {background-color: #d4ebff;}#sk-container-id-1 input.sk-hidden--visually {border: 0;clip: rect(1px 1px 1px 1px);clip: rect(1px, 1px, 1px, 1px);height: 1px;margin: -1px;overflow: hidden;padding: 0;position: absolute;width: 1px;}#sk-container-id-1 div.sk-estimator {font-family: monospace;background-color: #f0f8ff;border: 1px dotted black;border-radius: 0.25em;box-sizing: border-box;margin-bottom: 0.5em;}#sk-container-id-1 div.sk-estimator:hover {background-color: #d4ebff;}#sk-container-id-1 div.sk-parallel-item::after {content: \"\";width: 100%;border-bottom: 1px solid gray;flex-grow: 1;}#sk-container-id-1 div.sk-label:hover label.sk-toggleable__label {background-color: #d4ebff;}#sk-container-id-1 div.sk-serial::before {content: \"\";position: absolute;border-left: 1px solid gray;box-sizing: border-box;top: 0;bottom: 0;left: 50%;z-index: 0;}#sk-container-id-1 div.sk-serial {display: flex;flex-direction: column;align-items: center;background-color: white;padding-right: 0.2em;padding-left: 0.2em;position: relative;}#sk-container-id-1 div.sk-item {position: relative;z-index: 1;}#sk-container-id-1 div.sk-parallel {display: flex;align-items: stretch;justify-content: center;background-color: white;position: relative;}#sk-container-id-1 div.sk-item::before, #sk-container-id-1 div.sk-parallel-item::before {content: \"\";position: absolute;border-left: 1px solid gray;box-sizing: border-box;top: 0;bottom: 0;left: 50%;z-index: -1;}#sk-container-id-1 div.sk-parallel-item {display: flex;flex-direction: column;z-index: 1;position: relative;background-color: white;}#sk-container-id-1 div.sk-parallel-item:first-child::after {align-self: flex-end;width: 50%;}#sk-container-id-1 div.sk-parallel-item:last-child::after {align-self: flex-start;width: 50%;}#sk-container-id-1 div.sk-parallel-item:only-child::after {width: 0;}#sk-container-id-1 div.sk-dashed-wrapped {border: 1px dashed gray;margin: 0 0.4em 0.5em 0.4em;box-sizing: border-box;padding-bottom: 0.4em;background-color: white;}#sk-container-id-1 div.sk-label label {font-family: monospace;font-weight: bold;display: inline-block;line-height: 1.2em;}#sk-container-id-1 div.sk-label-container {text-align: center;}#sk-container-id-1 div.sk-container {/* jupyter's `normalize.less` sets `[hidden] { display: none; }` but bootstrap.min.css set `[hidden] { display: none !important; }` so we also need the `!important` here to be able to override the default hidden behavior on the sphinx rendered scikit-learn.org. See: https://github.com/scikit-learn/scikit-learn/issues/21755 */display: inline-block !important;position: relative;}#sk-container-id-1 div.sk-text-repr-fallback {display: none;}</style><div id=\"sk-container-id-1\" class=\"sk-top-container\"><div class=\"sk-text-repr-fallback\"><pre>KNeighborsClassifier(p=1)</pre><b>In a Jupyter environment, please rerun this cell to show the HTML representation or trust the notebook. <br />On GitHub, the HTML representation is unable to render, please try loading this page with nbviewer.org.</b></div><div class=\"sk-container\" hidden><div class=\"sk-item\"><div class=\"sk-estimator sk-toggleable\"><input class=\"sk-toggleable__control sk-hidden--visually\" id=\"sk-estimator-id-1\" type=\"checkbox\" checked><label for=\"sk-estimator-id-1\" class=\"sk-toggleable__label sk-toggleable__label-arrow\">KNeighborsClassifier</label><div class=\"sk-toggleable__content\"><pre>KNeighborsClassifier(p=1)</pre></div></div></div></div></div>"
      ],
      "text/plain": [
       "KNeighborsClassifier(p=1)"
      ]
     },
     "execution_count": 4,
     "metadata": {},
     "output_type": "execute_result"
    }
   ],
   "source": [
    "#Question 2\n",
    "\n",
    "\n",
    "#Considering the objects used to hold the training data set in the SETUP CELL above,\n",
    "#Write Python code to fit a KNN model on X_train and y_train \n",
    "\n",
    "#Use the object KNN that is holding your current configuration for the .fit() function\n",
    "\n",
    "#Run this cell after writing your answer below.\n",
    "\n",
    "#Write your answer below:\n",
    "\n",
    "\n",
    "KNN.fit(X_train,y_train)"
   ]
  },
  {
   "cell_type": "code",
   "execution_count": 5,
   "id": "0bdf58e0",
   "metadata": {},
   "outputs": [],
   "source": [
    "#Question 3\n",
    "\n",
    "#Using the object KNN that is holding your current configuration,\n",
    "#Write Python code to predict outcomes for X_test\n",
    "\n",
    "#Store/assign your code in/to an object called y_pred\n",
    "\n",
    "#Run this cell after writing your answer below.\n",
    "\n",
    "#Write your answer below:\n",
    "\n",
    "\n",
    "y_pred = KNN.predict(X_test)"
   ]
  },
  {
   "cell_type": "code",
   "execution_count": null,
   "id": "92c6c4a0",
   "metadata": {},
   "outputs": [],
   "source": []
  },
  {
   "cell_type": "code",
   "execution_count": 6,
   "id": "02e65439",
   "metadata": {},
   "outputs": [
    {
     "name": "stdout",
     "output_type": "stream",
     "text": [
      "              precision    recall  f1-score   support\n",
      "\n",
      "      Adelie       0.91      0.88      0.90        34\n",
      "   Chinstrap       0.33      0.35      0.34        17\n",
      "      Gentoo       0.61      0.61      0.61        33\n",
      "\n",
      "    accuracy                           0.67        84\n",
      "   macro avg       0.62      0.61      0.61        84\n",
      "weighted avg       0.67      0.67      0.67        84\n",
      "\n"
     ]
    }
   ],
   "source": [
    "\n",
    "#Run this cell to generate and print the classification report of the model\n",
    "#built on your current KNN configuration\n",
    "\n",
    "#Note the accuracy score below:\n",
    "\n",
    "from sklearn.metrics import classification_report, confusion_matrix\n",
    "print(classification_report(y_test, y_pred))"
   ]
  },
  {
   "cell_type": "code",
   "execution_count": null,
   "id": "bf90cf35",
   "metadata": {},
   "outputs": [],
   "source": [
    "#Question 4\n",
    "\n",
    "#What is the accuracy score from the classification report above?\n",
    "\n",
    "#Write your answer below:\n",
    "\n"
   ]
  },
  {
   "cell_type": "markdown",
   "id": "9158d885-644e-4dab-a103-41a340fbf588",
   "metadata": {},
   "source": [
    "0.67"
   ]
  },
  {
   "cell_type": "code",
   "execution_count": 7,
   "id": "3dc22de1",
   "metadata": {},
   "outputs": [],
   "source": [
    "#Question 5\n",
    "\n",
    "#Copy and paste the code in CELL X above below in this cell and make the following configuration changes\n",
    "\n",
    "#Set n_neighbors = 10\n",
    "#Set p = 2\n",
    "#Set weights = distance\n",
    "\n",
    "#Make sure to run this cell when you have made the configuration changes\n",
    "\n",
    "#Write your answer below:\n",
    "\n",
    "KNN = KNeighborsClassifier(\n",
    "    n_neighbors=10,          # The number of neighbours to consider\n",
    "    weights='distance',      # How to weight distances (e.g uniform or distance)\n",
    "    algorithm='auto',       # Algorithm to compute the neighbors\n",
    "    leaf_size=30,           # The leaf size to speed up searches\n",
    "    p=2,                    # The power parameter for the Minkowski metric. 2 = Euclidean distance; p=1 is for Manhattan distance\n",
    "    metric='minkowski',     # The type of distance to use. This generalizes Euclidean and Manhattan distance\n",
    "    metric_params=None,     # Keyword arguments for the metric function\n",
    "    n_jobs=None             # How many parallel jobs to run\n",
    ")"
   ]
  },
  {
   "cell_type": "code",
   "execution_count": null,
   "id": "e69e641d",
   "metadata": {},
   "outputs": [],
   "source": []
  },
  {
   "cell_type": "code",
   "execution_count": 8,
   "id": "ca2b0d7a",
   "metadata": {},
   "outputs": [
    {
     "data": {
      "text/html": [
       "<style>#sk-container-id-2 {color: black;background-color: white;}#sk-container-id-2 pre{padding: 0;}#sk-container-id-2 div.sk-toggleable {background-color: white;}#sk-container-id-2 label.sk-toggleable__label {cursor: pointer;display: block;width: 100%;margin-bottom: 0;padding: 0.3em;box-sizing: border-box;text-align: center;}#sk-container-id-2 label.sk-toggleable__label-arrow:before {content: \"▸\";float: left;margin-right: 0.25em;color: #696969;}#sk-container-id-2 label.sk-toggleable__label-arrow:hover:before {color: black;}#sk-container-id-2 div.sk-estimator:hover label.sk-toggleable__label-arrow:before {color: black;}#sk-container-id-2 div.sk-toggleable__content {max-height: 0;max-width: 0;overflow: hidden;text-align: left;background-color: #f0f8ff;}#sk-container-id-2 div.sk-toggleable__content pre {margin: 0.2em;color: black;border-radius: 0.25em;background-color: #f0f8ff;}#sk-container-id-2 input.sk-toggleable__control:checked~div.sk-toggleable__content {max-height: 200px;max-width: 100%;overflow: auto;}#sk-container-id-2 input.sk-toggleable__control:checked~label.sk-toggleable__label-arrow:before {content: \"▾\";}#sk-container-id-2 div.sk-estimator input.sk-toggleable__control:checked~label.sk-toggleable__label {background-color: #d4ebff;}#sk-container-id-2 div.sk-label input.sk-toggleable__control:checked~label.sk-toggleable__label {background-color: #d4ebff;}#sk-container-id-2 input.sk-hidden--visually {border: 0;clip: rect(1px 1px 1px 1px);clip: rect(1px, 1px, 1px, 1px);height: 1px;margin: -1px;overflow: hidden;padding: 0;position: absolute;width: 1px;}#sk-container-id-2 div.sk-estimator {font-family: monospace;background-color: #f0f8ff;border: 1px dotted black;border-radius: 0.25em;box-sizing: border-box;margin-bottom: 0.5em;}#sk-container-id-2 div.sk-estimator:hover {background-color: #d4ebff;}#sk-container-id-2 div.sk-parallel-item::after {content: \"\";width: 100%;border-bottom: 1px solid gray;flex-grow: 1;}#sk-container-id-2 div.sk-label:hover label.sk-toggleable__label {background-color: #d4ebff;}#sk-container-id-2 div.sk-serial::before {content: \"\";position: absolute;border-left: 1px solid gray;box-sizing: border-box;top: 0;bottom: 0;left: 50%;z-index: 0;}#sk-container-id-2 div.sk-serial {display: flex;flex-direction: column;align-items: center;background-color: white;padding-right: 0.2em;padding-left: 0.2em;position: relative;}#sk-container-id-2 div.sk-item {position: relative;z-index: 1;}#sk-container-id-2 div.sk-parallel {display: flex;align-items: stretch;justify-content: center;background-color: white;position: relative;}#sk-container-id-2 div.sk-item::before, #sk-container-id-2 div.sk-parallel-item::before {content: \"\";position: absolute;border-left: 1px solid gray;box-sizing: border-box;top: 0;bottom: 0;left: 50%;z-index: -1;}#sk-container-id-2 div.sk-parallel-item {display: flex;flex-direction: column;z-index: 1;position: relative;background-color: white;}#sk-container-id-2 div.sk-parallel-item:first-child::after {align-self: flex-end;width: 50%;}#sk-container-id-2 div.sk-parallel-item:last-child::after {align-self: flex-start;width: 50%;}#sk-container-id-2 div.sk-parallel-item:only-child::after {width: 0;}#sk-container-id-2 div.sk-dashed-wrapped {border: 1px dashed gray;margin: 0 0.4em 0.5em 0.4em;box-sizing: border-box;padding-bottom: 0.4em;background-color: white;}#sk-container-id-2 div.sk-label label {font-family: monospace;font-weight: bold;display: inline-block;line-height: 1.2em;}#sk-container-id-2 div.sk-label-container {text-align: center;}#sk-container-id-2 div.sk-container {/* jupyter's `normalize.less` sets `[hidden] { display: none; }` but bootstrap.min.css set `[hidden] { display: none !important; }` so we also need the `!important` here to be able to override the default hidden behavior on the sphinx rendered scikit-learn.org. See: https://github.com/scikit-learn/scikit-learn/issues/21755 */display: inline-block !important;position: relative;}#sk-container-id-2 div.sk-text-repr-fallback {display: none;}</style><div id=\"sk-container-id-2\" class=\"sk-top-container\"><div class=\"sk-text-repr-fallback\"><pre>KNeighborsClassifier(n_neighbors=10, weights=&#x27;distance&#x27;)</pre><b>In a Jupyter environment, please rerun this cell to show the HTML representation or trust the notebook. <br />On GitHub, the HTML representation is unable to render, please try loading this page with nbviewer.org.</b></div><div class=\"sk-container\" hidden><div class=\"sk-item\"><div class=\"sk-estimator sk-toggleable\"><input class=\"sk-toggleable__control sk-hidden--visually\" id=\"sk-estimator-id-2\" type=\"checkbox\" checked><label for=\"sk-estimator-id-2\" class=\"sk-toggleable__label sk-toggleable__label-arrow\">KNeighborsClassifier</label><div class=\"sk-toggleable__content\"><pre>KNeighborsClassifier(n_neighbors=10, weights=&#x27;distance&#x27;)</pre></div></div></div></div></div>"
      ],
      "text/plain": [
       "KNeighborsClassifier(n_neighbors=10, weights='distance')"
      ]
     },
     "execution_count": 8,
     "metadata": {},
     "output_type": "execute_result"
    }
   ],
   "source": [
    "#Question 6\n",
    "\n",
    "\n",
    "#Considering the objects used to hold the training data set in the setup section above,\n",
    "#Write Python code to fit a KNN model on X_train and y_train \n",
    "\n",
    "#Use the object KNN that is holding your current configuration for the .fit() function\n",
    "#Run this cell after writing your answer below\n",
    "\n",
    "#Write your answer below:\n",
    "\n",
    "\n",
    "KNN.fit(X_train,y_train)"
   ]
  },
  {
   "cell_type": "code",
   "execution_count": null,
   "id": "ddcb645c",
   "metadata": {},
   "outputs": [],
   "source": []
  },
  {
   "cell_type": "code",
   "execution_count": 9,
   "id": "a602e8fe",
   "metadata": {},
   "outputs": [],
   "source": [
    "#Question 7\n",
    "\n",
    "#Using the object KNN that is holding your current configuration,\n",
    "#Write Python code to predict outcomes for X_test\n",
    "\n",
    "#Store/assign your code in/to an object called y_pred\n",
    "\n",
    "\n",
    "#Write your answer below:\n",
    "\n",
    "\n",
    "y_pred = KNN.predict(X_test)"
   ]
  },
  {
   "cell_type": "code",
   "execution_count": null,
   "id": "3dd6a506",
   "metadata": {},
   "outputs": [],
   "source": []
  },
  {
   "cell_type": "code",
   "execution_count": 10,
   "id": "e78da019",
   "metadata": {},
   "outputs": [
    {
     "name": "stdout",
     "output_type": "stream",
     "text": [
      "              precision    recall  f1-score   support\n",
      "\n",
      "      Adelie       0.94      0.91      0.93        34\n",
      "   Chinstrap       0.22      0.35      0.27        17\n",
      "      Gentoo       0.46      0.33      0.39        33\n",
      "\n",
      "    accuracy                           0.57        84\n",
      "   macro avg       0.54      0.53      0.53        84\n",
      "weighted avg       0.61      0.57      0.58        84\n",
      "\n"
     ]
    }
   ],
   "source": [
    "\n",
    "\n",
    "#Run this cell to generate and print the classification report of the model\n",
    "#built on your current KNN configuration\n",
    "\n",
    "\n",
    "#Note the accuracy score below:\n",
    "\n",
    "from sklearn.metrics import classification_report, confusion_matrix\n",
    "print(classification_report(y_test, y_pred))"
   ]
  },
  {
   "cell_type": "code",
   "execution_count": null,
   "id": "7caf64a8",
   "metadata": {},
   "outputs": [],
   "source": []
  },
  {
   "cell_type": "code",
   "execution_count": null,
   "id": "4ae0be28",
   "metadata": {},
   "outputs": [],
   "source": [
    "#Question 8\n",
    "\n",
    "#What is the accuracy score from the classification report above?\n",
    "\n",
    "#Write your answer below:\n",
    "\n"
   ]
  },
  {
   "cell_type": "markdown",
   "id": "f534646e-63d5-4676-a25d-8072847eb33d",
   "metadata": {},
   "source": [
    "0.57"
   ]
  },
  {
   "cell_type": "code",
   "execution_count": null,
   "id": "67033adc",
   "metadata": {},
   "outputs": [],
   "source": [
    "#Question 9\n",
    "\n",
    "#Compare the accuracy from Question 4 with the accuracy from Question 8\n",
    "#Is there a decline or increase in the accuracy score?\n",
    "\n",
    "#Write your answer below:\n",
    "\n",
    "\n"
   ]
  },
  {
   "cell_type": "markdown",
   "id": "56082bf9-bc7a-4077-a524-562ec87b5aed",
   "metadata": {},
   "source": [
    "There is a decline in the accuracy score of 0.1."
   ]
  },
  {
   "cell_type": "code",
   "execution_count": null,
   "id": "f0554eaf",
   "metadata": {},
   "outputs": [],
   "source": [
    "#Question 10\n",
    "\n",
    "\n",
    "#Based on the accuracy scores you compared in Question 9 above, What is the absolute value of \n",
    "#the change in accuracy score starting from the score in Question 4 to the score in Question 8?\n",
    "\n",
    "#Write your answer below:\n",
    "\n",
    "\n"
   ]
  },
  {
   "cell_type": "markdown",
   "id": "504ef7ee-1cf4-4425-8c95-1c6db682032e",
   "metadata": {},
   "source": [
    "0.1"
   ]
  },
  {
   "cell_type": "code",
   "execution_count": null,
   "id": "e649abdd",
   "metadata": {},
   "outputs": [],
   "source": []
  },
  {
   "cell_type": "code",
   "execution_count": null,
   "id": "23797309",
   "metadata": {},
   "outputs": [],
   "source": [
    "                                           ###End of Homework 5 - Part 3###"
   ]
  },
  {
   "cell_type": "code",
   "execution_count": null,
   "id": "d48a1523",
   "metadata": {},
   "outputs": [],
   "source": []
  }
 ],
 "metadata": {
  "kernelspec": {
   "display_name": "Python 3 (ipykernel)",
   "language": "python",
   "name": "python3"
  },
  "language_info": {
   "codemirror_mode": {
    "name": "ipython",
    "version": 3
   },
   "file_extension": ".py",
   "mimetype": "text/x-python",
   "name": "python",
   "nbconvert_exporter": "python",
   "pygments_lexer": "ipython3",
   "version": "3.10.8"
  }
 },
 "nbformat": 4,
 "nbformat_minor": 5
}

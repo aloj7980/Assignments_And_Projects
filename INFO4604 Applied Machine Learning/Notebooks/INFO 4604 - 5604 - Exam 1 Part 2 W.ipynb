{
 "cells": [
  {
   "cell_type": "markdown",
   "id": "cf8e6f4e",
   "metadata": {},
   "source": [
    "# INFO 4604 - 5604: Exam 1 - Part 2"
   ]
  },
  {
   "cell_type": "code",
   "execution_count": null,
   "id": "ae3f41bf",
   "metadata": {},
   "outputs": [],
   "source": [
    "#Instructions:\n",
    "\n",
    "#1. Write your name and student ID below:\n",
    "#2. Each question is worth 1 point\n",
    "#3. Remember to save your work and upload the file back into Canvas\n",
    "#4. Deadline for submission on Canvas is 11:59PM Boulder Time, February 16, 2023"
   ]
  },
  {
   "cell_type": "code",
   "execution_count": null,
   "id": "d82cc41c",
   "metadata": {},
   "outputs": [],
   "source": [
    "#Student Name: Alex Ojemann\n",
    "\n",
    "#Student ID: 109722375\n",
    "\n"
   ]
  },
  {
   "cell_type": "code",
   "execution_count": 1,
   "id": "abfc93c7",
   "metadata": {},
   "outputs": [],
   "source": [
    "#RUN THIS CELL FIRST TO ANSWER QUESTIONS 1 - 2\n",
    "\n",
    "# load numpy\n",
    "import numpy as np\n",
    "# load pandas\n",
    "import pandas as pd\n",
    "\n",
    "#Create a numpy array with 10 integers\n",
    "# We use Numpy's random module to generate random numbers\n",
    "# between 25 and 200\n",
    "\n",
    "# set a random seed to reproduce\n",
    "np.random.seed(123)\n",
    "# create 10 random integers  \n",
    "x = np.random.randint(low=55, high=650, size=10)"
   ]
  },
  {
   "cell_type": "code",
   "execution_count": 2,
   "id": "3bb72c39",
   "metadata": {},
   "outputs": [
    {
     "data": {
      "text/plain": [
       "array([2, 2, 2, 2, 1, 1, 1, 1, 2, 1])"
      ]
     },
     "execution_count": 2,
     "metadata": {},
     "output_type": "execute_result"
    }
   ],
   "source": [
    "#Question 1\n",
    "\n",
    "#Write Python code to discretize x into the following 3 categories:\n",
    "\n",
    "#values less than 55\n",
    "#values greater than 55 but less than 300\n",
    "#values greater than 300\n",
    "\n",
    "#Do not assign the code to an object\n",
    "\n",
    "#Write your answer below:\n",
    "\n",
    "np.digitize(x,bins=[55,300])"
   ]
  },
  {
   "cell_type": "code",
   "execution_count": 3,
   "id": "285748c1",
   "metadata": {},
   "outputs": [
    {
     "data": {
      "text/plain": [
       "array([3, 3, 3, 3, 3, 1, 3, 3, 3, 3])"
      ]
     },
     "execution_count": 3,
     "metadata": {},
     "output_type": "execute_result"
    }
   ],
   "source": [
    "#Question 2\n",
    "\n",
    "#Write Python code to discretize x into the following 4 categories:\n",
    "\n",
    "#values less than 55\n",
    "#values greater than 55 but less than 80\n",
    "#values greater than 80 but less than 150\n",
    "#values greater than 150\n",
    "\n",
    "#Do not assign the code to an object - so running this cell displays the result without needing a print statement\n",
    "\n",
    "#Write your answer below:\n",
    "\n",
    "np.digitize(x,bins=[55,80,150])"
   ]
  },
  {
   "cell_type": "code",
   "execution_count": 4,
   "id": "0cea41bc",
   "metadata": {},
   "outputs": [
    {
     "data": {
      "text/html": [
       "<div>\n",
       "<style scoped>\n",
       "    .dataframe tbody tr th:only-of-type {\n",
       "        vertical-align: middle;\n",
       "    }\n",
       "\n",
       "    .dataframe tbody tr th {\n",
       "        vertical-align: top;\n",
       "    }\n",
       "\n",
       "    .dataframe thead th {\n",
       "        text-align: right;\n",
       "    }\n",
       "</style>\n",
       "<table border=\"1\" class=\"dataframe\">\n",
       "  <thead>\n",
       "    <tr style=\"text-align: right;\">\n",
       "      <th></th>\n",
       "      <th>height</th>\n",
       "    </tr>\n",
       "  </thead>\n",
       "  <tbody>\n",
       "    <tr>\n",
       "      <th>0</th>\n",
       "      <td>565</td>\n",
       "    </tr>\n",
       "    <tr>\n",
       "      <th>1</th>\n",
       "      <td>420</td>\n",
       "    </tr>\n",
       "    <tr>\n",
       "      <th>2</th>\n",
       "      <td>437</td>\n",
       "    </tr>\n",
       "    <tr>\n",
       "      <th>3</th>\n",
       "      <td>377</td>\n",
       "    </tr>\n",
       "    <tr>\n",
       "      <th>4</th>\n",
       "      <td>153</td>\n",
       "    </tr>\n",
       "  </tbody>\n",
       "</table>\n",
       "</div>"
      ],
      "text/plain": [
       "   height\n",
       "0     565\n",
       "1     420\n",
       "2     437\n",
       "3     377\n",
       "4     153"
      ]
     },
     "execution_count": 4,
     "metadata": {},
     "output_type": "execute_result"
    }
   ],
   "source": [
    "#RUN THIS CELL FIRST TO ANSWER QUESTIONS 3 - 4\n",
    "\n",
    "#Create a Pandas dataframe with the data we stored in object \n",
    "# x above\n",
    "\n",
    "df = pd.DataFrame({\"height\":x})\n",
    "df.head() # lists the first few observations in dataframe df"
   ]
  },
  {
   "cell_type": "code",
   "execution_count": 7,
   "id": "512d231c",
   "metadata": {},
   "outputs": [],
   "source": [
    "#Question 3\n",
    "\n",
    "#Create a column called binned in the dataframe df\n",
    "#Use the cut() function to discretize values in the dataframe df into the column you created as follows:\n",
    "\n",
    "#height values between 100 and 150 are in one category\n",
    "#height values between 150 and 300 are in a second category\n",
    "#height values between 300 and 500 are in a third category\n",
    "#height values between 500 and 600 are in a fourth category\n",
    "\n",
    "\n",
    "#Write your answer below:\n",
    "\n",
    "\n",
    "df['binned']=pd.cut(x=df['height'], bins=[100,150,300,500,600])\n",
    "\n"
   ]
  },
  {
   "cell_type": "code",
   "execution_count": 8,
   "id": "e7a36344",
   "metadata": {},
   "outputs": [
    {
     "data": {
      "text/html": [
       "<div>\n",
       "<style scoped>\n",
       "    .dataframe tbody tr th:only-of-type {\n",
       "        vertical-align: middle;\n",
       "    }\n",
       "\n",
       "    .dataframe tbody tr th {\n",
       "        vertical-align: top;\n",
       "    }\n",
       "\n",
       "    .dataframe thead th {\n",
       "        text-align: right;\n",
       "    }\n",
       "</style>\n",
       "<table border=\"1\" class=\"dataframe\">\n",
       "  <thead>\n",
       "    <tr style=\"text-align: right;\">\n",
       "      <th></th>\n",
       "      <th>height</th>\n",
       "      <th>binned</th>\n",
       "    </tr>\n",
       "  </thead>\n",
       "  <tbody>\n",
       "    <tr>\n",
       "      <th>0</th>\n",
       "      <td>565</td>\n",
       "      <td>(500, 600]</td>\n",
       "    </tr>\n",
       "    <tr>\n",
       "      <th>1</th>\n",
       "      <td>420</td>\n",
       "      <td>(300, 500]</td>\n",
       "    </tr>\n",
       "    <tr>\n",
       "      <th>2</th>\n",
       "      <td>437</td>\n",
       "      <td>(300, 500]</td>\n",
       "    </tr>\n",
       "    <tr>\n",
       "      <th>3</th>\n",
       "      <td>377</td>\n",
       "      <td>(300, 500]</td>\n",
       "    </tr>\n",
       "    <tr>\n",
       "      <th>4</th>\n",
       "      <td>153</td>\n",
       "      <td>(150, 300]</td>\n",
       "    </tr>\n",
       "  </tbody>\n",
       "</table>\n",
       "</div>"
      ],
      "text/plain": [
       "   height      binned\n",
       "0     565  (500, 600]\n",
       "1     420  (300, 500]\n",
       "2     437  (300, 500]\n",
       "3     377  (300, 500]\n",
       "4     153  (150, 300]"
      ]
     },
     "execution_count": 8,
     "metadata": {},
     "output_type": "execute_result"
    }
   ],
   "source": [
    "#Question 4\n",
    "\n",
    "#Write code to display the first 5 rows of the resulting dataframe df in Question 3 - showing the two columns \"height\" and \"binned\"\n",
    "\n",
    "df.head()"
   ]
  },
  {
   "cell_type": "code",
   "execution_count": 9,
   "id": "284db6ca",
   "metadata": {},
   "outputs": [],
   "source": [
    "#RUN THIS CELL FIRST TO ANSWER QUESTIONS 4 - 5\n",
    "\n",
    "# dictionary of lists\n",
    "dict = {'First Score':[100, 90, np.nan, 95],\n",
    "        'Second Score': [30, 45, 56, np.nan],\n",
    "        'Third Score':[np.nan, 40, 80, 98]}\n",
    " \n"
   ]
  },
  {
   "cell_type": "code",
   "execution_count": 12,
   "id": "1c30c414",
   "metadata": {},
   "outputs": [
    {
     "data": {
      "text/html": [
       "<div>\n",
       "<style scoped>\n",
       "    .dataframe tbody tr th:only-of-type {\n",
       "        vertical-align: middle;\n",
       "    }\n",
       "\n",
       "    .dataframe tbody tr th {\n",
       "        vertical-align: top;\n",
       "    }\n",
       "\n",
       "    .dataframe thead th {\n",
       "        text-align: right;\n",
       "    }\n",
       "</style>\n",
       "<table border=\"1\" class=\"dataframe\">\n",
       "  <thead>\n",
       "    <tr style=\"text-align: right;\">\n",
       "      <th></th>\n",
       "      <th>First Score</th>\n",
       "      <th>Second Score</th>\n",
       "      <th>Third Score</th>\n",
       "    </tr>\n",
       "  </thead>\n",
       "  <tbody>\n",
       "    <tr>\n",
       "      <th>0</th>\n",
       "      <td>100.0</td>\n",
       "      <td>30.0</td>\n",
       "      <td>0.0</td>\n",
       "    </tr>\n",
       "    <tr>\n",
       "      <th>1</th>\n",
       "      <td>90.0</td>\n",
       "      <td>45.0</td>\n",
       "      <td>40.0</td>\n",
       "    </tr>\n",
       "    <tr>\n",
       "      <th>2</th>\n",
       "      <td>0.0</td>\n",
       "      <td>56.0</td>\n",
       "      <td>80.0</td>\n",
       "    </tr>\n",
       "    <tr>\n",
       "      <th>3</th>\n",
       "      <td>95.0</td>\n",
       "      <td>0.0</td>\n",
       "      <td>98.0</td>\n",
       "    </tr>\n",
       "  </tbody>\n",
       "</table>\n",
       "</div>"
      ],
      "text/plain": [
       "   First Score  Second Score  Third Score\n",
       "0        100.0          30.0          0.0\n",
       "1         90.0          45.0         40.0\n",
       "2          0.0          56.0         80.0\n",
       "3         95.0           0.0         98.0"
      ]
     },
     "execution_count": 12,
     "metadata": {},
     "output_type": "execute_result"
    }
   ],
   "source": [
    "#Question 4\n",
    "\n",
    "#Write Python code to convert the dictionary above into a dataframe. Store your result in an object df2\n",
    "\n",
    "#Create a dataframe from dictionary above\n",
    "\n",
    "df2 = pd.DataFrame.from_dict(dict)\n",
    "\n",
    "#Write Python code to fill missing values in dataframe df2 with zeros\n",
    "\n",
    "# filling missing value using fillna()  - replace/hard code missing \n",
    "# values with a 0\n",
    "\n",
    "df2.fillna(0)"
   ]
  },
  {
   "cell_type": "code",
   "execution_count": 15,
   "id": "528e902c",
   "metadata": {},
   "outputs": [
    {
     "data": {
      "text/html": [
       "<div>\n",
       "<style scoped>\n",
       "    .dataframe tbody tr th:only-of-type {\n",
       "        vertical-align: middle;\n",
       "    }\n",
       "\n",
       "    .dataframe tbody tr th {\n",
       "        vertical-align: top;\n",
       "    }\n",
       "\n",
       "    .dataframe thead th {\n",
       "        text-align: right;\n",
       "    }\n",
       "</style>\n",
       "<table border=\"1\" class=\"dataframe\">\n",
       "  <thead>\n",
       "    <tr style=\"text-align: right;\">\n",
       "      <th></th>\n",
       "      <th>First Score</th>\n",
       "      <th>Second Score</th>\n",
       "      <th>Third Score</th>\n",
       "    </tr>\n",
       "  </thead>\n",
       "  <tbody>\n",
       "    <tr>\n",
       "      <th>0</th>\n",
       "      <td>100.0</td>\n",
       "      <td>30.000000</td>\n",
       "      <td>72.666667</td>\n",
       "    </tr>\n",
       "    <tr>\n",
       "      <th>1</th>\n",
       "      <td>90.0</td>\n",
       "      <td>45.000000</td>\n",
       "      <td>40.000000</td>\n",
       "    </tr>\n",
       "    <tr>\n",
       "      <th>2</th>\n",
       "      <td>95.0</td>\n",
       "      <td>56.000000</td>\n",
       "      <td>80.000000</td>\n",
       "    </tr>\n",
       "    <tr>\n",
       "      <th>3</th>\n",
       "      <td>95.0</td>\n",
       "      <td>43.666667</td>\n",
       "      <td>98.000000</td>\n",
       "    </tr>\n",
       "  </tbody>\n",
       "</table>\n",
       "</div>"
      ],
      "text/plain": [
       "   First Score  Second Score  Third Score\n",
       "0        100.0     30.000000    72.666667\n",
       "1         90.0     45.000000    40.000000\n",
       "2         95.0     56.000000    80.000000\n",
       "3         95.0     43.666667    98.000000"
      ]
     },
     "execution_count": 15,
     "metadata": {},
     "output_type": "execute_result"
    }
   ],
   "source": [
    "#Question 5\n",
    "\n",
    "#Write Python code to fill missing values in dataframe df2 in Question 4 above with the mean value of each column\n",
    "\n",
    "# fill missing value using fillna()  - replace/hard code missing \n",
    "# values with the mean value of each column\n",
    "\n",
    "#Write your code below:\n",
    "\n",
    "\n",
    "df2['First Score'].fillna(df['First Score'].mean(), inplace=True)\n",
    "df2['Second Score'].fillna(df['Second Score'].mean(), inplace=True)\n",
    "df2['Third Score'].fillna(df['Third Score'].mean(), inplace=True)\n",
    "df2"
   ]
  },
  {
   "cell_type": "code",
   "execution_count": 16,
   "id": "058a6212",
   "metadata": {},
   "outputs": [],
   "source": [
    "#RUN THIS CELL FIRST TO ANSWER QUESTIONS 6 - 15\n",
    "\n",
    "from numpy import array\n",
    "from numpy.linalg import norm\n",
    "from math import inf\n",
    "\n",
    "# define first vector\n",
    "a = array([4, 12, 13, -65])\n",
    "\n",
    "# define second vector\n",
    "b = array([0.5, 0.5, 0.5,0.4])\n",
    "\n",
    "#define third vector\n",
    "c = array([4, -2, 7])\n",
    "\n",
    "#define fourth vector\n",
    "f = array([5, -22, 17,17])\n",
    "\n",
    "#define first matrix\n",
    "A = array([\n",
    "[4, 25, 3],\n",
    "[2, -5, 6],\n",
    "[0.2, 0.4,-0.9]])\n",
    "\n",
    "# define second matrix\n",
    "B = array([\n",
    "[1, 2, 3],\n",
    "[4, 5, 6]])\n",
    "\n",
    "#define third matrix\n",
    "V = array([\n",
    "[36, 69, 55],\n",
    "[41, 15, 26],\n",
    "[-0.7, 6,-0.89]])\n",
    "\n",
    "#define fourth matrix\n",
    "G = array([\n",
    "[5, 55, 6],\n",
    "[4, 52, 13]])\n",
    "\n",
    "#define fifth matrix\n",
    "Q = array([\n",
    "[0.1, 34, 22],\n",
    "[47, 13, 26],\n",
    "[-0.9, 16,-0.11]])\n",
    "\n"
   ]
  },
  {
   "cell_type": "code",
   "execution_count": 17,
   "id": "0b70d74f",
   "metadata": {},
   "outputs": [
    {
     "data": {
      "text/plain": [
       "array([[ 1.440e+02,  1.725e+03,  1.650e+02],\n",
       "       [ 8.200e+01, -7.500e+01,  1.560e+02],\n",
       "       [-1.400e-01,  2.400e+00,  8.010e-01]])"
      ]
     },
     "execution_count": 17,
     "metadata": {},
     "output_type": "execute_result"
    }
   ],
   "source": [
    "#Question 6\n",
    "\n",
    "#Write Python code below to implement the Hadamard product of matrix V and matrix A\n",
    "\n",
    "V * A"
   ]
  },
  {
   "cell_type": "code",
   "execution_count": 18,
   "id": "f78ae75f",
   "metadata": {},
   "outputs": [
    {
     "data": {
      "text/plain": [
       "array([[ 1.440e+02,  1.025e+03, -2.100e+00],\n",
       "       [ 1.380e+02, -7.500e+01,  3.600e+01],\n",
       "       [ 1.100e+01,  1.040e+01,  8.010e-01]])"
      ]
     },
     "execution_count": 18,
     "metadata": {},
     "output_type": "execute_result"
    }
   ],
   "source": [
    "#Question 7\n",
    "\n",
    "#Write Python code below to implement the Hadamard product of matrix A and the transpose of matrix V\n",
    "\n",
    "A * V.T"
   ]
  },
  {
   "cell_type": "code",
   "execution_count": 19,
   "id": "96c2d9c1",
   "metadata": {},
   "outputs": [
    {
     "data": {
      "text/plain": [
       "array([[ 5.        , 27.5       ,  2.        ],\n",
       "       [ 1.        , 10.4       ,  2.16666667]])"
      ]
     },
     "execution_count": 19,
     "metadata": {},
     "output_type": "execute_result"
    }
   ],
   "source": [
    "#Question 8\n",
    "\n",
    "#Write Python code below to implement element-wise division of matrix G by matrix B\n",
    "\n",
    "\n",
    "G / B"
   ]
  },
  {
   "cell_type": "code",
   "execution_count": 21,
   "id": "f69dbb75",
   "metadata": {},
   "outputs": [
    {
     "data": {
      "text/plain": [
       "32.96968304366907"
      ]
     },
     "execution_count": 21,
     "metadata": {},
     "output_type": "execute_result"
    }
   ],
   "source": [
    "#Question 9\n",
    "\n",
    "#Write Python code below to (1) compute the Euclidean norm of vector f, and (2) to normalize vector f\n",
    "sqSum = 0\n",
    "for elt in f:\n",
    "    sqSum += elt * elt\n",
    "np.sqrt(sqSum)"
   ]
  },
  {
   "cell_type": "code",
   "execution_count": 25,
   "id": "e49505b2",
   "metadata": {},
   "outputs": [
    {
     "name": "stdout",
     "output_type": "stream",
     "text": [
      "13\n",
      "[ 0.30769231  0.92307692  1.         -5.        ]\n",
      "[ 0.80769231  1.42307692  1.5        -4.6       ]\n"
     ]
    }
   ],
   "source": [
    "#Question 10\n",
    "\n",
    "#Write Python code below to:\n",
    "\n",
    "#(1) compute the max norm of vector a\n",
    "#(2) normalize vector a with its max norm\n",
    "#(3) add the result of (2) to vector b\n",
    "\n",
    "\n",
    "print(abs(max(a)))\n",
    "print(a / abs(max(a)))\n",
    "print(b + (a/abs(max(a))))"
   ]
  },
  {
   "cell_type": "code",
   "execution_count": 26,
   "id": "ac4925d5",
   "metadata": {},
   "outputs": [
    {
     "data": {
      "text/plain": [
       "array([[30779.093  , 62248.88   , 42970.3937 ],\n",
       "       [ 4662.086  , -3783.24   ,  -441.6126 ],\n",
       "       [  659.2421 ,  1366.236  ,   905.01789]])"
      ]
     },
     "execution_count": 26,
     "metadata": {},
     "output_type": "execute_result"
    }
   ],
   "source": [
    "#Question 11\n",
    "\n",
    "#Find the matrix-matrix dot product of A, V and Q in that order. Write your Python code below:\n",
    "\n",
    "np.dot(np.dot(A,V),Q)"
   ]
  },
  {
   "cell_type": "code",
   "execution_count": 27,
   "id": "f52dd0c4",
   "metadata": {},
   "outputs": [
    {
     "data": {
      "text/plain": [
       "array([ 86.4 , 344.  , -36.37])"
      ]
     },
     "execution_count": 27,
     "metadata": {},
     "output_type": "execute_result"
    }
   ],
   "source": [
    "#Question 12\n",
    "\n",
    "#Find the matrix-vector product of matrix Q and vector c. Write your Python code below:\n",
    "\n",
    "np.dot(Q,c)"
   ]
  },
  {
   "cell_type": "code",
   "execution_count": 29,
   "id": "bac62e1a",
   "metadata": {},
   "outputs": [
    {
     "name": "stdout",
     "output_type": "stream",
     "text": [
      "[[40.   94.   58.  ]\n",
      " [43.   10.   32.  ]\n",
      " [-0.5   6.4  -1.79]]\n",
      "[[400.           2.76470588   2.63636364]\n",
      " [  0.91489362   0.76923077   1.23076923]\n",
      " [  0.55555556   0.4         16.27272727]]\n"
     ]
    }
   ],
   "source": [
    "#Question 13\n",
    "\n",
    "#(1)Find the sum of A and V. \n",
    "\n",
    "#(2)Divide your answer to (1) by Q\n",
    "\n",
    "#Write your Python code lines below:\n",
    "\n",
    "print(A+V)\n",
    "print((A+V)/Q)"
   ]
  },
  {
   "cell_type": "code",
   "execution_count": 30,
   "id": "3568c5d1",
   "metadata": {},
   "outputs": [
    {
     "data": {
      "text/plain": [
       "array([[364.        ,  27.02941176,   5.5       ],\n",
       "       [  2.87234043,  -3.84615385,   7.        ],\n",
       "       [  0.97777778,   0.775     ,   7.19090909]])"
      ]
     },
     "execution_count": 30,
     "metadata": {},
     "output_type": "execute_result"
    }
   ],
   "source": [
    "#Question 14\n",
    "\n",
    "\n",
    "#(1)Find the sum of A and the division of V by Q. \n",
    "\n",
    "#Write your Python code line(s) below:\n",
    "\n",
    "A+V/Q"
   ]
  },
  {
   "cell_type": "code",
   "execution_count": 46,
   "id": "13751b7e",
   "metadata": {},
   "outputs": [
    {
     "data": {
      "text/plain": [
       "804"
      ]
     },
     "execution_count": 46,
     "metadata": {},
     "output_type": "execute_result"
    }
   ],
   "source": [
    "#Question 15\n",
    "\n",
    "\n",
    "#What is the sum of the top left value/entry of the results in Question 13 and Question 14?\n",
    "\n",
    "#Write your answer below\n",
    "\n",
    "40 + 400 + 364\n",
    "#804\n",
    "#Assuming you wanted us to use both the results from 13 part a and b"
   ]
  },
  {
   "cell_type": "code",
   "execution_count": 39,
   "id": "7b7d06db",
   "metadata": {},
   "outputs": [
    {
     "data": {
      "text/plain": [
       "array([[0.9, 1.8],\n",
       "       [2.7, 3.6],\n",
       "       [4.5, 5.4]])"
      ]
     },
     "execution_count": 39,
     "metadata": {},
     "output_type": "execute_result"
    }
   ],
   "source": [
    "#Question 16\n",
    "\n",
    "#Given the setup and matrix below:\n",
    "\n",
    "from numpy import array\n",
    "from numpy.linalg import norm\n",
    "from math import inf\n",
    "\n",
    "\n",
    "# define matrix\n",
    "K = array([[1, 2], [3, 4], [5, 6]])\n",
    "\n",
    "# If we define scalar b as follows:\n",
    "b = 0.9\n",
    "\n",
    "#Write Python code below to implement scalar multiplication of K by b\n",
    "\n",
    "\n",
    "\n",
    "b* K"
   ]
  },
  {
   "cell_type": "code",
   "execution_count": 40,
   "id": "6960be59",
   "metadata": {},
   "outputs": [
    {
     "data": {
      "text/plain": [
       "array([[ 366.54467668, -112.78297744],\n",
       "       [-648.50212027,  112.78297744],\n",
       "       [  14.09787218, 1719.94040594]])"
      ]
     },
     "execution_count": 40,
     "metadata": {},
     "output_type": "execute_result"
    }
   ],
   "source": [
    "#Question 17\n",
    "\n",
    "#Given the setup and matrix below:\n",
    "\n",
    "from numpy import array\n",
    "from numpy.linalg import norm\n",
    "from math import inf\n",
    "\n",
    "# define matrix\n",
    "B = array([[13, -4], [-23, 4], [0.5, 61]])\n",
    "\n",
    "# If we define vector d as follows:\n",
    "d = [23, 4, 15, -5]\n",
    "\n",
    "#Write Python code below to implement scalar multiplication of B by the Euclidean norm of d\n",
    "\n",
    "sqSum = 0\n",
    "for elt in d:\n",
    "    sqSum += elt * elt\n",
    "np.sqrt(sqSum) * B"
   ]
  },
  {
   "cell_type": "code",
   "execution_count": 41,
   "id": "b100599a",
   "metadata": {},
   "outputs": [
    {
     "data": {
      "text/plain": [
       "array([[  47.  , -157.  , 1469.5 ],\n",
       "       [-329.  ,  539.  ,  843.5 ],\n",
       "       [   4.06,   -9.06,   37.46]])"
      ]
     },
     "execution_count": 41,
     "metadata": {},
     "output_type": "execute_result"
    }
   ],
   "source": [
    "#Question 18\n",
    "\n",
    "from numpy import array\n",
    "from numpy.linalg import norm\n",
    "from math import inf\n",
    "\n",
    "# define matrix B as follows\n",
    "B = array([[11, 24], [-21, 14], [0.5, 0.61]])\n",
    "\n",
    "# define matrix B as follows\n",
    "T = array([[13, -4], [-23, 4], [0.5, 61]])\n",
    "\n",
    "#Write Python code below to find the dot product of B with the transpose of T\n",
    "\n",
    "np.dot(B,T.T)"
   ]
  },
  {
   "cell_type": "code",
   "execution_count": 42,
   "id": "2077a7ca",
   "metadata": {},
   "outputs": [
    {
     "name": "stderr",
     "output_type": "stream",
     "text": [
      "/opt/conda/lib/python3.10/site-packages/sklearn/cluster/_kmeans.py:870: FutureWarning: The default value of `n_init` will change from 10 to 'auto' in 1.4. Set the value of `n_init` explicitly to suppress the warning\n",
      "  warnings.warn(\n"
     ]
    },
    {
     "data": {
      "image/png": "[encoded data removed]",
      "text/plain": [
       "<Figure size 640x480 with 1 Axes>"
      ]
     },
     "metadata": {},
     "output_type": "display_data"
    }
   ],
   "source": [
    "#RUN THIS CELL FIRST TO ANSWER QUESTIONS 19 - 20\n",
    "\n",
    "from sklearn.cluster import KMeans\n",
    "import numpy as np\n",
    "import matplotlib.pyplot as plt\n",
    "from sklearn.datasets import make_blobs\n",
    "\n",
    "#generate dummy cluster datasets\n",
    "K = 4\n",
    "X, y_true = make_blobs(n_samples=300, centers=K, \n",
    "                       cluster_std=0.60, random_state=0)\n",
    "\n",
    "#Fit Model\n",
    "k_means = KMeans(K)\n",
    "k_means.fit(X)\n",
    "\n",
    "cluster_centres = k_means.cluster_centers_\n",
    "\n",
    "y_kmeans = k_means.predict(X)\n",
    "plt.scatter(X[:, 0], X[:, 1], c=y_kmeans, s=50, cmap='viridis')\n",
    "for centroid in cluster_centres:\n",
    "    plt.scatter(centroid[0],  centroid[1], s=300,  c='black', alpha=0.5)"
   ]
  },
  {
   "cell_type": "code",
   "execution_count": 43,
   "id": "0ce3fc2d",
   "metadata": {},
   "outputs": [
    {
     "name": "stderr",
     "output_type": "stream",
     "text": [
      "/opt/conda/lib/python3.10/site-packages/sklearn/cluster/_kmeans.py:870: FutureWarning: The default value of `n_init` will change from 10 to 'auto' in 1.4. Set the value of `n_init` explicitly to suppress the warning\n",
      "  warnings.warn(\n"
     ]
    },
    {
     "data": {
      "image/png": "[encoded data removed]",
      "text/plain": [
       "<Figure size 640x480 with 1 Axes>"
      ]
     },
     "metadata": {},
     "output_type": "display_data"
    }
   ],
   "source": [
    "#Question 19\n",
    "\n",
    "#Perform the following tasks to modify the code above\n",
    "\n",
    "\n",
    "#1. Copy and paste the entire code above into this cell\n",
    "#2. Assign 5 to K to generate a dummy cluster dataset\n",
    "#3. increase the number of samples n_samples to 400\n",
    "#4. Change the cluster standard deviation (cluster_std) to 0.3\n",
    "#5. Reduce the transparency of the centroids by changing alpha to 0.7\n",
    "#6. Run this cell when you have performed (1) - (5) above\n",
    "\n",
    "\n",
    "from sklearn.cluster import KMeans\n",
    "import numpy as np\n",
    "import matplotlib.pyplot as plt\n",
    "from sklearn.datasets import make_blobs\n",
    "\n",
    "#generate dummy cluster datasets\n",
    "K = 5\n",
    "X, y_true = make_blobs(n_samples=400, centers=K, \n",
    "                       cluster_std=0.30, random_state=0)\n",
    "\n",
    "#Fit Model\n",
    "k_means = KMeans(K)\n",
    "k_means.fit(X)\n",
    "\n",
    "cluster_centres = k_means.cluster_centers_\n",
    "\n",
    "y_kmeans = k_means.predict(X)\n",
    "plt.scatter(X[:, 0], X[:, 1], c=y_kmeans, s=50, cmap='viridis')\n",
    "for centroid in cluster_centres:\n",
    "    plt.scatter(centroid[0],  centroid[1], s=300,  c='black', alpha=0.7)"
   ]
  },
  {
   "cell_type": "code",
   "execution_count": 47,
   "id": "33bde82e",
   "metadata": {},
   "outputs": [
    {
     "data": {
      "text/plain": [
       "0.5"
      ]
     },
     "execution_count": 47,
     "metadata": {},
     "output_type": "execute_result"
    }
   ],
   "source": [
    "#Question 20\n",
    "\n",
    "#Look at the cluster map in your answer in Question 19. Divide the number of clusters in the bottom-right hand\n",
    "#corner of the map by 2. What result do you get?\n",
    "\n",
    "#Write your answer (numeric value) rounded to 1 decimal place below:\n",
    "\n",
    "1/2\n",
    "#0.5"
   ]
  },
  {
   "cell_type": "code",
   "execution_count": null,
   "id": "14893746",
   "metadata": {},
   "outputs": [],
   "source": []
  },
  {
   "cell_type": "code",
   "execution_count": null,
   "id": "dace55f6",
   "metadata": {},
   "outputs": [],
   "source": [
    "                                       ###END OF EXAM 1 - PART 2#######"
   ]
  },
  {
   "cell_type": "code",
   "execution_count": null,
   "id": "69432af7",
   "metadata": {},
   "outputs": [],
   "source": []
  }
 ],
 "metadata": {
  "kernelspec": {
   "display_name": "Python 3 (ipykernel)",
   "language": "python",
   "name": "python3"
  },
  "language_info": {
   "codemirror_mode": {
    "name": "ipython",
    "version": 3
   },
   "file_extension": ".py",
   "mimetype": "text/x-python",
   "name": "python",
   "nbconvert_exporter": "python",
   "pygments_lexer": "ipython3",
   "version": "3.10.8"
  }
 },
 "nbformat": 4,
 "nbformat_minor": 5
}

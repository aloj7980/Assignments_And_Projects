{
 "cells": [
  {
   "cell_type": "code",
   "execution_count": null,
   "id": "9a946bfa",
   "metadata": {},
   "outputs": [],
   "source": [
    "                                            ###### Homework 3 - Part 3 ###########"
   ]
  },
  {
   "cell_type": "code",
   "execution_count": null,
   "id": "e767fbd6",
   "metadata": {},
   "outputs": [],
   "source": [
    "#Note the following:\n",
    "\n",
    "#1. Each question is worth 1 point\n",
    "#2. Write your name and student ID below\n",
    "#3. Remember to save your file and upload to Canvas"
   ]
  },
  {
   "cell_type": "code",
   "execution_count": null,
   "id": "d950c238",
   "metadata": {},
   "outputs": [],
   "source": [
    "#Student Name: Alex Ojemann"
   ]
  },
  {
   "cell_type": "code",
   "execution_count": null,
   "id": "f7c9a266",
   "metadata": {},
   "outputs": [],
   "source": [
    "#Student ID: 109722375"
   ]
  },
  {
   "cell_type": "code",
   "execution_count": null,
   "id": "762f7c8e",
   "metadata": {},
   "outputs": [],
   "source": []
  },
  {
   "cell_type": "code",
   "execution_count": 2,
   "id": "32afdf5a",
   "metadata": {},
   "outputs": [],
   "source": [
    "#RUN THIS CELL FIRST TO ANSWER QUESTIONS 1 - 5\n",
    "\n",
    "import numpy as np\n",
    "from scipy import linalg\n",
    "from numpy import array\n",
    "from numpy import linalg\n",
    "from numpy.linalg import norm\n",
    "from numpy.linalg import qr\n",
    "from numpy.linalg import eig\n",
    "from math import inf\n",
    "\n",
    "# define matrix A \n",
    "A = np.array([[2, 1, 1],\n",
    " [1, 3, 2],\n",
    " [1, 0, 0]]) \n",
    "\n",
    "#define vector b\n",
    "b = np.array([4, 5, 6]) \n",
    "\n",
    "#define matrix K\n",
    "K = np.array([ [2., 1., 1.], [1., 3., 2.], [1., 0., 0]]) \n"
   ]
  },
  {
   "cell_type": "code",
   "execution_count": 5,
   "id": "4758ec12",
   "metadata": {},
   "outputs": [],
   "source": [
    "#Question 1\n",
    "\n",
    "#Suppose you are given the matrix and vector above as a system of linear equations (SLE) in the form Ax = b where x is a vector.\n",
    "\n",
    "#Write Python code to find vector x\n",
    "\n",
    "#Write your answer below\n",
    "\n",
    "x = linalg.solve(A,b)\n"
   ]
  },
  {
   "cell_type": "code",
   "execution_count": null,
   "id": "9f4c1085",
   "metadata": {},
   "outputs": [],
   "source": []
  },
  {
   "cell_type": "code",
   "execution_count": 6,
   "id": "95a0acc2",
   "metadata": {},
   "outputs": [
    {
     "data": {
      "text/plain": [
       "array([  6.,  15., -23.])"
      ]
     },
     "execution_count": 6,
     "metadata": {},
     "output_type": "execute_result"
    }
   ],
   "source": [
    "#Question 2\n",
    "\n",
    "#Print the vector x you calculated in Question 1\n",
    "\n",
    "#Write your answer below\n",
    "\n",
    "x"
   ]
  },
  {
   "cell_type": "code",
   "execution_count": null,
   "id": "fa327789",
   "metadata": {},
   "outputs": [],
   "source": []
  },
  {
   "cell_type": "code",
   "execution_count": 8,
   "id": "fb1dfed8",
   "metadata": {},
   "outputs": [
    {
     "data": {
      "text/plain": [
       "28.106938645110393"
      ]
     },
     "execution_count": 8,
     "metadata": {},
     "output_type": "execute_result"
    }
   ],
   "source": [
    "#Question 3\n",
    "\n",
    "\n",
    "#Write Python code to find the Euclidean norm of vector x in Question 2\n",
    "\n",
    "\n",
    "#Write your answer below\n",
    "\n",
    "#sqrt(x[0]*x[0]+x[1]*x[1]+x[2]*x[2])\n",
    "norm(x)"
   ]
  },
  {
   "cell_type": "code",
   "execution_count": null,
   "id": "c57d4c6f",
   "metadata": {},
   "outputs": [],
   "source": []
  },
  {
   "cell_type": "code",
   "execution_count": 9,
   "id": "61273634",
   "metadata": {},
   "outputs": [
    {
     "data": {
      "text/plain": [
       "array([[-0.81649658,  0.27602622, -0.50709255],\n",
       "       [-0.40824829, -0.89708523,  0.16903085],\n",
       "       [-0.40824829,  0.34503278,  0.84515425]])"
      ]
     },
     "execution_count": 9,
     "metadata": {},
     "output_type": "execute_result"
    }
   ],
   "source": [
    "#Question 4\n",
    "\n",
    "#Write Python code to perform the following:\n",
    "\n",
    "#1. Decompose matrix K by QR decomposition\n",
    "#2. Obtain the eigenvalues (values) and eigenvectors(vectors) of matrix K\n",
    "#3. print Q\n",
    "\n",
    "#Write your answer below\n",
    "\n",
    "\n",
    "q,r = qr(K)\n",
    "values, vectors = eig(K)\n",
    "q"
   ]
  },
  {
   "cell_type": "code",
   "execution_count": 10,
   "id": "b28cdfef",
   "metadata": {},
   "outputs": [
    {
     "data": {
      "text/plain": [
       "array([-3.07022286, -0.94049481, -1.45996857])"
      ]
     },
     "execution_count": 10,
     "metadata": {},
     "output_type": "execute_result"
    }
   ],
   "source": [
    "#Question 5\n",
    "\n",
    "\n",
    "#Write Python code to compute the dot product of values and vectors you obtained in Question 4\n",
    "\n",
    "#Write your answer below\n",
    "\n",
    "np.dot(values,vectors)"
   ]
  },
  {
   "cell_type": "code",
   "execution_count": 11,
   "id": "1b0e1a0e",
   "metadata": {},
   "outputs": [
    {
     "name": "stdout",
     "output_type": "stream",
     "text": [
      "[[ 1  2]\n",
      " [ 3  4]\n",
      " [ 5  6]\n",
      " [12 -3]]\n"
     ]
    }
   ],
   "source": [
    "#RUN THIS CELL FIRST TO ANSWER QUESTIONS 6 - 7\n",
    "\n",
    "#singular-value decomposition\n",
    "from numpy import array\n",
    "from scipy.linalg import svd\n",
    "\n",
    "# define a matrix Z as follows\n",
    "Z = array([\n",
    "[1, 2],\n",
    "[3, 4],\n",
    "[5, 6],\n",
    "[12,-3]])\n",
    "\n",
    "print(Z)"
   ]
  },
  {
   "cell_type": "code",
   "execution_count": 13,
   "id": "f59b9fd9",
   "metadata": {},
   "outputs": [
    {
     "data": {
      "text/plain": [
       "array([[-0.08484342, -0.2398591 , -0.38212411, -0.88839764],\n",
       "       [-0.24413269, -0.47104012, -0.71362907,  0.45744288],\n",
       "       [-0.40342195, -0.70222114,  0.58614032, -0.02399435],\n",
       "       [-0.8777537 ,  0.47694266, -0.03397419, -0.03032994]])"
      ]
     },
     "execution_count": 13,
     "metadata": {},
     "output_type": "execute_result"
    }
   ],
   "source": [
    "#Question 6\n",
    "\n",
    "#1. Write Python code to find the singular value decomposition of matrix Z defined above\n",
    "#2. Print matrix U\n",
    "\n",
    "\n",
    "#Write your answer below\n",
    "\n",
    "u,s,vh=svd(Z)\n",
    "u"
   ]
  },
  {
   "cell_type": "code",
   "execution_count": null,
   "id": "28d71e9c",
   "metadata": {},
   "outputs": [],
   "source": []
  },
  {
   "cell_type": "code",
   "execution_count": 16,
   "id": "2cdd5e01",
   "metadata": {},
   "outputs": [
    {
     "data": {
      "text/plain": [
       "array([[ -1.95139876,  -5.5167592 ,  -8.78885448, -20.43314581],\n",
       "       [ -5.61505182, -10.83392269, -16.41346856,  10.52118634],\n",
       "       [ -9.27870489, -16.15108617,  13.48122735,  -0.55186994],\n",
       "       [-20.18833503,  10.96968107,  -0.78140638,  -0.69758863]])"
      ]
     },
     "execution_count": 16,
     "metadata": {},
     "output_type": "execute_result"
    }
   ],
   "source": [
    "#Question 7\n",
    "\n",
    "#Write Python code to find the scalar multiplication of matrix U by the max norm of vector x you computed in Question 1\n",
    "\n",
    "#Write your answer below\n",
    "max(abs(x)) * u\n"
   ]
  },
  {
   "cell_type": "code",
   "execution_count": null,
   "id": "4325edca",
   "metadata": {},
   "outputs": [],
   "source": []
  },
  {
   "cell_type": "code",
   "execution_count": 17,
   "id": "cf4d4761",
   "metadata": {},
   "outputs": [],
   "source": [
    "#RUN THIS CELL FIRST TO ANSWER QUESTIONS 8 - 10\n",
    "\n",
    "import numpy as np\n",
    "from scipy import linalg\n",
    "from numpy import array\n",
    "from numpy import linalg\n",
    "from numpy.linalg import norm\n",
    "from numpy.linalg import qr\n",
    "from numpy.linalg import eig\n",
    "from math import inf\n",
    "\n",
    "# define matrix M \n",
    "M = np.array([[12, -1, 41,34],\n",
    " [2, 3, -5, 17],\n",
    " [4, 6, -7,33],\n",
    " [3,5,2,1]]) \n",
    "\n",
    "#define matrix D\n",
    "D = np.array([ [2, 1, 12, -7], [10, -32, 2, 4], [11, 20, 0, 5]]) \n",
    "\n",
    "#define vector f\n",
    "f = np.array([14, 4, -6]) \n",
    "\n",
    "#define vector h\n",
    "h = np.array([1, 4, 2]) \n",
    "\n",
    "#define vector o\n",
    "o = np.array([1, 4, 2]) "
   ]
  },
  {
   "cell_type": "code",
   "execution_count": 18,
   "id": "4857c124",
   "metadata": {},
   "outputs": [
    {
     "data": {
      "text/plain": [
       "array([[  53,   38,  -21,  474],\n",
       "       [  76,  -74,  564, -134],\n",
       "       [ 187,   74,  361,  719]])"
      ]
     },
     "execution_count": 18,
     "metadata": {},
     "output_type": "execute_result"
    }
   ],
   "source": [
    "#Question 8\n",
    "\n",
    "\n",
    "#Write Python code to find the dot product of matrix D and matrix M\n",
    "\n",
    "#Write your answer below\n",
    "\n",
    "\n",
    "np.dot(D,M)"
   ]
  },
  {
   "cell_type": "code",
   "execution_count": null,
   "id": "22043c35",
   "metadata": {},
   "outputs": [],
   "source": []
  },
  {
   "cell_type": "code",
   "execution_count": 19,
   "id": "4f00a6bf",
   "metadata": {},
   "outputs": [
    {
     "data": {
      "text/plain": [
       "11.748015748023622"
      ]
     },
     "execution_count": 19,
     "metadata": {},
     "output_type": "execute_result"
    }
   ],
   "source": [
    "#Question 9\n",
    "\n",
    "#Suppose you were asked to confirm if the difference between the Euclidean norm of vector f and the max norm\n",
    "# of vector h is a positive real number, what Python code would you write to show this?\n",
    "\n",
    "\n",
    "#Write your answer below\n",
    "\n",
    "norm(f)-max(abs(h))"
   ]
  },
  {
   "cell_type": "code",
   "execution_count": null,
   "id": "df6e3d45",
   "metadata": {},
   "outputs": [],
   "source": []
  },
  {
   "cell_type": "code",
   "execution_count": 20,
   "id": "51a99688",
   "metadata": {},
   "outputs": [
    {
     "data": {
      "text/plain": [
       "11.75"
      ]
     },
     "execution_count": 20,
     "metadata": {},
     "output_type": "execute_result"
    }
   ],
   "source": [
    "#Question 10\n",
    "\n",
    "#What is the value of your result of your answer in Question 9 rounded to two decimal places?\n",
    "\n",
    "#Write your answer below\n",
    "\n",
    "11.75"
   ]
  },
  {
   "cell_type": "code",
   "execution_count": null,
   "id": "285e82df",
   "metadata": {},
   "outputs": [],
   "source": []
  },
  {
   "cell_type": "code",
   "execution_count": 25,
   "id": "27ebc77b",
   "metadata": {},
   "outputs": [
    {
     "name": "stdout",
     "output_type": "stream",
     "text": [
      "RMSE:  0.2\n"
     ]
    }
   ],
   "source": [
    "#RUN THIS CELL FIRST To ANSWER QUESTIONS 11 - 15\n",
    "\n",
    "import numpy as np\n",
    "import pandas as pd \n",
    "\n",
    "#Obtain dataset\n",
    "df = pd.read_csv(\"https://vincentarelbundock.github.io/Rdatasets/csv/AER/CigarettesB.csv\", index_col=0).dropna()\n",
    "X = df.iloc[:,:-1]\n",
    "y = df.iloc[:,-1]\n",
    "\n",
    "#Use random splits as validation strategy for model evaluation\n",
    "from sklearn.model_selection import train_test_split\n",
    "X_train, X_test, y_train, y_test = train_test_split(X, y, shuffle=True,\n",
    "                                   test_size=0.05, random_state=42)\n",
    "\n",
    "#import linear regression; obtain instance of linear regression\n",
    "from sklearn.linear_model import LinearRegression\n",
    "lr = LinearRegression()\n",
    "\n",
    "#Fit linear regression model\n",
    "lr.fit(X_train, y_train)\n",
    "\n",
    "#Use linear regression model to predict target using test dataset\n",
    "y_pred = lr.predict(X_test)\n",
    "\n",
    "#import some linear regression performance metrics\n",
    "from sklearn.metrics import mean_squared_error\n",
    "mse = mean_squared_error(y_test, y_pred)\n",
    "rmse = np.sqrt(mse)\n",
    "\n",
    "print(\"RMSE: \", np.round(rmse, 2))\n"
   ]
  },
  {
   "cell_type": "code",
   "execution_count": 24,
   "id": "06537f65",
   "metadata": {},
   "outputs": [
    {
     "data": {
      "text/plain": [
       "0.02"
      ]
     },
     "execution_count": 24,
     "metadata": {},
     "output_type": "execute_result"
    }
   ],
   "source": [
    "#Question 11\n",
    "\n",
    "#What is the value of the Mean Squared Error (MSE) from the output of RMSE above rounded to 2 decimal places?\n",
    "\n",
    "\n",
    "#Write your answer below\n",
    "\n",
    "0.02"
   ]
  },
  {
   "cell_type": "code",
   "execution_count": null,
   "id": "aba14c74",
   "metadata": {},
   "outputs": [],
   "source": []
  },
  {
   "cell_type": "code",
   "execution_count": null,
   "id": "01df602f",
   "metadata": {},
   "outputs": [],
   "source": [
    "#Question 12\n",
    "\n",
    "\n",
    "#1. Record the RMSE value from the running the cell above\n",
    "#2. Change the value of test_size from 0.20 to 0.05\n",
    "#3. Run the cell again with test_size = 0.05 and record the new RMSE value\n",
    "#4. Compare the new RMSE with the original RMSE\n",
    "\n",
    "#What can you say about the trend of RMSE values for both models?\n",
    "\n",
    "\n",
    "#Write your answer below\n",
    "\n",
    "#Old rmse = 0.14\n",
    "#New rmse = 0.20\n",
    "#Rmse increases as test size decreases"
   ]
  },
  {
   "cell_type": "code",
   "execution_count": null,
   "id": "eda3a4ea",
   "metadata": {},
   "outputs": [],
   "source": []
  },
  {
   "cell_type": "code",
   "execution_count": null,
   "id": "53ed5e35",
   "metadata": {},
   "outputs": [],
   "source": [
    "#Question 13\n",
    "\n",
    "#Consider your answer to Question 12. What can you say about the impact of decreasing test_size from 0.20 to 0.05\n",
    "# on how reliable your model is?\n",
    "\n",
    "#Write your answer below\n",
    "\n",
    "\n",
    "#It decreases the reliability because the rmse went up\n"
   ]
  },
  {
   "cell_type": "code",
   "execution_count": null,
   "id": "214d1f1a",
   "metadata": {},
   "outputs": [],
   "source": []
  },
  {
   "cell_type": "code",
   "execution_count": null,
   "id": "9bbfa8bf",
   "metadata": {},
   "outputs": [],
   "source": [
    "#Question 14\n",
    "\n",
    "\n",
    "#How would you justify your answer in Question 13?\n",
    "\n",
    "#Write your answer below\n",
    "\n",
    "#The test data is such a small portion of the overall data (5%) that it's not a\n",
    "#representative sample"
   ]
  },
  {
   "cell_type": "code",
   "execution_count": null,
   "id": "01ff0192",
   "metadata": {},
   "outputs": [],
   "source": []
  },
  {
   "cell_type": "code",
   "execution_count": null,
   "id": "de59c535",
   "metadata": {},
   "outputs": [],
   "source": [
    "#Question 15\n",
    "\n",
    "#How would you fix the issue you raised/identified in your answer in Question 14 above?\n",
    "\n",
    "\n",
    "\n",
    "#Write your answer below\n",
    "\n",
    "#Use the conventional test size of between 0.2 and 0.3"
   ]
  },
  {
   "cell_type": "code",
   "execution_count": null,
   "id": "45a276dd",
   "metadata": {},
   "outputs": [],
   "source": [
    "                                          ##### End of Homework 3: Part 3 ####"
   ]
  },
  {
   "cell_type": "code",
   "execution_count": null,
   "id": "9dd79864",
   "metadata": {},
   "outputs": [],
   "source": []
  },
  {
   "cell_type": "code",
   "execution_count": null,
   "id": "d477d3f2",
   "metadata": {},
   "outputs": [],
   "source": []
  },
  {
   "cell_type": "code",
   "execution_count": null,
   "id": "42ee819e",
   "metadata": {},
   "outputs": [],
   "source": []
  }
 ],
 "metadata": {
  "kernelspec": {
   "display_name": "Python 3 (ipykernel)",
   "language": "python",
   "name": "python3"
  },
  "language_info": {
   "codemirror_mode": {
    "name": "ipython",
    "version": 3
   },
   "file_extension": ".py",
   "mimetype": "text/x-python",
   "name": "python",
   "nbconvert_exporter": "python",
   "pygments_lexer": "ipython3",
   "version": "3.10.8"
  }
 },
 "nbformat": 4,
 "nbformat_minor": 5
}

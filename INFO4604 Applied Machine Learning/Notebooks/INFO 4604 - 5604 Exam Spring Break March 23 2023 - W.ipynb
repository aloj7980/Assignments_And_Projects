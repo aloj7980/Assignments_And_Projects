{
 "cells": [
  {
   "cell_type": "code",
   "execution_count": null,
   "id": "c340bfca",
   "metadata": {},
   "outputs": [],
   "source": []
  },
  {
   "cell_type": "code",
   "execution_count": null,
   "id": "d215fac8",
   "metadata": {},
   "outputs": [],
   "source": [
    "                            ####Exam 1.5 March 23 - March 24, 2023#####"
   ]
  },
  {
   "cell_type": "code",
   "execution_count": null,
   "id": "009a36cc",
   "metadata": {},
   "outputs": [],
   "source": []
  },
  {
   "cell_type": "code",
   "execution_count": null,
   "id": "6bde7df5",
   "metadata": {},
   "outputs": [],
   "source": []
  },
  {
   "cell_type": "code",
   "execution_count": null,
   "id": "08a5451d",
   "metadata": {},
   "outputs": [],
   "source": [
    "#Instructions\n",
    "\n",
    "#There are 20 questions \n",
    "#Each question is worth 1 point\n",
    "#Write your name and ID in the cells below\n",
    "#Ensure your code runs, you save your file before you upload into Canvas\n"
   ]
  },
  {
   "cell_type": "code",
   "execution_count": null,
   "id": "0daf30f5",
   "metadata": {},
   "outputs": [],
   "source": []
  },
  {
   "cell_type": "code",
   "execution_count": null,
   "id": "17dc50e6",
   "metadata": {},
   "outputs": [],
   "source": [
    "#Student Name: Alex Ojemann"
   ]
  },
  {
   "cell_type": "code",
   "execution_count": null,
   "id": "e0cb69e3",
   "metadata": {},
   "outputs": [],
   "source": [
    "#Student ID: 109722375"
   ]
  },
  {
   "cell_type": "code",
   "execution_count": null,
   "id": "95cec792",
   "metadata": {},
   "outputs": [],
   "source": []
  },
  {
   "cell_type": "code",
   "execution_count": null,
   "id": "6ce2a071",
   "metadata": {},
   "outputs": [],
   "source": [
    "#RUN ALL THE CELLS IN SUCCESSION BEFORE QUESTION 1 BEFORE YOU ANSWER QUESTIONS 1 - 9 BELOW\n",
    "\n",
    "#The objective of Questions 1 - 9 is to guide you through the steps of applying principal components analysis (PCA)\n",
    "# to visualize a multi-dimensional dataset in a 2-dimansional chart\n",
    "\n",
    "#Refer to the file INFO 4604 - 5604 Feb 14 Class - Principal Component Analysis on Week 5: Feb 13 - Feb 17 on Canvas\n",
    "#to assist you move through the steps if you need help.\n",
    "\n",
    "#Be careful to use the object names as specified in the questions below. Spell the object names as specified\n",
    "\n"
   ]
  },
  {
   "cell_type": "code",
   "execution_count": 1,
   "id": "25e88a5a",
   "metadata": {},
   "outputs": [
    {
     "data": {
      "text/plain": [
       "(392, 9)"
      ]
     },
     "execution_count": 1,
     "metadata": {},
     "output_type": "execute_result"
    }
   ],
   "source": [
    "#Load libraries and dataset\n",
    "\n",
    "import pandas as pd\n",
    "import matplotlib as plt\n",
    "import seaborn as sns\n",
    "from sklearn.preprocessing import StandardScaler\n",
    "from sklearn.decomposition import PCA\n",
    "\n",
    "#load dataset into Pandas DataFrame\n",
    "\n",
    "#Loading the mpg dataset and assigning to dataframe df\n",
    "\n",
    "df = sns.load_dataset('mpg').dropna()\n",
    "\n",
    "#Checking the structure of the dataset - number of rows and number of columns (features or variables)\n",
    "df.shape"
   ]
  },
  {
   "cell_type": "code",
   "execution_count": 2,
   "id": "6cac576e",
   "metadata": {},
   "outputs": [
    {
     "data": {
      "text/html": [
       "<div>\n",
       "<style scoped>\n",
       "    .dataframe tbody tr th:only-of-type {\n",
       "        vertical-align: middle;\n",
       "    }\n",
       "\n",
       "    .dataframe tbody tr th {\n",
       "        vertical-align: top;\n",
       "    }\n",
       "\n",
       "    .dataframe thead th {\n",
       "        text-align: right;\n",
       "    }\n",
       "</style>\n",
       "<table border=\"1\" class=\"dataframe\">\n",
       "  <thead>\n",
       "    <tr style=\"text-align: right;\">\n",
       "      <th></th>\n",
       "      <th>mpg</th>\n",
       "      <th>cylinders</th>\n",
       "      <th>displacement</th>\n",
       "      <th>horsepower</th>\n",
       "      <th>weight</th>\n",
       "      <th>acceleration</th>\n",
       "      <th>model_year</th>\n",
       "      <th>origin</th>\n",
       "      <th>name</th>\n",
       "    </tr>\n",
       "  </thead>\n",
       "  <tbody>\n",
       "    <tr>\n",
       "      <th>0</th>\n",
       "      <td>18.0</td>\n",
       "      <td>8</td>\n",
       "      <td>307.0</td>\n",
       "      <td>130.0</td>\n",
       "      <td>3504</td>\n",
       "      <td>12.0</td>\n",
       "      <td>70</td>\n",
       "      <td>usa</td>\n",
       "      <td>chevrolet chevelle malibu</td>\n",
       "    </tr>\n",
       "    <tr>\n",
       "      <th>1</th>\n",
       "      <td>15.0</td>\n",
       "      <td>8</td>\n",
       "      <td>350.0</td>\n",
       "      <td>165.0</td>\n",
       "      <td>3693</td>\n",
       "      <td>11.5</td>\n",
       "      <td>70</td>\n",
       "      <td>usa</td>\n",
       "      <td>buick skylark 320</td>\n",
       "    </tr>\n",
       "    <tr>\n",
       "      <th>2</th>\n",
       "      <td>18.0</td>\n",
       "      <td>8</td>\n",
       "      <td>318.0</td>\n",
       "      <td>150.0</td>\n",
       "      <td>3436</td>\n",
       "      <td>11.0</td>\n",
       "      <td>70</td>\n",
       "      <td>usa</td>\n",
       "      <td>plymouth satellite</td>\n",
       "    </tr>\n",
       "    <tr>\n",
       "      <th>3</th>\n",
       "      <td>16.0</td>\n",
       "      <td>8</td>\n",
       "      <td>304.0</td>\n",
       "      <td>150.0</td>\n",
       "      <td>3433</td>\n",
       "      <td>12.0</td>\n",
       "      <td>70</td>\n",
       "      <td>usa</td>\n",
       "      <td>amc rebel sst</td>\n",
       "    </tr>\n",
       "    <tr>\n",
       "      <th>4</th>\n",
       "      <td>17.0</td>\n",
       "      <td>8</td>\n",
       "      <td>302.0</td>\n",
       "      <td>140.0</td>\n",
       "      <td>3449</td>\n",
       "      <td>10.5</td>\n",
       "      <td>70</td>\n",
       "      <td>usa</td>\n",
       "      <td>ford torino</td>\n",
       "    </tr>\n",
       "  </tbody>\n",
       "</table>\n",
       "</div>"
      ],
      "text/plain": [
       "    mpg  cylinders  displacement  horsepower  weight  acceleration  \\\n",
       "0  18.0          8         307.0       130.0    3504          12.0   \n",
       "1  15.0          8         350.0       165.0    3693          11.5   \n",
       "2  18.0          8         318.0       150.0    3436          11.0   \n",
       "3  16.0          8         304.0       150.0    3433          12.0   \n",
       "4  17.0          8         302.0       140.0    3449          10.5   \n",
       "\n",
       "   model_year origin                       name  \n",
       "0          70    usa  chevrolet chevelle malibu  \n",
       "1          70    usa          buick skylark 320  \n",
       "2          70    usa         plymouth satellite  \n",
       "3          70    usa              amc rebel sst  \n",
       "4          70    usa                ford torino  "
      ]
     },
     "execution_count": 2,
     "metadata": {},
     "output_type": "execute_result"
    }
   ],
   "source": [
    "#Display the first few observations of df\n",
    "\n",
    "\n",
    "df.head()"
   ]
  },
  {
   "cell_type": "code",
   "execution_count": 3,
   "id": "1b254f86",
   "metadata": {},
   "outputs": [
    {
     "name": "stdout",
     "output_type": "stream",
     "text": [
      "<class 'pandas.core.frame.DataFrame'>\n",
      "Int64Index: 392 entries, 0 to 397\n",
      "Data columns (total 9 columns):\n",
      " #   Column        Non-Null Count  Dtype  \n",
      "---  ------        --------------  -----  \n",
      " 0   mpg           392 non-null    float64\n",
      " 1   cylinders     392 non-null    int64  \n",
      " 2   displacement  392 non-null    float64\n",
      " 3   horsepower    392 non-null    float64\n",
      " 4   weight        392 non-null    int64  \n",
      " 5   acceleration  392 non-null    float64\n",
      " 6   model_year    392 non-null    int64  \n",
      " 7   origin        392 non-null    object \n",
      " 8   name          392 non-null    object \n",
      "dtypes: float64(4), int64(3), object(2)\n",
      "memory usage: 30.6+ KB\n"
     ]
    }
   ],
   "source": [
    "#Display data types for all variables\n",
    "\n",
    "\n",
    "df.info()"
   ]
  },
  {
   "cell_type": "code",
   "execution_count": 4,
   "id": "beef459e",
   "metadata": {},
   "outputs": [],
   "source": [
    "#Remove column \"name\"\n",
    "\n",
    "df = df.drop(['name'], axis=1)\n"
   ]
  },
  {
   "cell_type": "code",
   "execution_count": 5,
   "id": "b0cbdd57",
   "metadata": {},
   "outputs": [
    {
     "data": {
      "text/html": [
       "<div>\n",
       "<style scoped>\n",
       "    .dataframe tbody tr th:only-of-type {\n",
       "        vertical-align: middle;\n",
       "    }\n",
       "\n",
       "    .dataframe tbody tr th {\n",
       "        vertical-align: top;\n",
       "    }\n",
       "\n",
       "    .dataframe thead th {\n",
       "        text-align: right;\n",
       "    }\n",
       "</style>\n",
       "<table border=\"1\" class=\"dataframe\">\n",
       "  <thead>\n",
       "    <tr style=\"text-align: right;\">\n",
       "      <th></th>\n",
       "      <th>mpg</th>\n",
       "      <th>cylinders</th>\n",
       "      <th>displacement</th>\n",
       "      <th>horsepower</th>\n",
       "      <th>weight</th>\n",
       "      <th>acceleration</th>\n",
       "      <th>model_year</th>\n",
       "      <th>origin</th>\n",
       "    </tr>\n",
       "  </thead>\n",
       "  <tbody>\n",
       "    <tr>\n",
       "      <th>0</th>\n",
       "      <td>18.0</td>\n",
       "      <td>8</td>\n",
       "      <td>307.0</td>\n",
       "      <td>130.0</td>\n",
       "      <td>3504</td>\n",
       "      <td>12.0</td>\n",
       "      <td>70</td>\n",
       "      <td>usa</td>\n",
       "    </tr>\n",
       "    <tr>\n",
       "      <th>1</th>\n",
       "      <td>15.0</td>\n",
       "      <td>8</td>\n",
       "      <td>350.0</td>\n",
       "      <td>165.0</td>\n",
       "      <td>3693</td>\n",
       "      <td>11.5</td>\n",
       "      <td>70</td>\n",
       "      <td>usa</td>\n",
       "    </tr>\n",
       "    <tr>\n",
       "      <th>2</th>\n",
       "      <td>18.0</td>\n",
       "      <td>8</td>\n",
       "      <td>318.0</td>\n",
       "      <td>150.0</td>\n",
       "      <td>3436</td>\n",
       "      <td>11.0</td>\n",
       "      <td>70</td>\n",
       "      <td>usa</td>\n",
       "    </tr>\n",
       "    <tr>\n",
       "      <th>3</th>\n",
       "      <td>16.0</td>\n",
       "      <td>8</td>\n",
       "      <td>304.0</td>\n",
       "      <td>150.0</td>\n",
       "      <td>3433</td>\n",
       "      <td>12.0</td>\n",
       "      <td>70</td>\n",
       "      <td>usa</td>\n",
       "    </tr>\n",
       "    <tr>\n",
       "      <th>4</th>\n",
       "      <td>17.0</td>\n",
       "      <td>8</td>\n",
       "      <td>302.0</td>\n",
       "      <td>140.0</td>\n",
       "      <td>3449</td>\n",
       "      <td>10.5</td>\n",
       "      <td>70</td>\n",
       "      <td>usa</td>\n",
       "    </tr>\n",
       "    <tr>\n",
       "      <th>...</th>\n",
       "      <td>...</td>\n",
       "      <td>...</td>\n",
       "      <td>...</td>\n",
       "      <td>...</td>\n",
       "      <td>...</td>\n",
       "      <td>...</td>\n",
       "      <td>...</td>\n",
       "      <td>...</td>\n",
       "    </tr>\n",
       "    <tr>\n",
       "      <th>393</th>\n",
       "      <td>27.0</td>\n",
       "      <td>4</td>\n",
       "      <td>140.0</td>\n",
       "      <td>86.0</td>\n",
       "      <td>2790</td>\n",
       "      <td>15.6</td>\n",
       "      <td>82</td>\n",
       "      <td>usa</td>\n",
       "    </tr>\n",
       "    <tr>\n",
       "      <th>394</th>\n",
       "      <td>44.0</td>\n",
       "      <td>4</td>\n",
       "      <td>97.0</td>\n",
       "      <td>52.0</td>\n",
       "      <td>2130</td>\n",
       "      <td>24.6</td>\n",
       "      <td>82</td>\n",
       "      <td>europe</td>\n",
       "    </tr>\n",
       "    <tr>\n",
       "      <th>395</th>\n",
       "      <td>32.0</td>\n",
       "      <td>4</td>\n",
       "      <td>135.0</td>\n",
       "      <td>84.0</td>\n",
       "      <td>2295</td>\n",
       "      <td>11.6</td>\n",
       "      <td>82</td>\n",
       "      <td>usa</td>\n",
       "    </tr>\n",
       "    <tr>\n",
       "      <th>396</th>\n",
       "      <td>28.0</td>\n",
       "      <td>4</td>\n",
       "      <td>120.0</td>\n",
       "      <td>79.0</td>\n",
       "      <td>2625</td>\n",
       "      <td>18.6</td>\n",
       "      <td>82</td>\n",
       "      <td>usa</td>\n",
       "    </tr>\n",
       "    <tr>\n",
       "      <th>397</th>\n",
       "      <td>31.0</td>\n",
       "      <td>4</td>\n",
       "      <td>119.0</td>\n",
       "      <td>82.0</td>\n",
       "      <td>2720</td>\n",
       "      <td>19.4</td>\n",
       "      <td>82</td>\n",
       "      <td>usa</td>\n",
       "    </tr>\n",
       "  </tbody>\n",
       "</table>\n",
       "<p>392 rows × 8 columns</p>\n",
       "</div>"
      ],
      "text/plain": [
       "      mpg  cylinders  displacement  horsepower  weight  acceleration  \\\n",
       "0    18.0          8         307.0       130.0    3504          12.0   \n",
       "1    15.0          8         350.0       165.0    3693          11.5   \n",
       "2    18.0          8         318.0       150.0    3436          11.0   \n",
       "3    16.0          8         304.0       150.0    3433          12.0   \n",
       "4    17.0          8         302.0       140.0    3449          10.5   \n",
       "..    ...        ...           ...         ...     ...           ...   \n",
       "393  27.0          4         140.0        86.0    2790          15.6   \n",
       "394  44.0          4          97.0        52.0    2130          24.6   \n",
       "395  32.0          4         135.0        84.0    2295          11.6   \n",
       "396  28.0          4         120.0        79.0    2625          18.6   \n",
       "397  31.0          4         119.0        82.0    2720          19.4   \n",
       "\n",
       "     model_year  origin  \n",
       "0            70     usa  \n",
       "1            70     usa  \n",
       "2            70     usa  \n",
       "3            70     usa  \n",
       "4            70     usa  \n",
       "..          ...     ...  \n",
       "393          82     usa  \n",
       "394          82  europe  \n",
       "395          82     usa  \n",
       "396          82     usa  \n",
       "397          82     usa  \n",
       "\n",
       "[392 rows x 8 columns]"
      ]
     },
     "execution_count": 5,
     "metadata": {},
     "output_type": "execute_result"
    }
   ],
   "source": [
    "#Display data frame after removal of column \"name\"\n",
    "\n",
    "\n",
    "df"
   ]
  },
  {
   "cell_type": "code",
   "execution_count": 6,
   "id": "d23d7816",
   "metadata": {},
   "outputs": [],
   "source": [
    "\n",
    "#Separate features from target\n",
    "\n",
    "\n",
    "features = ['mpg', 'cylinders', 'displacement', 'horsepower','weight','acceleration','model_year']\n",
    "\n",
    "#Separating out the features - and storing in x\n",
    "\n",
    "x = df.loc[:, features].values\n",
    "\n",
    "#Separating out the target - and storing in y\n",
    "\n",
    "y = df.loc[:, 'origin'].values\n",
    "\n"
   ]
  },
  {
   "cell_type": "code",
   "execution_count": null,
   "id": "f0332956",
   "metadata": {},
   "outputs": [],
   "source": []
  },
  {
   "cell_type": "code",
   "execution_count": 7,
   "id": "6404322a",
   "metadata": {},
   "outputs": [
    {
     "data": {
      "text/plain": [
       "array([[  18. ,    8. ,  307. , ..., 3504. ,   12. ,   70. ],\n",
       "       [  15. ,    8. ,  350. , ..., 3693. ,   11.5,   70. ],\n",
       "       [  18. ,    8. ,  318. , ..., 3436. ,   11. ,   70. ],\n",
       "       ...,\n",
       "       [  32. ,    4. ,  135. , ..., 2295. ,   11.6,   82. ],\n",
       "       [  28. ,    4. ,  120. , ..., 2625. ,   18.6,   82. ],\n",
       "       [  31. ,    4. ,  119. , ..., 2720. ,   19.4,   82. ]])"
      ]
     },
     "execution_count": 7,
     "metadata": {},
     "output_type": "execute_result"
    }
   ],
   "source": [
    "#Question 1\n",
    "\n",
    "#Write Python code to display x\n",
    "\n",
    "#Write your answer below:\n",
    "\n",
    "x"
   ]
  },
  {
   "cell_type": "code",
   "execution_count": null,
   "id": "ca0cc909",
   "metadata": {},
   "outputs": [],
   "source": []
  },
  {
   "cell_type": "code",
   "execution_count": 8,
   "id": "5b8b8ae8",
   "metadata": {},
   "outputs": [
    {
     "data": {
      "text/plain": [
       "array(['usa', 'usa', 'usa', 'usa', 'usa', 'usa', 'usa', 'usa', 'usa',\n",
       "       'usa', 'usa', 'usa', 'usa', 'usa', 'japan', 'usa', 'usa', 'usa',\n",
       "       'japan', 'europe', 'europe', 'europe', 'europe', 'europe', 'usa',\n",
       "       'usa', 'usa', 'usa', 'usa', 'japan', 'usa', 'japan', 'usa', 'usa',\n",
       "       'usa', 'usa', 'usa', 'usa', 'usa', 'usa', 'usa', 'usa', 'usa',\n",
       "       'usa', 'usa', 'usa', 'usa', 'usa', 'usa', 'europe', 'europe',\n",
       "       'europe', 'japan', 'japan', 'europe', 'usa', 'japan', 'usa',\n",
       "       'europe', 'usa', 'usa', 'usa', 'usa', 'usa', 'usa', 'usa', 'usa',\n",
       "       'usa', 'usa', 'usa', 'japan', 'usa', 'usa', 'usa', 'usa', 'europe',\n",
       "       'europe', 'europe', 'europe', 'usa', 'japan', 'japan', 'usa',\n",
       "       'japan', 'usa', 'usa', 'usa', 'usa', 'usa', 'usa', 'usa', 'usa',\n",
       "       'usa', 'usa', 'usa', 'usa', 'usa', 'usa', 'usa', 'usa', 'usa',\n",
       "       'europe', 'usa', 'usa', 'usa', 'usa', 'usa', 'japan', 'usa',\n",
       "       'japan', 'japan', 'usa', 'usa', 'europe', 'usa', 'usa', 'europe',\n",
       "       'europe', 'europe', 'europe', 'usa', 'europe', 'japan', 'usa',\n",
       "       'usa', 'usa', 'usa', 'japan', 'usa', 'japan', 'usa', 'usa', 'usa',\n",
       "       'usa', 'usa', 'usa', 'usa', 'usa', 'usa', 'europe', 'europe',\n",
       "       'europe', 'japan', 'japan', 'usa', 'europe', 'europe', 'japan',\n",
       "       'japan', 'europe', 'usa', 'usa', 'usa', 'usa', 'usa', 'usa', 'usa',\n",
       "       'usa', 'usa', 'usa', 'usa', 'usa', 'usa', 'usa', 'usa', 'japan',\n",
       "       'usa', 'usa', 'usa', 'japan', 'europe', 'japan', 'usa', 'europe',\n",
       "       'usa', 'europe', 'europe', 'europe', 'europe', 'japan', 'europe',\n",
       "       'europe', 'usa', 'usa', 'europe', 'usa', 'usa', 'usa', 'usa',\n",
       "       'usa', 'usa', 'usa', 'usa', 'usa', 'usa', 'europe', 'japan', 'usa',\n",
       "       'usa', 'usa', 'usa', 'europe', 'japan', 'japan', 'usa', 'europe',\n",
       "       'usa', 'europe', 'japan', 'europe', 'usa', 'usa', 'usa', 'usa',\n",
       "       'japan', 'usa', 'europe', 'usa', 'japan', 'usa', 'usa', 'usa',\n",
       "       'usa', 'usa', 'usa', 'usa', 'usa', 'usa', 'usa', 'usa', 'usa',\n",
       "       'europe', 'usa', 'japan', 'usa', 'usa', 'usa', 'japan', 'europe',\n",
       "       'japan', 'europe', 'japan', 'europe', 'usa', 'japan', 'japan',\n",
       "       'japan', 'usa', 'usa', 'usa', 'usa', 'usa', 'usa', 'usa', 'usa',\n",
       "       'usa', 'usa', 'usa', 'usa', 'usa', 'usa', 'usa', 'usa', 'usa',\n",
       "       'usa', 'japan', 'japan', 'usa', 'japan', 'usa', 'usa', 'japan',\n",
       "       'europe', 'europe', 'europe', 'europe', 'europe', 'japan', 'usa',\n",
       "       'usa', 'usa', 'usa', 'usa', 'usa', 'usa', 'usa', 'usa', 'usa',\n",
       "       'usa', 'usa', 'usa', 'europe', 'japan', 'usa', 'usa', 'europe',\n",
       "       'usa', 'europe', 'usa', 'usa', 'usa', 'japan', 'europe', 'usa',\n",
       "       'usa', 'usa', 'usa', 'europe', 'japan', 'usa', 'japan', 'usa',\n",
       "       'usa', 'usa', 'usa', 'europe', 'japan', 'japan', 'japan', 'japan',\n",
       "       'japan', 'usa', 'japan', 'europe', 'europe', 'europe', 'europe',\n",
       "       'japan', 'japan', 'europe', 'japan', 'japan', 'europe', 'japan',\n",
       "       'usa', 'usa', 'usa', 'usa', 'usa', 'japan', 'usa', 'japan',\n",
       "       'japan', 'japan', 'japan', 'japan', 'usa', 'usa', 'usa', 'europe',\n",
       "       'japan', 'japan', 'japan', 'japan', 'europe', 'europe', 'japan',\n",
       "       'japan', 'usa', 'usa', 'usa', 'usa', 'usa', 'usa', 'usa', 'usa',\n",
       "       'usa', 'usa', 'usa', 'europe', 'japan', 'japan', 'usa', 'usa',\n",
       "       'japan', 'japan', 'japan', 'japan', 'japan', 'japan', 'usa', 'usa',\n",
       "       'usa', 'usa', 'japan', 'usa', 'usa', 'usa', 'europe', 'usa', 'usa',\n",
       "       'usa'], dtype=object)"
      ]
     },
     "execution_count": 8,
     "metadata": {},
     "output_type": "execute_result"
    }
   ],
   "source": [
    "#Question 2\n",
    "\n",
    "#Write Python code to display y\n",
    "\n",
    "#Write your code below:\n",
    "\n",
    "\n",
    "y"
   ]
  },
  {
   "cell_type": "code",
   "execution_count": null,
   "id": "5bad5000",
   "metadata": {},
   "outputs": [],
   "source": []
  },
  {
   "cell_type": "code",
   "execution_count": 11,
   "id": "c171dd26",
   "metadata": {},
   "outputs": [],
   "source": [
    "#Question 3\n",
    "\n",
    "#It is customary to standardize the features of a dataset ahead of PCA and not the target\n",
    "\n",
    "#Write Python code to standardize x\n",
    "\n",
    "#store your result in x\n",
    "\n",
    "#Write your code below:\n",
    "\n",
    "scaler = StandardScaler()\n",
    "scaler.fit(x)\n",
    "x=scaler.transform(x)"
   ]
  },
  {
   "cell_type": "code",
   "execution_count": null,
   "id": "5289b21e",
   "metadata": {},
   "outputs": [],
   "source": []
  },
  {
   "cell_type": "code",
   "execution_count": 13,
   "id": "b6e7951c",
   "metadata": {},
   "outputs": [],
   "source": [
    "#Question 4\n",
    "\n",
    "#We want to call the PCA() by setting the number of principal components we want\n",
    "#We would like to display our multi-dimensional dataset in 2D, so we set the n_components argument to 2\n",
    "\n",
    "#n_components = 2 specifies that you want to project a multi-dimensional dataset to 2 -dimensions\n",
    "# i.e. you want to keep the top 2 principal components for your visualization\n",
    "\n",
    "#Write Python code to call an instance of PCA with n_components = 2\n",
    "#Store the instance in the object pca\n",
    "\n",
    "#Write your answer below:\n",
    "\n",
    "\n",
    "pca = PCA(n_components = 2)"
   ]
  },
  {
   "cell_type": "code",
   "execution_count": null,
   "id": "bec10b66",
   "metadata": {},
   "outputs": [],
   "source": []
  },
  {
   "cell_type": "code",
   "execution_count": 15,
   "id": "39e61a71",
   "metadata": {},
   "outputs": [],
   "source": [
    "#Question 5\n",
    "\n",
    "#Using the object pca from Question 4 above, \n",
    "#Write Python code to fit and transform x to extract the two top principal components (PC1 and PC2)\n",
    "#Store in an object principalComponents\n",
    "\n",
    "#Wite your answer below\n",
    "\n",
    "pca.fit(x)\n",
    "principalComponents = pca.transform(x)"
   ]
  },
  {
   "cell_type": "code",
   "execution_count": null,
   "id": "a7e846df",
   "metadata": {},
   "outputs": [],
   "source": []
  },
  {
   "cell_type": "code",
   "execution_count": 22,
   "id": "1d4b81d9",
   "metadata": {},
   "outputs": [
    {
     "data": {
      "text/html": [
       "<div>\n",
       "<style scoped>\n",
       "    .dataframe tbody tr th:only-of-type {\n",
       "        vertical-align: middle;\n",
       "    }\n",
       "\n",
       "    .dataframe tbody tr th {\n",
       "        vertical-align: top;\n",
       "    }\n",
       "\n",
       "    .dataframe thead th {\n",
       "        text-align: right;\n",
       "    }\n",
       "</style>\n",
       "<table border=\"1\" class=\"dataframe\">\n",
       "  <thead>\n",
       "    <tr style=\"text-align: right;\">\n",
       "      <th></th>\n",
       "      <th>PC1</th>\n",
       "      <th>PC2</th>\n",
       "    </tr>\n",
       "  </thead>\n",
       "  <tbody>\n",
       "    <tr>\n",
       "      <th>0</th>\n",
       "      <td>2.635049</td>\n",
       "      <td>0.929039</td>\n",
       "    </tr>\n",
       "    <tr>\n",
       "      <th>1</th>\n",
       "      <td>3.493800</td>\n",
       "      <td>0.805473</td>\n",
       "    </tr>\n",
       "    <tr>\n",
       "      <th>2</th>\n",
       "      <td>2.970415</td>\n",
       "      <td>0.881186</td>\n",
       "    </tr>\n",
       "    <tr>\n",
       "      <th>3</th>\n",
       "      <td>2.910197</td>\n",
       "      <td>0.961721</td>\n",
       "    </tr>\n",
       "    <tr>\n",
       "      <th>4</th>\n",
       "      <td>2.903826</td>\n",
       "      <td>0.952789</td>\n",
       "    </tr>\n",
       "    <tr>\n",
       "      <th>...</th>\n",
       "      <td>...</td>\n",
       "      <td>...</td>\n",
       "    </tr>\n",
       "    <tr>\n",
       "      <th>387</th>\n",
       "      <td>-1.440898</td>\n",
       "      <td>-1.226641</td>\n",
       "    </tr>\n",
       "    <tr>\n",
       "      <th>388</th>\n",
       "      <td>-4.112474</td>\n",
       "      <td>-1.330384</td>\n",
       "    </tr>\n",
       "    <tr>\n",
       "      <th>389</th>\n",
       "      <td>-1.566816</td>\n",
       "      <td>-1.225221</td>\n",
       "    </tr>\n",
       "    <tr>\n",
       "      <th>390</th>\n",
       "      <td>-2.041842</td>\n",
       "      <td>-1.151837</td>\n",
       "    </tr>\n",
       "    <tr>\n",
       "      <th>391</th>\n",
       "      <td>-2.202531</td>\n",
       "      <td>-1.259473</td>\n",
       "    </tr>\n",
       "  </tbody>\n",
       "</table>\n",
       "<p>392 rows × 2 columns</p>\n",
       "</div>"
      ],
      "text/plain": [
       "          PC1       PC2\n",
       "0    2.635049  0.929039\n",
       "1    3.493800  0.805473\n",
       "2    2.970415  0.881186\n",
       "3    2.910197  0.961721\n",
       "4    2.903826  0.952789\n",
       "..        ...       ...\n",
       "387 -1.440898 -1.226641\n",
       "388 -4.112474 -1.330384\n",
       "389 -1.566816 -1.225221\n",
       "390 -2.041842 -1.151837\n",
       "391 -2.202531 -1.259473\n",
       "\n",
       "[392 rows x 2 columns]"
      ]
     },
     "execution_count": 22,
     "metadata": {},
     "output_type": "execute_result"
    }
   ],
   "source": [
    "#Question 6\n",
    "\n",
    "#Now that we have our principal components, we can put them in a data frame\n",
    "\n",
    "#Write Python code to place principal components PC1 and PC2 that you stored in principalComponents above\n",
    "# in a data frame called principalDf\n",
    "\n",
    "#Call the columns 'principal component 1' and principal component 2\n",
    "\n",
    "principalDf = pd.DataFrame(data=principalComponents,columns=[\"PC1\",\"PC2\"])\n",
    "principalDf"
   ]
  },
  {
   "cell_type": "code",
   "execution_count": null,
   "id": "fdd3a979",
   "metadata": {},
   "outputs": [],
   "source": []
  },
  {
   "cell_type": "code",
   "execution_count": 30,
   "id": "547b9f2c",
   "metadata": {},
   "outputs": [],
   "source": [
    "#Question 7\n",
    "\n",
    "#We need to bring our principal components and target variable i.e. origin together in \n",
    "#a dataframe that now has 3 columns. We do this via contatenation\n",
    "\n",
    "\n",
    "#Write Python code to concatenate the principal components in principalDf above with the outcome variable origin\n",
    "\n",
    "#Store your result in an object called finalDf\n",
    "\n",
    "#Write your answer below:\n",
    "\n",
    "finalDf = pd.concat([principalDf,df],axis=1)[[\"PC1\",\"PC2\",\"origin\"]]"
   ]
  },
  {
   "cell_type": "code",
   "execution_count": null,
   "id": "437c850b",
   "metadata": {},
   "outputs": [],
   "source": []
  },
  {
   "cell_type": "code",
   "execution_count": 31,
   "id": "77d8e5de",
   "metadata": {},
   "outputs": [
    {
     "data": {
      "text/html": [
       "<div>\n",
       "<style scoped>\n",
       "    .dataframe tbody tr th:only-of-type {\n",
       "        vertical-align: middle;\n",
       "    }\n",
       "\n",
       "    .dataframe tbody tr th {\n",
       "        vertical-align: top;\n",
       "    }\n",
       "\n",
       "    .dataframe thead th {\n",
       "        text-align: right;\n",
       "    }\n",
       "</style>\n",
       "<table border=\"1\" class=\"dataframe\">\n",
       "  <thead>\n",
       "    <tr style=\"text-align: right;\">\n",
       "      <th></th>\n",
       "      <th>PC1</th>\n",
       "      <th>PC2</th>\n",
       "      <th>origin</th>\n",
       "    </tr>\n",
       "  </thead>\n",
       "  <tbody>\n",
       "    <tr>\n",
       "      <th>0</th>\n",
       "      <td>2.635049</td>\n",
       "      <td>0.929039</td>\n",
       "      <td>usa</td>\n",
       "    </tr>\n",
       "    <tr>\n",
       "      <th>1</th>\n",
       "      <td>3.493800</td>\n",
       "      <td>0.805473</td>\n",
       "      <td>usa</td>\n",
       "    </tr>\n",
       "    <tr>\n",
       "      <th>2</th>\n",
       "      <td>2.970415</td>\n",
       "      <td>0.881186</td>\n",
       "      <td>usa</td>\n",
       "    </tr>\n",
       "    <tr>\n",
       "      <th>3</th>\n",
       "      <td>2.910197</td>\n",
       "      <td>0.961721</td>\n",
       "      <td>usa</td>\n",
       "    </tr>\n",
       "    <tr>\n",
       "      <th>4</th>\n",
       "      <td>2.903826</td>\n",
       "      <td>0.952789</td>\n",
       "      <td>usa</td>\n",
       "    </tr>\n",
       "    <tr>\n",
       "      <th>...</th>\n",
       "      <td>...</td>\n",
       "      <td>...</td>\n",
       "      <td>...</td>\n",
       "    </tr>\n",
       "    <tr>\n",
       "      <th>393</th>\n",
       "      <td>NaN</td>\n",
       "      <td>NaN</td>\n",
       "      <td>usa</td>\n",
       "    </tr>\n",
       "    <tr>\n",
       "      <th>394</th>\n",
       "      <td>NaN</td>\n",
       "      <td>NaN</td>\n",
       "      <td>europe</td>\n",
       "    </tr>\n",
       "    <tr>\n",
       "      <th>395</th>\n",
       "      <td>NaN</td>\n",
       "      <td>NaN</td>\n",
       "      <td>usa</td>\n",
       "    </tr>\n",
       "    <tr>\n",
       "      <th>396</th>\n",
       "      <td>NaN</td>\n",
       "      <td>NaN</td>\n",
       "      <td>usa</td>\n",
       "    </tr>\n",
       "    <tr>\n",
       "      <th>397</th>\n",
       "      <td>NaN</td>\n",
       "      <td>NaN</td>\n",
       "      <td>usa</td>\n",
       "    </tr>\n",
       "  </tbody>\n",
       "</table>\n",
       "<p>398 rows × 3 columns</p>\n",
       "</div>"
      ],
      "text/plain": [
       "          PC1       PC2  origin\n",
       "0    2.635049  0.929039     usa\n",
       "1    3.493800  0.805473     usa\n",
       "2    2.970415  0.881186     usa\n",
       "3    2.910197  0.961721     usa\n",
       "4    2.903826  0.952789     usa\n",
       "..        ...       ...     ...\n",
       "393       NaN       NaN     usa\n",
       "394       NaN       NaN  europe\n",
       "395       NaN       NaN     usa\n",
       "396       NaN       NaN     usa\n",
       "397       NaN       NaN     usa\n",
       "\n",
       "[398 rows x 3 columns]"
      ]
     },
     "execution_count": 31,
     "metadata": {},
     "output_type": "execute_result"
    }
   ],
   "source": [
    "#Question 8\n",
    "\n",
    "#Write Python code to display finalDf\n",
    "\n",
    "#Write your answer below:\n",
    "\n",
    "finalDf"
   ]
  },
  {
   "cell_type": "code",
   "execution_count": null,
   "id": "77568d94",
   "metadata": {},
   "outputs": [],
   "source": []
  },
  {
   "cell_type": "code",
   "execution_count": 35,
   "id": "486d0795",
   "metadata": {},
   "outputs": [
    {
     "data": {
      "image/png": "[encoded data removed]",
      "text/plain": [
       "<Figure size 640x480 with 1 Axes>"
      ]
     },
     "metadata": {},
     "output_type": "display_data"
    }
   ],
   "source": [
    "#Question 9\n",
    "\n",
    "\n",
    "#We can now visualize 2D Projection of original multi-dimensional data\n",
    "\n",
    "#The principal components carry a lot of the information in the original feature set\n",
    "\n",
    "#Write Python code to visualize the principal components. Use a scatterplot (Seaborn if you can). \n",
    "\n",
    "#Put principal component 1 on the x-axis and\n",
    "# principal component 2 on the y-axis\n",
    "\n",
    "#Write your answer below:\n",
    "\n",
    "\n",
    "plt.pyplot.scatter(x = finalDf.loc[:, 'PC1'].values, y = finalDf.loc[:, 'PC2'].values)\n",
    "plt.pyplot.show()"
   ]
  },
  {
   "cell_type": "code",
   "execution_count": null,
   "id": "d8ba458c",
   "metadata": {},
   "outputs": [],
   "source": []
  },
  {
   "cell_type": "code",
   "execution_count": 48,
   "id": "4af211f3",
   "metadata": {},
   "outputs": [
    {
     "data": {
      "text/plain": [
       "array(['usa', 'usa', 'usa', 'usa', 'usa', 'usa', 'usa', 'usa', 'usa',\n",
       "       'usa', 'usa', 'usa', 'usa', 'usa', 'usa', 'usa', 'usa', 'usa',\n",
       "       'usa', 'usa', 'usa', 'usa', 'usa', 'usa', 'usa', 'usa', 'usa',\n",
       "       'usa', 'usa', 'usa', 'usa', 'usa', 'usa', 'usa', 'japan', 'usa',\n",
       "       'usa', 'usa', 'japan', 'usa', 'usa', 'usa', 'usa', 'usa', 'usa',\n",
       "       'usa', 'usa', 'usa', 'usa', 'usa', 'europe', 'usa', 'usa', 'usa',\n",
       "       'europe', 'usa', 'europe', 'japan', 'usa', 'usa', 'usa', 'usa',\n",
       "       'usa', 'usa', 'usa', 'usa', 'usa', 'usa', 'usa', 'europe', 'usa',\n",
       "       'usa', 'usa', 'japan', 'europe', 'usa', 'usa', 'usa', 'usa', 'usa',\n",
       "       'usa', 'usa', 'usa', 'usa', 'japan', 'usa', 'usa', 'usa', 'usa',\n",
       "       'usa', 'usa', 'usa', 'usa', 'usa'], dtype=object)"
      ]
     },
     "execution_count": 48,
     "metadata": {},
     "output_type": "execute_result"
    }
   ],
   "source": [
    "#Question 10\n",
    "\n",
    "#From your display in Question 9, what origin appears to dominate the cluster to the right hand side of your screen?\n",
    "\n",
    "#usa, japan or europe?\n",
    "\n",
    "#Write your answer below:\n",
    "\n",
    "#Right cluster is where PC1 >=2\n",
    "df_filtered = finalDf.loc[finalDf['PC1'] >= 2]\n",
    "df_filtered.loc[:, 'origin'].values\n",
    "#Most are usa"
   ]
  },
  {
   "cell_type": "code",
   "execution_count": null,
   "id": "29b90bf1",
   "metadata": {},
   "outputs": [],
   "source": []
  },
  {
   "cell_type": "code",
   "execution_count": null,
   "id": "45d6327f",
   "metadata": {},
   "outputs": [],
   "source": []
  },
  {
   "cell_type": "code",
   "execution_count": null,
   "id": "c6689be3",
   "metadata": {},
   "outputs": [],
   "source": []
  },
  {
   "cell_type": "code",
   "execution_count": 1,
   "id": "8c4261c4",
   "metadata": {},
   "outputs": [],
   "source": [
    "#RUN THIS CELL FIRST BEFORE ANSWERING QUESTIONS 11 - 20 BELOW\n",
    "#Refer to INFO 4604 - 5604 - Linear Models - March 9 2023 Class on Week 8: March 6 - March 10 in Canvas for help\n",
    "\n",
    "#The questions below need you to use statsmodel, which is impoted here as sm\n",
    "\n",
    "\n",
    "import statsmodels.api as sm\n",
    "from sklearn import linear_model\n",
    "import pandas as pd\n",
    "\n",
    "\n",
    "X = [1, 2, 2, 4, 2, 1, 5, 4, 2, 4, 4, 3, 6]\n",
    "y = [76, 78, 85, 88, 72, 69, 94, 94, 88, 92, 90, 75, 96]\n",
    "X=sm.add_constant(X)\n",
    "\n",
    "\n"
   ]
  },
  {
   "cell_type": "code",
   "execution_count": 2,
   "id": "0072677a",
   "metadata": {},
   "outputs": [
    {
     "data": {
      "text/plain": [
       "array([[1., 1.],\n",
       "       [1., 2.],\n",
       "       [1., 2.],\n",
       "       [1., 4.],\n",
       "       [1., 2.],\n",
       "       [1., 1.],\n",
       "       [1., 5.],\n",
       "       [1., 4.],\n",
       "       [1., 2.],\n",
       "       [1., 4.],\n",
       "       [1., 4.],\n",
       "       [1., 3.],\n",
       "       [1., 6.]])"
      ]
     },
     "execution_count": 2,
     "metadata": {},
     "output_type": "execute_result"
    }
   ],
   "source": [
    "#Question 11\n",
    "\n",
    "#Write Python code to display X\n",
    "\n",
    "#Write your answer below:\n",
    "\n",
    "X"
   ]
  },
  {
   "cell_type": "code",
   "execution_count": null,
   "id": "1b4c31a6",
   "metadata": {},
   "outputs": [],
   "source": []
  },
  {
   "cell_type": "code",
   "execution_count": 3,
   "id": "2097fb6c",
   "metadata": {},
   "outputs": [
    {
     "data": {
      "text/plain": [
       "[76, 78, 85, 88, 72, 69, 94, 94, 88, 92, 90, 75, 96]"
      ]
     },
     "execution_count": 3,
     "metadata": {},
     "output_type": "execute_result"
    }
   ],
   "source": [
    "#Question 12\n",
    "\n",
    "#Write Python code to display y\n",
    "\n",
    "\n",
    "#Write your answer below:\n",
    "\n",
    "y"
   ]
  },
  {
   "cell_type": "code",
   "execution_count": null,
   "id": "2b152ce2",
   "metadata": {},
   "outputs": [],
   "source": []
  },
  {
   "cell_type": "code",
   "execution_count": 8,
   "id": "73876f1c",
   "metadata": {},
   "outputs": [],
   "source": [
    "#Question 13\n",
    "\n",
    "#Write Python code to fit an OLS model of y on X using sm.OLS() from StatsModel\n",
    "\n",
    "#Store your result in an object called model\n",
    "\n",
    "#Write your answer below:\n",
    "\n",
    "model=sm.OLS(y,X)"
   ]
  },
  {
   "cell_type": "code",
   "execution_count": null,
   "id": "3404e4b7",
   "metadata": {},
   "outputs": [],
   "source": []
  },
  {
   "cell_type": "code",
   "execution_count": 9,
   "id": "57883a7f",
   "metadata": {},
   "outputs": [
    {
     "data": {
      "text/html": [
       "<table class=\"simpletable\">\n",
       "<caption>OLS Regression Results</caption>\n",
       "<tr>\n",
       "  <th>Dep. Variable:</th>            <td>y</td>        <th>  R-squared:         </th> <td>   0.686</td>\n",
       "</tr>\n",
       "<tr>\n",
       "  <th>Model:</th>                   <td>OLS</td>       <th>  Adj. R-squared:    </th> <td>   0.657</td>\n",
       "</tr>\n",
       "<tr>\n",
       "  <th>Method:</th>             <td>Least Squares</td>  <th>  F-statistic:       </th> <td>   24.03</td>\n",
       "</tr>\n",
       "<tr>\n",
       "  <th>Date:</th>             <td>Fri, 24 Mar 2023</td> <th>  Prob (F-statistic):</th> <td>0.000470</td>\n",
       "</tr>\n",
       "<tr>\n",
       "  <th>Time:</th>                 <td>18:17:12</td>     <th>  Log-Likelihood:    </th> <td> -39.306</td>\n",
       "</tr>\n",
       "<tr>\n",
       "  <th>No. Observations:</th>      <td>    13</td>      <th>  AIC:               </th> <td>   82.61</td>\n",
       "</tr>\n",
       "<tr>\n",
       "  <th>Df Residuals:</th>          <td>    11</td>      <th>  BIC:               </th> <td>   83.74</td>\n",
       "</tr>\n",
       "<tr>\n",
       "  <th>Df Model:</th>              <td>     1</td>      <th>                     </th>     <td> </td>   \n",
       "</tr>\n",
       "<tr>\n",
       "  <th>Covariance Type:</th>      <td>nonrobust</td>    <th>                     </th>     <td> </td>   \n",
       "</tr>\n",
       "</table>\n",
       "<table class=\"simpletable\">\n",
       "<tr>\n",
       "    <td></td>       <th>coef</th>     <th>std err</th>      <th>t</th>      <th>P>|t|</th>  <th>[0.025</th>    <th>0.975]</th>  \n",
       "</tr>\n",
       "<tr>\n",
       "  <th>const</th> <td>   69.2128</td> <td>    3.439</td> <td>   20.124</td> <td> 0.000</td> <td>   61.643</td> <td>   76.783</td>\n",
       "</tr>\n",
       "<tr>\n",
       "  <th>x1</th>    <td>    4.9309</td> <td>    1.006</td> <td>    4.902</td> <td> 0.000</td> <td>    2.717</td> <td>    7.145</td>\n",
       "</tr>\n",
       "</table>\n",
       "<table class=\"simpletable\">\n",
       "<tr>\n",
       "  <th>Omnibus:</th>       <td> 0.085</td> <th>  Durbin-Watson:     </th> <td>   1.216</td>\n",
       "</tr>\n",
       "<tr>\n",
       "  <th>Prob(Omnibus):</th> <td> 0.958</td> <th>  Jarque-Bera (JB):  </th> <td>   0.301</td>\n",
       "</tr>\n",
       "<tr>\n",
       "  <th>Skew:</th>          <td>-0.099</td> <th>  Prob(JB):          </th> <td>   0.860</td>\n",
       "</tr>\n",
       "<tr>\n",
       "  <th>Kurtosis:</th>      <td> 2.282</td> <th>  Cond. No.          </th> <td>    8.39</td>\n",
       "</tr>\n",
       "</table><br/><br/>Notes:<br/>[1] Standard Errors assume that the covariance matrix of the errors is correctly specified."
      ],
      "text/plain": [
       "<class 'statsmodels.iolib.summary.Summary'>\n",
       "\"\"\"\n",
       "                            OLS Regression Results                            \n",
       "==============================================================================\n",
       "Dep. Variable:                      y   R-squared:                       0.686\n",
       "Model:                            OLS   Adj. R-squared:                  0.657\n",
       "Method:                 Least Squares   F-statistic:                     24.03\n",
       "Date:                Fri, 24 Mar 2023   Prob (F-statistic):           0.000470\n",
       "Time:                        18:17:12   Log-Likelihood:                -39.306\n",
       "No. Observations:                  13   AIC:                             82.61\n",
       "Df Residuals:                      11   BIC:                             83.74\n",
       "Df Model:                           1                                         \n",
       "Covariance Type:            nonrobust                                         \n",
       "==============================================================================\n",
       "                 coef    std err          t      P>|t|      [0.025      0.975]\n",
       "------------------------------------------------------------------------------\n",
       "const         69.2128      3.439     20.124      0.000      61.643      76.783\n",
       "x1             4.9309      1.006      4.902      0.000       2.717       7.145\n",
       "==============================================================================\n",
       "Omnibus:                        0.085   Durbin-Watson:                   1.216\n",
       "Prob(Omnibus):                  0.958   Jarque-Bera (JB):                0.301\n",
       "Skew:                          -0.099   Prob(JB):                        0.860\n",
       "Kurtosis:                       2.282   Cond. No.                         8.39\n",
       "==============================================================================\n",
       "\n",
       "Notes:\n",
       "[1] Standard Errors assume that the covariance matrix of the errors is correctly specified.\n",
       "\"\"\""
      ]
     },
     "execution_count": 9,
     "metadata": {},
     "output_type": "execute_result"
    }
   ],
   "source": [
    "#Question 14\n",
    "\n",
    "#Write Python code to obtain the summary of the results stored in model in Question 13\n",
    "\n",
    "#Write your answer below:\n",
    "modelFit=model.fit()\n",
    "modelFit.summary()"
   ]
  },
  {
   "cell_type": "code",
   "execution_count": null,
   "id": "b44872dc",
   "metadata": {},
   "outputs": [],
   "source": []
  },
  {
   "cell_type": "code",
   "execution_count": null,
   "id": "ec0a7901",
   "metadata": {},
   "outputs": [],
   "source": [
    "#Question 15\n",
    "\n",
    "#From your summary in Question 14, what is the absolute value of the difference between\n",
    "#Your R-Squared and Adjusted R-Squared values?\n",
    "\n",
    "#Write your answer below rounded to 2 decimal places:\n",
    "\n"
   ]
  },
  {
   "cell_type": "markdown",
   "id": "5b99e6a3-0e0a-4b4e-8459-255cb2c20117",
   "metadata": {},
   "source": [
    "0.69 - 0.66 = 0.03"
   ]
  },
  {
   "cell_type": "code",
   "execution_count": null,
   "id": "81d331f0",
   "metadata": {},
   "outputs": [],
   "source": [
    "#Question 16\n",
    "\n",
    "#What is the coefficient on your explanatory variable?\n",
    "\n",
    "#Write your answer below rounded to 2 decimal places:\n",
    "\n",
    "\n",
    "\n"
   ]
  },
  {
   "cell_type": "markdown",
   "id": "a4d93ac4-fed4-4650-9d19-d744b6fd0646",
   "metadata": {},
   "source": [
    "4.93"
   ]
  },
  {
   "cell_type": "code",
   "execution_count": null,
   "id": "4fae1124",
   "metadata": {},
   "outputs": [],
   "source": [
    "#Question 17\n",
    "\n",
    "\n",
    "#Look at the p-value for the coefficient on your explanatory variable.\n",
    "\n",
    "#Does the p-value suggest statistical significance if we assume an alpha/significance level of 0.05?Yes or No?\n",
    "\n",
    "#Write your answer below:\n",
    "\n",
    "\n",
    "\n"
   ]
  },
  {
   "cell_type": "markdown",
   "id": "424154bd-09fd-4920-bfc9-eae18a3e961b",
   "metadata": {},
   "source": [
    "The p value is 0.000 so yes it is statistically significant at alpha = 0.05."
   ]
  },
  {
   "cell_type": "code",
   "execution_count": null,
   "id": "66307de0",
   "metadata": {},
   "outputs": [],
   "source": [
    "#Question 18\n",
    "\n",
    "#Given your answer in Question 17 above, write your linear regression equation\n",
    "#Using the coefficient estimates in the summary in Question 14 rounded to 2 decimal places:\n",
    "\n",
    "#Write your answer below:\n",
    "\n",
    "\n"
   ]
  },
  {
   "cell_type": "markdown",
   "id": "b370ee12-a72c-4332-bd37-fec29fb548cf",
   "metadata": {},
   "source": [
    "y = 69.21 + 4.93x"
   ]
  },
  {
   "cell_type": "code",
   "execution_count": null,
   "id": "dcadfb95",
   "metadata": {},
   "outputs": [],
   "source": [
    "#Question 19\n",
    "\n",
    "#Use your linear equation to predict a value for y if X = 5?\n",
    "\n",
    "#Write your answer below:\n",
    "\n"
   ]
  },
  {
   "cell_type": "markdown",
   "id": "515fcd2d-e90a-4ca5-bb0d-f54dd219d27f",
   "metadata": {},
   "source": [
    "93.86"
   ]
  },
  {
   "cell_type": "code",
   "execution_count": null,
   "id": "23170bb6",
   "metadata": {},
   "outputs": [],
   "source": [
    "#Question 20\n",
    "\n",
    "#Compare your prediction in Question 19 to the actual value of y when X = 5 in the original dataset\n",
    "\n",
    "#If we focus on this one value, what is the absolute value of your prediction \n",
    "# error given your prediction in Question 19?\n",
    "\n",
    "#Round your answer to 2 decimal places:\n",
    "\n",
    "#Write your answer below:\n",
    "\n"
   ]
  },
  {
   "cell_type": "markdown",
   "id": "4ae6e89e-47b6-4f5a-85b6-2f8f862edb91",
   "metadata": {},
   "source": [
    "94 - 93.86 = 0.14"
   ]
  },
  {
   "cell_type": "code",
   "execution_count": null,
   "id": "d9ae8094",
   "metadata": {},
   "outputs": [],
   "source": [
    "                                        ###End of Exam 1.5 - Part 2####"
   ]
  },
  {
   "cell_type": "code",
   "execution_count": null,
   "id": "bbc28149",
   "metadata": {},
   "outputs": [],
   "source": []
  },
  {
   "cell_type": "code",
   "execution_count": null,
   "id": "b3078ec9",
   "metadata": {},
   "outputs": [],
   "source": []
  },
  {
   "cell_type": "code",
   "execution_count": null,
   "id": "babf7221",
   "metadata": {},
   "outputs": [],
   "source": []
  }
 ],
 "metadata": {
  "kernelspec": {
   "display_name": "Python 3 (ipykernel)",
   "language": "python",
   "name": "python3"
  },
  "language_info": {
   "codemirror_mode": {
    "name": "ipython",
    "version": 3
   },
   "file_extension": ".py",
   "mimetype": "text/x-python",
   "name": "python",
   "nbconvert_exporter": "python",
   "pygments_lexer": "ipython3",
   "version": "3.10.8"
  }
 },
 "nbformat": 4,
 "nbformat_minor": 5
}

{
 "cells": [
  {
   "cell_type": "code",
   "execution_count": null,
   "id": "19ba494e",
   "metadata": {},
   "outputs": [],
   "source": [
    "                                      ###### Homework 4 - Part 3 ###########"
   ]
  },
  {
   "cell_type": "code",
   "execution_count": null,
   "id": "3573c5dc",
   "metadata": {},
   "outputs": [],
   "source": [
    "#Note the following:\n",
    "\n",
    "#1. Each question is worth 1 point\n",
    "#2. Write your name and student ID below\n",
    "#3. Remember to save your file and upload to Canvas"
   ]
  },
  {
   "cell_type": "code",
   "execution_count": null,
   "id": "37271427",
   "metadata": {},
   "outputs": [],
   "source": [
    "#Student Name: Alex Ojemann"
   ]
  },
  {
   "cell_type": "code",
   "execution_count": null,
   "id": "c7b56f2f",
   "metadata": {},
   "outputs": [],
   "source": [
    "#Student ID: 109722375"
   ]
  },
  {
   "cell_type": "code",
   "execution_count": null,
   "id": "b4219762",
   "metadata": {},
   "outputs": [],
   "source": []
  },
  {
   "cell_type": "code",
   "execution_count": null,
   "id": "66f02717",
   "metadata": {},
   "outputs": [],
   "source": [
    "#Read the context below to answer Questions 1 - 10 below:\n",
    "\n",
    "#It is plausible to think that the longer a student studies mathematics the better they get at testing.\n",
    "\n",
    "#Suppose you set out to prove/disprove the theory above. You talk to 10 randomly selected friends that studied\n",
    "#mathematics in Fall of 2022 across several universities and obtain the following raw data from them, \n",
    "# which you store in the following variables:\n",
    "\n",
    "\n",
    "#Time: defined as number of hours a friend spent studying mathematics in one semester \n",
    "\n",
    "#Score: defined as the raw score in points (out of a maximum of 100) that a friend earned in mathematics\n",
    "\n",
    "#Your goal is to use simple linear regression to test the following hypotheses:\n",
    "\n",
    "#Null hypothesis: There is no statistically significant relationship between Score and Time\n",
    "#Alternative hypothesis: There is a statistically significant relationship between Score and Time\n",
    "\n",
    "#You choose to test the Null against the Alternative at 5% (0.05) significance level (alpha)\n",
    "\n",
    "#The next cell shows the data and shows a scatter plot for the data you collected\n"
   ]
  },
  {
   "cell_type": "code",
   "execution_count": 1,
   "id": "ed16d8ab",
   "metadata": {},
   "outputs": [
    {
     "data": {
      "image/png": "[encoded data removed]",
      "text/plain": [
       "<Figure size 640x480 with 1 Axes>"
      ]
     },
     "metadata": {},
     "output_type": "display_data"
    }
   ],
   "source": [
    "#MAKE SURE YOU RUN THIS CELL FIRST BEFORE YOU ANSWER ANY QUESTIONS BELOW\n",
    "\n",
    "#Import relevant libraries\n",
    "\n",
    "import matplotlib.pyplot as plt\n",
    "from scipy import stats\n",
    "\n",
    "#Data you collected for all 10 students\n",
    "\n",
    "Time = [99,96,93,98,97,92,103,85,80,98,95,95,99]\n",
    "Score = [96,95,97,95,89,87,92,84,77,89,88,95,98]\n",
    "\n",
    "#Show scatterplot of your data\n",
    "fig, ax = plt.subplots()\n",
    "ax.scatter(Time, Score, c=\"green\", alpha=0.5, label=\"Scatterplot of Score vs. Time Spent Studying\")\n",
    "\n",
    "ax.set_xlabel(\"Time\")\n",
    "ax.set_ylabel(\"Score\")\n",
    "\n",
    "plt.show()"
   ]
  },
  {
   "cell_type": "code",
   "execution_count": 3,
   "id": "5e94c716",
   "metadata": {},
   "outputs": [],
   "source": [
    "#Question 1\n",
    "\n",
    "#Suppose we define the following variables to hold outputs from our linear regression analysis:\n",
    "\n",
    "#slope: variable to hold the slope coefficient from the regression\n",
    "#intercept: variable to hold the intercept from the regression\n",
    "#corr_coefficient: variable to hold the correlation coefficient from the regression\n",
    "#p_value: variable to hold the p-value of the slope coefficient from the regression\n",
    "#std_err: variable to hold the standard error of the regression\n",
    "\n",
    "#Using stats.linregress from the stats module you imported above,\n",
    "#Write Python code to obtain the following (in the order written) from a regression of Score on Time:\n",
    "\n",
    "#slope, intercept, corr_coefficient, p_value, std_err\n",
    "\n",
    "slope, intercept, corr_coefficient, p_value, std_err=stats.linregress(Time,Score)"
   ]
  },
  {
   "cell_type": "code",
   "execution_count": null,
   "id": "0168227a",
   "metadata": {},
   "outputs": [],
   "source": []
  },
  {
   "cell_type": "code",
   "execution_count": 4,
   "id": "9d4ff6db",
   "metadata": {},
   "outputs": [
    {
     "data": {
      "text/plain": [
       "0.7506761325219741"
      ]
     },
     "execution_count": 4,
     "metadata": {},
     "output_type": "execute_result"
    }
   ],
   "source": [
    "#Question 2:\n",
    "\n",
    "#Write Python code to print slope\n",
    "\n",
    "#Write your answer below:\n",
    "\n",
    "slope"
   ]
  },
  {
   "cell_type": "code",
   "execution_count": null,
   "id": "f100e0fa",
   "metadata": {},
   "outputs": [],
   "source": []
  },
  {
   "cell_type": "code",
   "execution_count": 5,
   "id": "a34bc494",
   "metadata": {},
   "outputs": [
    {
     "data": {
      "text/plain": [
       "0.002259292034098757"
      ]
     },
     "execution_count": 5,
     "metadata": {},
     "output_type": "execute_result"
    }
   ],
   "source": [
    "#Question 3:\n",
    "\n",
    "#Write Python code print p_value (the p-value of the coefficient on the variable Time)\n",
    "\n",
    "p_value"
   ]
  },
  {
   "cell_type": "code",
   "execution_count": null,
   "id": "90023415",
   "metadata": {},
   "outputs": [],
   "source": []
  },
  {
   "cell_type": "code",
   "execution_count": null,
   "id": "75adab24",
   "metadata": {},
   "outputs": [],
   "source": [
    "#Question 4:\n",
    "\n",
    "#Given the null and alternative hypothesis you set out to test above,\n",
    "# do you think that the coefficient on Time is statistically significant? Why or Why not?\n",
    "\n",
    "\n",
    "#Write your answer below:\n",
    "\n"
   ]
  },
  {
   "cell_type": "markdown",
   "id": "bdf260b3-e285-49c9-8f6c-32acf9cd5a05",
   "metadata": {},
   "source": [
    "The coefficient on time is statistically significant because the p value is less than our chosen alpha of 0.05."
   ]
  },
  {
   "cell_type": "code",
   "execution_count": 6,
   "id": "7c1acfd7",
   "metadata": {},
   "outputs": [
    {
     "data": {
      "text/plain": [
       "19.89756592292092"
      ]
     },
     "execution_count": 6,
     "metadata": {},
     "output_type": "execute_result"
    }
   ],
   "source": [
    "#Question 5\n",
    "\n",
    "#Write Python code to print the intercept of the regression above\n",
    "\n",
    "#Write your answer below:\n",
    "\n",
    "intercept"
   ]
  },
  {
   "cell_type": "code",
   "execution_count": null,
   "id": "82344e77",
   "metadata": {},
   "outputs": [],
   "source": []
  },
  {
   "cell_type": "code",
   "execution_count": null,
   "id": "f1bac1f5",
   "metadata": {},
   "outputs": [],
   "source": [
    "#Question 6\n",
    "\n",
    "#Given your regression of Score on Time, write Score as a linear function of Time using \n",
    "# the intercept and slope coefficients (round each to 2 decimal places) you obtained in the questions above:\n",
    "\n",
    "\n",
    "#Write your answer below:\n",
    "\n"
   ]
  },
  {
   "cell_type": "markdown",
   "id": "f34e7617-d533-4bd0-99bc-35079357b75c",
   "metadata": {},
   "source": [
    "Score = 0.75 * Time + 19.90"
   ]
  },
  {
   "cell_type": "code",
   "execution_count": null,
   "id": "3a29aed6",
   "metadata": {},
   "outputs": [],
   "source": [
    "#Question 7\n",
    "\n",
    "#How do you interpret the coefficient estimate (i.e. slope) of the variable Time?\n",
    "\n",
    "\n",
    "#Write your answer below:\n",
    "\n"
   ]
  },
  {
   "cell_type": "markdown",
   "id": "7a4e704b-6082-444b-8da1-1109c00df78b",
   "metadata": {},
   "source": [
    "We expect a student who spends 0 hours studying to get a score of 19.90."
   ]
  },
  {
   "cell_type": "code",
   "execution_count": null,
   "id": "3e1ad669",
   "metadata": {},
   "outputs": [],
   "source": [
    "#Question 8\n",
    "\n",
    "\n",
    "#One of your friends says they plan to spend 90 hours studying mathatics this Fall \n",
    "# and wants a prediction for their likely score.\n",
    "\n",
    "#Using your model/function in Question 7 above, what would be your prediction for\n",
    "# Score when Time = 90 hours?\n",
    "\n",
    "\n",
    "#Write your answer below (round to 1 decimal places):\n",
    "\n",
    "\n"
   ]
  },
  {
   "cell_type": "markdown",
   "id": "27047f86-f445-45f2-8623-ae5afc4d0c24",
   "metadata": {},
   "source": [
    "87.4"
   ]
  },
  {
   "cell_type": "code",
   "execution_count": null,
   "id": "cee6d563",
   "metadata": {},
   "outputs": [],
   "source": [
    "#Question 9\n",
    "\n",
    "#Looking at the orginal data you collected for Scores and Time above, \n",
    "#the student that spent 103 hours studying, actually scored 92 points in mathematics.\n",
    "\n",
    "#1. Use your model in Question 6 to obtain a predicted Score given that Time = 103 hours.\n",
    "#2. Calculate what the error (actual Score value minus predicted Score value) is when Time = 103 hours\n",
    "#3. What is the absolute value of your calculated error (round to two decimal places?\n",
    "\n",
    "#Write your answer below:\n",
    "\n",
    "\n"
   ]
  },
  {
   "cell_type": "markdown",
   "id": "3bb4b257-3534-488c-992a-cb0ab3baef69",
   "metadata": {},
   "source": [
    "1. 103 * 0.75 + 19.90 = 97.15\n",
    "2. 92 - 97.15 = -5.15\n",
    "3. |-5.15| = 5.15"
   ]
  },
  {
   "cell_type": "code",
   "execution_count": null,
   "id": "cd810988",
   "metadata": {},
   "outputs": [],
   "source": [
    "#Question 10\n",
    "\n",
    "\n",
    "#Using the information from the original data you collected from your friends and your model from Question 6, \n",
    "#calculate the root mean squared error (RMSE) for your model using the last three Time and Score values\n",
    "\n",
    "\n",
    "#Round your answer to two decimal places\n",
    "\n",
    "#Write your answer below:\n",
    "\n"
   ]
  },
  {
   "cell_type": "markdown",
   "id": "51620d6b-29fc-43a6-a5a7-6063a6b122c0",
   "metadata": {},
   "source": [
    "Errors from last 3 values: -5.4, 3.85, 4.85\n",
    "\n",
    "Root of mean of squared errors: 4.74"
   ]
  },
  {
   "cell_type": "code",
   "execution_count": null,
   "id": "af454a8d",
   "metadata": {},
   "outputs": [],
   "source": [
    "                                     ####End of Homework 3 - Part 3###"
   ]
  }
 ],
 "metadata": {
  "kernelspec": {
   "display_name": "Python 3 (ipykernel)",
   "language": "python",
   "name": "python3"
  },
  "language_info": {
   "codemirror_mode": {
    "name": "ipython",
    "version": 3
   },
   "file_extension": ".py",
   "mimetype": "text/x-python",
   "name": "python",
   "nbconvert_exporter": "python",
   "pygments_lexer": "ipython3",
   "version": "3.10.8"
  }
 },
 "nbformat": 4,
 "nbformat_minor": 5
}

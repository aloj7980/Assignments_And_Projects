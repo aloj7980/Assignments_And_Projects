{
 "cells": [
  {
   "cell_type": "markdown",
   "id": "6e68287c",
   "metadata": {},
   "source": [
    "# Homework 2 - Part 3"
   ]
  },
  {
   "cell_type": "code",
   "execution_count": null,
   "id": "d82cc41c",
   "metadata": {},
   "outputs": [],
   "source": [
    "#Student Name: Alex Ojemann\n",
    "\n",
    "#Student ID: 109722375"
   ]
  },
  {
   "cell_type": "code",
   "execution_count": null,
   "id": "56707622",
   "metadata": {},
   "outputs": [],
   "source": [
    "#Use the following information to answer Question 1 through Question 5"
   ]
  },
  {
   "cell_type": "code",
   "execution_count": 2,
   "id": "ac1a93e0",
   "metadata": {},
   "outputs": [],
   "source": [
    "#RUN THIS CELL FIRST before you answer Questions 1 - 5\n",
    "\n",
    "from numpy import array\n",
    "from numpy.linalg import norm\n",
    "\n",
    "#Suppose we create/define the following arrays\n",
    "\n",
    "A1 = array([1,-3,4,5])\n",
    "\n",
    "A2 = array([3,4,5,7])\n",
    "\n",
    "A3 = array([\n",
    "[1, 2],\n",
    "[3, 4],\n",
    "[5, 6]])\n",
    "\n",
    "A4 = array([\n",
    "[1, 2],\n",
    "[3, 4]])\n",
    "\n",
    "A5 = array([\n",
    "[1, 2],\n",
    "[3, 4],\n",
    "[5, 6]])\n",
    "\n",
    "A6 = array([0.5, 0.5])\n",
    "\n",
    "A7 = array([[3,-5],\n",
    "           [16,8],\n",
    "            [21,23]])"
   ]
  },
  {
   "cell_type": "code",
   "execution_count": 3,
   "id": "687f2505",
   "metadata": {},
   "outputs": [
    {
     "data": {
      "text/plain": [
       "array([[ 0.33333333, -0.4       ],\n",
       "       [ 0.1875    ,  0.5       ],\n",
       "       [ 0.23809524,  0.26086957]])"
      ]
     },
     "execution_count": 3,
     "metadata": {},
     "output_type": "execute_result"
    }
   ],
   "source": [
    "#Question 1:\n",
    "\n",
    "#Write Python code below to find the element-wise division of A3 by A7\n",
    "\n",
    "A3/A7"
   ]
  },
  {
   "cell_type": "code",
   "execution_count": 4,
   "id": "7be59959",
   "metadata": {},
   "outputs": [
    {
     "data": {
      "text/plain": [
       "array([[ 3, 16, 21],\n",
       "       [-5,  8, 23]])"
      ]
     },
     "execution_count": 4,
     "metadata": {},
     "output_type": "execute_result"
    }
   ],
   "source": [
    "#Question 2:\n",
    "\n",
    "#Write Python code below to find the transpose of A7\n",
    "\n",
    "A7.T"
   ]
  },
  {
   "cell_type": "code",
   "execution_count": 5,
   "id": "bc0dd325",
   "metadata": {},
   "outputs": [
    {
     "data": {
      "text/plain": [
       "array([[ 0.6,  3.2,  4.2],\n",
       "       [-1. ,  1.6,  4.6]])"
      ]
     },
     "execution_count": 5,
     "metadata": {},
     "output_type": "execute_result"
    }
   ],
   "source": [
    "#Question 3:\n",
    "\n",
    "#Write Python code below to divide the transpose of A7 by 5\n",
    "\n",
    "x = A7.T\n",
    "x/5"
   ]
  },
  {
   "cell_type": "code",
   "execution_count": 9,
   "id": "93826917",
   "metadata": {},
   "outputs": [
    {
     "data": {
      "text/plain": [
       "46"
      ]
     },
     "execution_count": 9,
     "metadata": {},
     "output_type": "execute_result"
    }
   ],
   "source": [
    "#Question 4:\n",
    "\n",
    "#Write Python code below to find the vector dot product of A1 and A2\n",
    "\n",
    "A1[0]*A2[0] + A1[1]*A2[1] + A1[2]*A2[2] + A1[3]*A2[3]"
   ]
  },
  {
   "cell_type": "code",
   "execution_count": 10,
   "id": "1b947413",
   "metadata": {},
   "outputs": [
    {
     "data": {
      "text/plain": [
       "1.3065491598369756"
      ]
     },
     "execution_count": 10,
     "metadata": {},
     "output_type": "execute_result"
    }
   ],
   "source": [
    "#Question 5:\n",
    "\n",
    "#Write Python code below to divide the l1 norm of A1 by the Euclidean norm of A2.\n",
    "\n",
    "#Do not assign the L1/ Euclidean norms to any object before the division\n",
    "\n",
    "norm(A1,1)/norm(A2)"
   ]
  },
  {
   "cell_type": "code",
   "execution_count": 11,
   "id": "40af2fb5",
   "metadata": {},
   "outputs": [],
   "source": [
    "#RUN THIS CELL FIRST before you answer Questions 6 - 10\n",
    "\n",
    "from numpy import array\n",
    "from numpy.linalg import norm\n",
    "\n",
    "#Suppose we create/define the following arrays\n",
    "\n",
    "# matrix-matrix Hadamard product\n",
    "#element-wise product\n",
    "\n",
    "\n",
    "\n",
    "B1 = array([\n",
    "[1, 2, 3],\n",
    "[4, 5, 6]])\n",
    "\n",
    "\n",
    "\n",
    "B2 = array([\n",
    "[1, 2, 3],\n",
    "[4, 5, 6]])\n",
    "\n",
    "\n",
    "B3 = array([[2,3],[5,1],[3,4]])"
   ]
  },
  {
   "cell_type": "code",
   "execution_count": 12,
   "id": "b653543a",
   "metadata": {},
   "outputs": [
    {
     "data": {
      "text/plain": [
       "array([[ 1,  4,  9],\n",
       "       [16, 25, 36]])"
      ]
     },
     "execution_count": 12,
     "metadata": {},
     "output_type": "execute_result"
    }
   ],
   "source": [
    "#Question 6\n",
    "\n",
    "#Write Python code below to find the Hadamard product of B1 and B2\n",
    "\n",
    "#Do not assign the product to an object\n",
    "\n",
    "\n",
    "B1 * B2"
   ]
  },
  {
   "cell_type": "code",
   "execution_count": 13,
   "id": "6c739188",
   "metadata": {},
   "outputs": [
    {
     "data": {
      "text/plain": [
       "array([[0, 0, 0],\n",
       "       [0, 0, 0]])"
      ]
     },
     "execution_count": 13,
     "metadata": {},
     "output_type": "execute_result"
    }
   ],
   "source": [
    "#Question 7\n",
    "\n",
    "#Write Python code below to subtract B2 from B1\n",
    "\n",
    "B2 - B1"
   ]
  },
  {
   "cell_type": "code",
   "execution_count": 14,
   "id": "3e713f62",
   "metadata": {},
   "outputs": [
    {
     "data": {
      "text/plain": [
       "array([[1, 4],\n",
       "       [2, 5],\n",
       "       [3, 6]])"
      ]
     },
     "execution_count": 14,
     "metadata": {},
     "output_type": "execute_result"
    }
   ],
   "source": [
    "#Question 8\n",
    "\n",
    "#Write Python code below to find the transpose of B2\n",
    "\n",
    "B2.T"
   ]
  },
  {
   "cell_type": "code",
   "execution_count": 37,
   "id": "ffeb728d",
   "metadata": {},
   "outputs": [
    {
     "data": {
      "text/plain": [
       "array([[21, 17],\n",
       "       [51, 41]])"
      ]
     },
     "execution_count": 37,
     "metadata": {},
     "output_type": "execute_result"
    }
   ],
   "source": [
    "#Question 9\n",
    "\n",
    "#Write Python code below to find the matrix-matrix dot product of B2 and B3\n",
    "\n",
    "array([array([B2[0,0] * B3[0,0] + B2[0,1] * B3[1,0] + B2[0,2] * B3[2,0],B2[0,0] * B3[0,1] + B2[0,1] * B3[1,1] + B2[0,2] * B3[2,1]]), array([B2[1,0] * B3[0,0] + B2[1,1] * B3[1,0] + B2[1,2] * B3[2,0],B2[1,0] * B3[0,1] + B2[1,1] * B3[1,1] + B2[1,2] * B3[2,1]])])"
   ]
  },
  {
   "cell_type": "code",
   "execution_count": 38,
   "id": "bd90d2f9",
   "metadata": {},
   "outputs": [
    {
     "data": {
      "text/plain": [
       "array([[1.42857143, 2.85714286, 4.28571429],\n",
       "       [5.71428571, 7.14285714, 8.57142857]])"
      ]
     },
     "execution_count": 38,
     "metadata": {},
     "output_type": "execute_result"
    }
   ],
   "source": [
    "#Question 10\n",
    "\n",
    "#Write Python code below to divide B1 by 0.7\n",
    "\n",
    "B1/0.7\n"
   ]
  },
  {
   "cell_type": "code",
   "execution_count": null,
   "id": "13a918e6",
   "metadata": {},
   "outputs": [],
   "source": []
  },
  {
   "cell_type": "code",
   "execution_count": null,
   "id": "ac55bc0e",
   "metadata": {},
   "outputs": [],
   "source": []
  },
  {
   "cell_type": "code",
   "execution_count": null,
   "id": "19d1ebbc",
   "metadata": {},
   "outputs": [],
   "source": []
  }
 ],
 "metadata": {
  "kernelspec": {
   "display_name": "Python 3 (ipykernel)",
   "language": "python",
   "name": "python3"
  },
  "language_info": {
   "codemirror_mode": {
    "name": "ipython",
    "version": 3
   },
   "file_extension": ".py",
   "mimetype": "text/x-python",
   "name": "python",
   "nbconvert_exporter": "python",
   "pygments_lexer": "ipython3",
   "version": "3.10.8"
  }
 },
 "nbformat": 4,
 "nbformat_minor": 5
}

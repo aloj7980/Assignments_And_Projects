{
 "cells": [
  {
   "cell_type": "code",
   "execution_count": 3,
   "id": "2d97beba-04be-46c6-a4e9-d6bea68a34ba",
   "metadata": {},
   "outputs": [
    {
     "name": "stdout",
     "output_type": "stream",
     "text": [
      "(b'\\xd6\\xd7KM\\xb8\\xf0\\x14\\x99-%\\xcad[(E.]\\xbaj\\x0e\\x08\\x0b\\xd0\\x88\\x94\\t\\xfb\\xc7b\\x81\\xebG\\xfeM<\\xdb\\x13c|\\x9d]\\x13B\\xd2\\x96\\x04D\\xf4\\xa1\\n^j\\x1e0\\xd7r\\xeb\\xe7\\xa4W\\xe7\\xa5\\xa3A\\xfcs\\xeen\\xe7\\xdey\\xce\\xc3\\xe7\\x0e\\x8be\\x91\\x8f\\x82\\xbf\\x8d8\\xf1p\\x99\\x05K\\xbc\\x9e\\x8bCV=\\xac\\xf87z\\xa0\\xd1\\x89T$\\xd3m\\x04\\x98W/\\x11\\x06\\x9ejr\\nU\\xf7\\xd7O\\xce', b'\\x86\\x8f\\x8c\\xad\\xe4k@X\\x92\\x9a\\xa1\\x05\\xad\\x15\\x9f\\xb8')\n",
      "b\"The basic principle of squash is to keep hitting the ball against the front wall until your opponent can\\xac7\\xfa3\\xc8\\x9e'_^*\\xe0\\x06\\xc5\\xb0\\xfe\\x87i\\xd4c\\x01;\\xb2\\xbcr\\x9f\\xe5A\\xbe\\\\6\\xe6\\x08\\x9d\\xc7\\xc6\\xdb\\x83;\\xb7/Q v\\x85\\xb9H\\xe5\\xddRiG\\x0b\\t)\\xc36\\x9c\\xe8\\xf7\\x041,&f>\\x1d'sS\\x0b\\xebq\\xcb\\xed\\xba}]Y\\xcaz\\xbf\\x13\\xeeVD7!\\xcb\\x84\\xc1\\x8b:\\xd4\\x18\\x00Yj\\xa6\\x1e\\xf4\\xab\"\n"
     ]
    }
   ],
   "source": [
    "\n",
    "from Crypto.Cipher import AES\n",
    "from Crypto.Random import get_random_bytes\n",
    "plainText = b\"The FitnessGram Pacer Test is a multistage aerobic capacity test that progressively gets more difficult as it continues.\"\n",
    "key = get_random_bytes(16)\n",
    "cipher = AES.new(key,AES.MODE_GCM)\n",
    "cipherText = cipher.encrypt_and_digest(plainText)\n",
    "print(cipherText)\n",
    "cipherText2 = (b'\\x08>\\xe43\\x16J\\x9bx/a\\x18\\x0e#\\x7f\\x1ei\\x02h\\xad\\x8b\\xfc\\x01\\xef\\xf8\\xdc\\xf8+\\xb1\\x86zO\\xdc\\xe2\\xcf\\xf4\\xf6\\x1b\\xa4C\\x91\\x1d\\x12\\xb7\\x94R\\xe6\"\\x1d\\xb3Nf\\x0e\\xd3y\\xe2\\xaaI\\xce\\x18n\\xb6\\xfdp\\xcb\\xe0h\\x95\\x94\\xcf\\xe8{\\xc6\\xa5>\\xfd\\xa8p;\\xa1\\xe7\\x88\\xb2M\\xf9>\\x82\\xa8[2_Zdfy#/\\xcd\\xdeel\\x83V\\xb8\\x01\\xe2\\xba4\\'\\x9cw3\\x0f4m\\xfe\\x9e.\\xf2`\\x9e\\xd7db\\x17\\x0c\\xd7\\x1fM\\xb04\\x16\\xc3\\xb3\\xa5&G\\xae\\x01\\xa2\\x0b\\xa8\\xf1?0\\x15]N\\xeb0\\x19\\x90!SXp\\x0ei#\\x89\\xd1*\\xe2a\\x12J\\x05F\\x0c\\x12`5fA\"\\xac\\xb0[\\xde\\r\\x04-\\x1d\\xb9\\xa4;\\\\\\xda\\xe9\\x8d\\xd8\\x98?\\xd76\\xd2\\x9d=\\x05jU\\x1f\\xc9\\xbb.\\xfc')\n",
    "cipher2 = AES.new(b'sh9EH2HSNsJAspl3',AES.MODE_GCM,b'rhoap91j')\n",
    "plainText2 = cipher2.decrypt(cipherText2)\n",
    "print(plainText2)"
   ]
  },
  {
   "cell_type": "code",
   "execution_count": null,
   "id": "8b9779e4-3665-491e-a8b0-b91620c38e78",
   "metadata": {},
   "outputs": [],
   "source": []
  },
  {
   "cell_type": "code",
   "execution_count": null,
   "id": "29665a64-201d-4322-aebb-79ffa6131cc7",
   "metadata": {},
   "outputs": [],
   "source": []
  }
 ],
 "metadata": {
  "kernelspec": {
   "display_name": "Python 3 (ipykernel)",
   "language": "python",
   "name": "python3"
  },
  "language_info": {
   "codemirror_mode": {
    "name": "ipython",
    "version": 3
   },
   "file_extension": ".py",
   "mimetype": "text/x-python",
   "name": "python",
   "nbconvert_exporter": "python",
   "pygments_lexer": "ipython3",
   "version": "3.10.5"
  }
 },
 "nbformat": 4,
 "nbformat_minor": 5
}

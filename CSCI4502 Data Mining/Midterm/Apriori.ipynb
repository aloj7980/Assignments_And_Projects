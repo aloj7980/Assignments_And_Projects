{
 "cells": [
  {
   "cell_type": "code",
   "execution_count": 23,
   "id": "86127371-aa3a-41b4-88c4-9df6efd4004e",
   "metadata": {},
   "outputs": [
    {
     "name": "stdout",
     "output_type": "stream",
     "text": [
      "[['Laptop'], ['Phone'], ['Headphones'], ['Charger'], ['Mouse'], ['Keyboard'], ['Monitor'], ['Smartwatch'], ['Laptop', 'Phone'], ['Phone', 'Smartwatch'], ['Headphones', 'Charger'], ['Mouse', 'Keyboard']]\n"
     ]
    }
   ],
   "source": [
    "from itertools import combinations\n",
    "\n",
    "products = [\"Laptop\", \"Phone\", \"Headphones\", \"Charger\", \"Mouse\",\n",
    "\"Keyboard\", \"Monitor\", \"Tablet\", \"Smartwatch\", \"Speakers\"]\n",
    "# Fixed set of transactions for deterministic results\n",
    "transactions = [\n",
    "[\"Laptop\", \"Phone\", \"Charger\"],\n",
    "[\"Phone\", \"Headphones\", \"Charger\", \"Smartwatch\"],\n",
    "[\"Laptop\", \"Tablet\", \"Speakers\"],\n",
    "[\"Monitor\", \"Keyboard\", \"Mouse\"],\n",
    "[\"Laptop\", \"Monitor\", \"Keyboard\", \"Mouse\"],\n",
    "[\"Phone\", \"Smartwatch\"],\n",
    "[\"Headphones\", \"Charger\"],\n",
    "[\"Laptop\", \"Headphones\", \"Charger\"],\n",
    "[\"Monitor\", \"Tablet\", \"Speakers\"],\n",
    "[\"Laptop\", \"Phone\", \"Headphones\", \"Smartwatch\"],\n",
    "[\"Laptop\", \"Phone\", \"Mouse\", \"Keyboard\"],\n",
    "] * 91 # Repeat the fixed set 91 times to have 1001 transactions\n",
    "\n",
    "def get_item_sets(products, k):\n",
    "    item_sets = list(combinations(products, k))\n",
    "    return [list(item_set) for item_set in item_sets]\n",
    "\n",
    "def check_support(item_sets, min_support):\n",
    "    supported_item_sets = []\n",
    "    for item_set in item_sets:\n",
    "        support = 0\n",
    "        for transaction in transactions:\n",
    "            if(all(item in transaction for item in item_set)):\n",
    "                support = support + 1\n",
    "        support = support / len(transactions)\n",
    "        if(support >= min_support):\n",
    "            supported_item_sets.append(item_set)\n",
    "            \n",
    "    return supported_item_sets\n",
    "\n",
    "def apriori(transactions, products, min_support):\n",
    "    supported_item_sets = []\n",
    "    candidates = get_item_sets(products,1)\n",
    "    max_k = max(len(sublist) for sublist in transactions)\n",
    "    for k in range(1,max_k+1):\n",
    "        #Add supported item sets to result\n",
    "        supported_sets_k = check_support(candidates,min_support)\n",
    "        for item in supported_sets_k:\n",
    "            supported_item_sets.append(item)\n",
    "        \n",
    "        #get candidates for next iteration\n",
    "        candidates = []\n",
    "        sets_kplus1 = get_item_sets(products, k+1)\n",
    "        for item_set in sets_kplus1:\n",
    "            subsets = get_item_sets(item_set,k)\n",
    "            if all(subset in supported_sets_k for subset in subsets):\n",
    "                candidates.append(item_set)\n",
    "\n",
    "    return supported_item_sets\n",
    "\n",
    "print(apriori(transactions,products,0.185))"
   ]
  },
  {
   "cell_type": "code",
   "execution_count": null,
   "id": "18dadfd9-5640-49c7-a0cd-538c0fb927ab",
   "metadata": {},
   "outputs": [],
   "source": []
  }
 ],
 "metadata": {
  "kernelspec": {
   "display_name": "Python 3 (ipykernel)",
   "language": "python",
   "name": "python3"
  },
  "language_info": {
   "codemirror_mode": {
    "name": "ipython",
    "version": 3
   },
   "file_extension": ".py",
   "mimetype": "text/x-python",
   "name": "python",
   "nbconvert_exporter": "python",
   "pygments_lexer": "ipython3",
   "version": "3.10.8"
  }
 },
 "nbformat": 4,
 "nbformat_minor": 5
}

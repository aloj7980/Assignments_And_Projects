{
  "cells": [
    {
      "cell_type": "code",
      "source": [
        "#THIS CODE MUST BE RUN ON A LINUX MACHINE\n",
        "\n",
        "#using sample code from https://automl.github.io/auto-sklearn/master/\n",
        "#using sample code from https://scikit-learn.org/stable/auto_examples/datasets/plot_iris_dataset.html\n",
        "\n",
        "#!sudo apt-get install build-essential swig\n",
        "#!pip install auto-sklearn"
      ],
      "metadata": {
        "id": "iiRb1kUBzaqT"
      },
      "id": "iiRb1kUBzaqT",
      "execution_count": null,
      "outputs": []
    },
    {
      "cell_type": "code",
      "execution_count": null,
      "id": "6b6d7976",
      "metadata": {
        "colab": {
          "base_uri": "https://localhost:8080/"
        },
        "id": "6b6d7976",
        "outputId": "7d262236-08da-4032-8d77-77d03bd46290"
      },
      "outputs": [
        {
          "output_type": "stream",
          "name": "stdout",
          "text": [
            "1.0\n"
          ]
        }
      ],
      "source": [
        "import autosklearn.classification\n",
        "import sklearn.datasets\n",
        "import sklearn.model_selection\n",
        "import sklearn.metrics\n",
        "\n",
        "iris = sklearn.datasets.load_iris()\n",
        "\n",
        "X=iris.data\n",
        "y=iris.target\n",
        "\n",
        "X_train, X_test, y_train, y_test = sklearn.model_selection.train_test_split(X, y, test_size = 0.3, random_state=42)\n",
        "\n",
        "\n",
        "cls = autosklearn.classification.AutoSklearnClassifier(time_left_for_this_task=30) #time_left_for_this_task=30\n",
        "cls.fit(X_train, y_train)\n",
        "y_hat = cls.predict(X_test)\n",
        "accuracy = sklearn.metrics.accuracy_score(y_test, y_hat)\n",
        "print(accuracy)"
      ]
    },
    {
      "cell_type": "code",
      "execution_count": null,
      "id": "16387127",
      "metadata": {
        "id": "16387127",
        "colab": {
          "base_uri": "https://localhost:8080/"
        },
        "outputId": "29436971-722b-4ab1-ec13-e8e97f9d0545"
      },
      "outputs": [
        {
          "output_type": "execute_result",
          "data": {
            "text/plain": [
              "{2: {'model_id': 2,\n",
              "  'rank': 1,\n",
              "  'cost': 0.11428571428571432,\n",
              "  'ensemble_weight': 0.14,\n",
              "  'data_preprocessor': <autosklearn.pipeline.components.data_preprocessing.DataPreprocessorChoice at 0x7fdfdbf96850>,\n",
              "  'balancing': Balancing(random_state=1),\n",
              "  'feature_preprocessor': <autosklearn.pipeline.components.feature_preprocessing.FeaturePreprocessorChoice at 0x7fdfdc9067f0>,\n",
              "  'classifier': <autosklearn.pipeline.components.classification.ClassifierChoice at 0x7fdfdc39b430>,\n",
              "  'sklearn_classifier': RandomForestClassifier(max_features=2, n_estimators=512, n_jobs=1,\n",
              "                         random_state=1, warm_start=True)},\n",
              " 3: {'model_id': 3,\n",
              "  'rank': 2,\n",
              "  'cost': 0.08571428571428574,\n",
              "  'ensemble_weight': 0.08,\n",
              "  'data_preprocessor': <autosklearn.pipeline.components.data_preprocessing.DataPreprocessorChoice at 0x7fdfdc321760>,\n",
              "  'balancing': Balancing(random_state=1, strategy='weighting'),\n",
              "  'feature_preprocessor': <autosklearn.pipeline.components.feature_preprocessing.FeaturePreprocessorChoice at 0x7fdfdc37e400>,\n",
              "  'classifier': <autosklearn.pipeline.components.classification.ClassifierChoice at 0x7fdfdc37bbe0>,\n",
              "  'sklearn_classifier': RandomForestClassifier(max_features=1, min_samples_split=6, n_estimators=512,\n",
              "                         n_jobs=1, random_state=1, warm_start=True)},\n",
              " 4: {'model_id': 4,\n",
              "  'rank': 3,\n",
              "  'cost': 0.11428571428571432,\n",
              "  'ensemble_weight': 0.12,\n",
              "  'data_preprocessor': <autosklearn.pipeline.components.data_preprocessing.DataPreprocessorChoice at 0x7fdfdc325af0>,\n",
              "  'balancing': Balancing(random_state=1),\n",
              "  'feature_preprocessor': <autosklearn.pipeline.components.feature_preprocessing.FeaturePreprocessorChoice at 0x7fdfdaee11f0>,\n",
              "  'classifier': <autosklearn.pipeline.components.classification.ClassifierChoice at 0x7fdfdc3cea00>,\n",
              "  'sklearn_classifier': RandomForestClassifier(max_features=2, min_samples_leaf=15, min_samples_split=3,\n",
              "                         n_estimators=512, n_jobs=1, random_state=1,\n",
              "                         warm_start=True)},\n",
              " 5: {'model_id': 5,\n",
              "  'rank': 4,\n",
              "  'cost': 0.17142857142857137,\n",
              "  'ensemble_weight': 0.2,\n",
              "  'data_preprocessor': <autosklearn.pipeline.components.data_preprocessing.DataPreprocessorChoice at 0x7fdfdc393ee0>,\n",
              "  'balancing': Balancing(random_state=1, strategy='weighting'),\n",
              "  'feature_preprocessor': <autosklearn.pipeline.components.feature_preprocessing.FeaturePreprocessorChoice at 0x7fdfdbbda160>,\n",
              "  'classifier': <autosklearn.pipeline.components.classification.ClassifierChoice at 0x7fdfdc18a8e0>,\n",
              "  'sklearn_classifier': PassiveAggressiveClassifier(C=2.6029223727861803e-05, loss='squared_hinge',\n",
              "                              max_iter=1024, random_state=1,\n",
              "                              tol=4.631073253805713e-05, warm_start=True)},\n",
              " 6: {'model_id': 6,\n",
              "  'rank': 5,\n",
              "  'cost': 0.1428571428571429,\n",
              "  'ensemble_weight': 0.02,\n",
              "  'data_preprocessor': <autosklearn.pipeline.components.data_preprocessing.DataPreprocessorChoice at 0x7fdfdc374190>,\n",
              "  'balancing': Balancing(random_state=1),\n",
              "  'feature_preprocessor': <autosklearn.pipeline.components.feature_preprocessing.FeaturePreprocessorChoice at 0x7fdfdc0c4160>,\n",
              "  'classifier': <autosklearn.pipeline.components.classification.ClassifierChoice at 0x7fdfdc0c49a0>,\n",
              "  'sklearn_classifier': RandomForestClassifier(criterion='entropy', max_features=14, n_estimators=512,\n",
              "                         n_jobs=1, random_state=1, warm_start=True)},\n",
              " 7: {'model_id': 7,\n",
              "  'rank': 6,\n",
              "  'cost': 0.08571428571428574,\n",
              "  'ensemble_weight': 0.02,\n",
              "  'data_preprocessor': <autosklearn.pipeline.components.data_preprocessing.DataPreprocessorChoice at 0x7fdfdc284640>,\n",
              "  'balancing': Balancing(random_state=1, strategy='weighting'),\n",
              "  'feature_preprocessor': <autosklearn.pipeline.components.feature_preprocessing.FeaturePreprocessorChoice at 0x7fdfdbde8b20>,\n",
              "  'classifier': <autosklearn.pipeline.components.classification.ClassifierChoice at 0x7fdfdab24cd0>,\n",
              "  'sklearn_classifier': RandomForestClassifier(criterion='entropy', max_features=1, n_estimators=512,\n",
              "                         n_jobs=1, random_state=1, warm_start=True)},\n",
              " 8: {'model_id': 8,\n",
              "  'rank': 7,\n",
              "  'cost': 0.11428571428571432,\n",
              "  'ensemble_weight': 0.1,\n",
              "  'data_preprocessor': <autosklearn.pipeline.components.data_preprocessing.DataPreprocessorChoice at 0x7fdfdc321c40>,\n",
              "  'balancing': Balancing(random_state=1, strategy='weighting'),\n",
              "  'feature_preprocessor': <autosklearn.pipeline.components.feature_preprocessing.FeaturePreprocessorChoice at 0x7fdfdab24eb0>,\n",
              "  'classifier': <autosklearn.pipeline.components.classification.ClassifierChoice at 0x7fdfdab3c1f0>,\n",
              "  'sklearn_classifier': MLPClassifier(alpha=0.02847755502162456, beta_1=0.999, beta_2=0.9,\n",
              "                hidden_layer_sizes=(123, 123),\n",
              "                learning_rate_init=0.000421568792103947, max_iter=256,\n",
              "                n_iter_no_change=32, random_state=1, validation_fraction=0.0,\n",
              "                verbose=0, warm_start=True)},\n",
              " 9: {'model_id': 9,\n",
              "  'rank': 8,\n",
              "  'cost': 0.1428571428571429,\n",
              "  'ensemble_weight': 0.12,\n",
              "  'data_preprocessor': <autosklearn.pipeline.components.data_preprocessing.DataPreprocessorChoice at 0x7fdfdc0861c0>,\n",
              "  'balancing': Balancing(random_state=1),\n",
              "  'feature_preprocessor': <autosklearn.pipeline.components.feature_preprocessing.FeaturePreprocessorChoice at 0x7fdfda969b20>,\n",
              "  'classifier': <autosklearn.pipeline.components.classification.ClassifierChoice at 0x7fdfda969e80>,\n",
              "  'sklearn_classifier': SVC(C=1198.7850746967626, cache_size=1922.75, gamma=0.015219182148092949,\n",
              "      max_iter=-1.0, random_state=1, tol=0.040610448809956276)},\n",
              " 10: {'model_id': 10,\n",
              "  'rank': 9,\n",
              "  'cost': 0.1428571428571429,\n",
              "  'ensemble_weight': 0.14,\n",
              "  'data_preprocessor': <autosklearn.pipeline.components.data_preprocessing.DataPreprocessorChoice at 0x7fdfdae43be0>,\n",
              "  'balancing': Balancing(random_state=1, strategy='weighting'),\n",
              "  'feature_preprocessor': <autosklearn.pipeline.components.feature_preprocessing.FeaturePreprocessorChoice at 0x7fdfda6b5d60>,\n",
              "  'classifier': <autosklearn.pipeline.components.classification.ClassifierChoice at 0x7fdfda6b5e50>,\n",
              "  'sklearn_classifier': LinearSVC(C=999.897948630207, class_weight='balanced', dual=False,\n",
              "            intercept_scaling=1.0, random_state=1, tol=7.067903490334549e-05)},\n",
              " 12: {'model_id': 12,\n",
              "  'rank': 10,\n",
              "  'cost': 0.08571428571428574,\n",
              "  'ensemble_weight': 0.06,\n",
              "  'data_preprocessor': <autosklearn.pipeline.components.data_preprocessing.DataPreprocessorChoice at 0x7fdfdaad27c0>,\n",
              "  'balancing': Balancing(random_state=1),\n",
              "  'feature_preprocessor': <autosklearn.pipeline.components.feature_preprocessing.FeaturePreprocessorChoice at 0x7fdfda6503a0>,\n",
              "  'classifier': <autosklearn.pipeline.components.classification.ClassifierChoice at 0x7fdfda6504c0>,\n",
              "  'sklearn_classifier': RandomForestClassifier(criterion='entropy', max_features=9, min_samples_leaf=3,\n",
              "                         min_samples_split=12, n_estimators=512, n_jobs=1,\n",
              "                         random_state=1, warm_start=True)}}"
            ]
          },
          "metadata": {},
          "execution_count": 5
        }
      ],
      "source": [
        "\n",
        "cls.show_models()"
      ]
    }
  ],
  "metadata": {
    "kernelspec": {
      "display_name": "Python 3",
      "language": "python",
      "name": "python3"
    },
    "language_info": {
      "codemirror_mode": {
        "name": "ipython",
        "version": 3
      },
      "file_extension": ".py",
      "mimetype": "text/x-python",
      "name": "python",
      "nbconvert_exporter": "python",
      "pygments_lexer": "ipython3",
      "version": "3.8.8"
    },
    "colab": {
      "provenance": []
    }
  },
  "nbformat": 4,
  "nbformat_minor": 5
}